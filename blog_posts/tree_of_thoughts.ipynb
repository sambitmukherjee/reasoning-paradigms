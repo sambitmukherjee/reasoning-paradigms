{
  "nbformat": 4,
  "nbformat_minor": 0,
  "metadata": {
    "colab": {
      "provenance": [],
      "authorship_tag": "ABX9TyNdW+DTnX2XhXgSmVhTqXoc"
    },
    "kernelspec": {
      "name": "python3",
      "display_name": "Python 3"
    },
    "language_info": {
      "name": "python"
    }
  },
  "cells": [
    {
      "cell_type": "markdown",
      "source": [
        "# Understanding and Implementing the *Tree of Thoughts* Paradigm"
      ],
      "metadata": {
        "id": "BJohQD_kC4T9"
      }
    },
    {
      "cell_type": "markdown",
      "source": [
        "## Motivation"
      ],
      "metadata": {
        "id": "ESRqY0wgI_Vz"
      }
    },
    {
      "cell_type": "markdown",
      "source": [
        "The *Tree of Thoughts* (ToT) paper (<a href=\"https://arxiv.org/abs/2305.10601\" target=\"_blank\">Yao et al.</a>) demonstrates how to couple the reasoning capabilities of LLMs with a heuristic-guided tree search framework. But before diving into its implementation, let's set the context.\n",
        "\n",
        "LLMs are designed for autoregressive text generation. This makes them confined to token-level, left-to-right decision-making processes during inference. According to the authors of the ToT paper, this is reminiscent of:\n",
        "\n",
        "- The \"*System 1*\" (fast, automatic, unconscious) mode of thinking in humans.\n",
        "- The associative \"*model-free*\" paradigm in reinforcement learning.\n",
        "\n",
        "Given the right type of prompt, this autoregressive mechanism elicits chain of thought (CoT) reasoning (<a href=\"https://arxiv.org/abs/2201.11903\" target=\"_blank\">Wei et al.</a>), allowing LLMs to tackle a wide range of tasks requiring mathematical, symbolic, commonsense, and knowledge reasoning.\n",
        "\n",
        "However, generating a reasoning trace in a left-to-right manner falls short for tasks that need exploration, strategic lookahead, or where initial decisions play an important role (because future decisions depend on them).\n",
        "\n",
        "In the ToT paper, the authors suggest that left-to-right CoT reasoning might benefit from augmentation by a heuristic-guided tree search framework. This is reminiscent of:\n",
        "\n",
        "- The \"*System 2*\" (slow, deliberate, conscious) mode of thinking in humans.\n",
        "- The paradigm of deliberate \"*model-based*\" planning in reinforcement learning.\n",
        "\n",
        "According to the authors, such a system is characterized by two key features:\n",
        "\n",
        "1. The ability to maintain and explore diverse alternatives for current, i.e., local (node-level) decisions.\n",
        "2. The ability to evaluate each node, and actively look ahead or backtrack to make global decisions.\n",
        "\n",
        "Such a system would be able to consider multiple different reasoning paths, self-evaluate choices to decide the next course of action, as well as look ahead or backtrack when necessary to make global choices.\n",
        "\n",
        "Below is a comparison of the ToT paradigm with three other popular reasoning paradigms."
      ],
      "metadata": {
        "id": "5q250yY7Dqzo"
      }
    },
    {
      "cell_type": "markdown",
      "source": [
        "![](https://storage.googleapis.com/assets-for-blog-posts/ToT_Fig_1.png)"
      ],
      "metadata": {
        "id": "5WvmhHetEObw"
      }
    },
    {
      "cell_type": "markdown",
      "source": [
        "Our objectives in this blog post are the following:\n",
        "\n",
        "1. Understand the *Tree of Thoughts* (ToT) paradigm.\n",
        "2. Implement a reusable `TreeOfThoughts` class.\n",
        "\n",
        "To achieve these, we shall examine two tasks sequentially: *Creative Writing* and *Game of 24*. By understanding how to apply ToT on these tasks (one at a time), we shall build up to our reusable class.\n",
        "\n",
        "**Note:** The ToT paper also covers three additional tasks: *Mini Crosswords*, *GSM8k* and *StrategyQA*. For the sake of brevity, we won't be covering those in this blog post."
      ],
      "metadata": {
        "id": "1QJUNnTJJs3b"
      }
    },
    {
      "cell_type": "markdown",
      "source": [
        "## Setup"
      ],
      "metadata": {
        "id": "zPJhtCNsJ3cm"
      }
    },
    {
      "cell_type": "markdown",
      "source": [
        "We'll need the following imports:"
      ],
      "metadata": {
        "id": "-uU69yGlNbhy"
      }
    },
    {
      "cell_type": "code",
      "source": [
        "from openai import OpenAI\n",
        "from huggingface_hub import InferenceClient\n",
        "from google.colab import userdata # Only if you're using Colab.\n",
        "from typing import Union, Optional, List\n",
        "from collections.abc import Callable\n",
        "import re\n",
        "from collections import deque\n",
        "from IPython.display import display, HTML"
      ],
      "metadata": {
        "id": "ooHDEhvPNeY0"
      },
      "execution_count": 1,
      "outputs": []
    },
    {
      "cell_type": "markdown",
      "source": [
        "We'll try to make our `TreeOfThoughts` class compatible with both OpenAI's *Chat Completions API* and the Hugging Face's *Serverless Inference API*.\n",
        "\n",
        "If you want to use OpenAI, you can create your client as follows:"
      ],
      "metadata": {
        "id": "Qo5yKiyZL3xv"
      }
    },
    {
      "cell_type": "code",
      "execution_count": 2,
      "metadata": {
        "id": "DcvDLU2nC09o"
      },
      "outputs": [],
      "source": [
        "client = OpenAI(api_key=userdata.get('OPENAI_API_KEY'))"
      ]
    },
    {
      "cell_type": "markdown",
      "source": [
        "The ToT paper uses GPT-4 for all experiments. If you want to reproduce the paper's results, stick with the OpenAI option.\n",
        "\n",
        "However, if you prefer to use Hugging Face, you can create your client as follows:"
      ],
      "metadata": {
        "id": "Z5DudqoDOv90"
      }
    },
    {
      "cell_type": "code",
      "source": [
        "# client = InferenceClient(provider=\"hf-inference\", api_key=userdata.get('HF_TOKEN'), headers={'x-use-cache': \"false\"})"
      ],
      "metadata": {
        "id": "r5_FbOREOvaK"
      },
      "execution_count": 3,
      "outputs": []
    },
    {
      "cell_type": "markdown",
      "source": [
        "**Note:** You must turn off caching by passing the following argument: `headers={\"x-use-cache\": \"false\"}`. Otherwise, you'll not be able to generate `n` i.i.d. (independent and identically distributed) responses. (As we shall see, generating `n` i.i.d. responses is required for the *Creative Writing* task.)\n",
        "\n",
        "Now, let's create a bare-bones `Preliminary` class with a `chat_completions` method."
      ],
      "metadata": {
        "id": "RL8Fc0-gPEag"
      }
    },
    {
      "cell_type": "code",
      "source": [
        "class Preliminary:\n",
        "    def __init__(self, client: Union[OpenAI, InferenceClient], model: str = \"gpt-4\"):\n",
        "        self.client = client\n",
        "        self.model = model\n",
        "\n",
        "    # Reference: https://github.com/princeton-nlp/tree-of-thought-llm/blob/master/src/tot/models.py\n",
        "    def chat_completions(\n",
        "            self,\n",
        "            prompt: str,\n",
        "            temperature: float = 0.7,\n",
        "            max_tokens: int = 1000,\n",
        "            n: int = 1,\n",
        "            stop: Optional[List[str]] = None,\n",
        "            **kwargs\n",
        "    ) -> List[str]:\n",
        "        outputs = []\n",
        "        messages = [{'role': \"user\", 'content': prompt}]\n",
        "        if isinstance(self.client, OpenAI):\n",
        "            response = self.client.chat.completions.create(\n",
        "                messages=messages,\n",
        "                model=self.model,\n",
        "                temperature=temperature,\n",
        "                max_tokens=max_tokens,\n",
        "                n=n, # The `n` responses are i.i.d.\n",
        "                stop=stop,\n",
        "                **kwargs\n",
        "            )\n",
        "            outputs.extend([choice.message.content for choice in response.choices])\n",
        "        else: # `self.client` is an instance of `InferenceClient`.\n",
        "            # The Hugging Face API doesn't support the `n` argument. Hence, we need to use a loop to generate `n` i.i.d. responses.\n",
        "            for _ in range(n):\n",
        "                response = self.client.chat.completions.create(\n",
        "                    messages=messages,\n",
        "                    model=self.model,\n",
        "                    temperature=temperature,\n",
        "                    max_tokens=max_tokens,\n",
        "                    stop=stop,\n",
        "                    **kwargs\n",
        "                )\n",
        "                outputs.append(response.choices[0].message.content)\n",
        "        return outputs"
      ],
      "metadata": {
        "id": "aoYG9LW5PfD_"
      },
      "execution_count": 4,
      "outputs": []
    },
    {
      "cell_type": "markdown",
      "source": [
        "Descriptions of the `n` and `stop` parameters (from the <a href=\"https://platform.openai.com/docs/api-reference/chat/create\" target=\"_blank\">OpenAI API documentation</a>):"
      ],
      "metadata": {
        "id": "EcOMgeoRZRXM"
      }
    },
    {
      "cell_type": "markdown",
      "source": [
        "![](https://storage.googleapis.com/assets-for-blog-posts/n.png)"
      ],
      "metadata": {
        "id": "RUDlmenseh-T"
      }
    },
    {
      "cell_type": "markdown",
      "source": [
        "![](https://storage.googleapis.com/assets-for-blog-posts/stop.png)"
      ],
      "metadata": {
        "id": "NmLu0Pg9em3v"
      }
    },
    {
      "cell_type": "markdown",
      "source": [
        "Let's test out the method."
      ],
      "metadata": {
        "id": "Jc-En6D4UjH2"
      }
    },
    {
      "cell_type": "code",
      "source": [
        "prelim = Preliminary(client, model=\"gpt-4\")\n",
        "# prelim = Preliminary(client, model=\"meta-llama/Meta-Llama-3.1-8B-Instruct\")\n",
        "responses = prelim.chat_completions(\"Write a haiku about delicious food.\", n=2)\n",
        "for response in responses: # The two responses are i.i.d.\n",
        "    print(response)\n",
        "    print(\"---\")"
      ],
      "metadata": {
        "colab": {
          "base_uri": "https://localhost:8080/"
        },
        "id": "z7TLGRHyUlSU",
        "outputId": "592f8401-6099-4f4d-fe62-9dbd011322a5"
      },
      "execution_count": 5,
      "outputs": [
        {
          "output_type": "stream",
          "name": "stdout",
          "text": [
            "Savoring each bite,\n",
            "Flavors dance on eager tongues,\n",
            "Feast of joy and light.\n",
            "---\n",
            "Savory delight,\n",
            "Flavors dance upon my tongue,\n",
            "Feast in every bite.\n",
            "---\n"
          ]
        }
      ]
    },
    {
      "cell_type": "markdown",
      "source": [
        "## Creative Writing"
      ],
      "metadata": {
        "id": "uOlb8-ruJ5sK"
      }
    },
    {
      "cell_type": "markdown",
      "source": [
        "In the *Creative Writing* task, the LLM is provided an input sequence comprising four random sentences. The task entails writing a coherent passage with four paragraphs that **end with** the four random sentences, respectively."
      ],
      "metadata": {
        "id": "EgD4kYwTixoD"
      }
    },
    {
      "cell_type": "markdown",
      "source": [
        "![](https://storage.googleapis.com/assets-for-blog-posts/ToT_Table_1_v1.png)"
      ],
      "metadata": {
        "id": "JiT2HshgEWp-"
      }
    },
    {
      "cell_type": "markdown",
      "source": [
        "**Note:** \"*#ToT steps*\" in the above table refers to the number of intermediate steps. As we shall see, for the *Creative Writing* task, there is only one intermediate step: generating a writing plan.\n",
        "\n",
        "The following is an example of an input sequence:"
      ],
      "metadata": {
        "id": "IwqZGbn4H7gO"
      }
    },
    {
      "cell_type": "code",
      "source": [
        "# Reference: https://github.com/princeton-nlp/tree-of-thought-llm/blob/master/src/tot/data/text/data_100_random_text.txt\n",
        "input_seq = \"\"\"1. It isn't difficult to do a handstand if you just stand on your hands.\n",
        "2. It caught him off guard that space smelled of seared steak.\n",
        "3. When she didn’t like a guy who was trying to pick her up, she started using sign language.\n",
        "4. Each person who knows you has a different perception of who you are.\"\"\""
      ],
      "metadata": {
        "id": "wWtzs6jFJ7lG"
      },
      "execution_count": 6,
      "outputs": []
    },
    {
      "cell_type": "markdown",
      "source": [
        "Before diving into ToT, let's see how we might use a zero-shot chain of thought (CoT) approach to solve this problem."
      ],
      "metadata": {
        "id": "6PcIdEe4kNzX"
      }
    },
    {
      "cell_type": "code",
      "source": [
        "# Reference: https://github.com/princeton-nlp/tree-of-thought-llm/blob/master/src/tot/prompts/text.py\n",
        "zero_shot_cot_prompt = f\"\"\"Write a coherent passage of 4 short paragraphs. The end sentence of each paragraph must be:\n",
        "\n",
        "{input_seq}\n",
        "\n",
        "Make a plan then write. Your output should be of the following format:\n",
        "\n",
        "Plan:\n",
        "Your plan here.\n",
        "\n",
        "Passage:\n",
        "Your passage here.\n",
        "\"\"\"\n",
        "print(zero_shot_cot_prompt)"
      ],
      "metadata": {
        "colab": {
          "base_uri": "https://localhost:8080/"
        },
        "id": "aaB5CmUNkcHT",
        "outputId": "85ba1161-a586-4c3a-fe43-cc3f95263fa8"
      },
      "execution_count": 7,
      "outputs": [
        {
          "output_type": "stream",
          "name": "stdout",
          "text": [
            "Write a coherent passage of 4 short paragraphs. The end sentence of each paragraph must be:\n",
            "\n",
            "1. It isn't difficult to do a handstand if you just stand on your hands.\n",
            "2. It caught him off guard that space smelled of seared steak.\n",
            "3. When she didn’t like a guy who was trying to pick her up, she started using sign language.\n",
            "4. Each person who knows you has a different perception of who you are.\n",
            "\n",
            "Make a plan then write. Your output should be of the following format:\n",
            "\n",
            "Plan:\n",
            "Your plan here.\n",
            "\n",
            "Passage:\n",
            "Your passage here.\n",
            "\n"
          ]
        }
      ]
    },
    {
      "cell_type": "markdown",
      "source": [
        "**Note:** You might be wondering how the above is a zero-shot CoT prompt. After all, the famous sentence `\"Let's think step by step.\"` (<a href=\"https://arxiv.org/abs/2205.11916\" target=\"_blank\">Kojima et al.</a>) is missing in the above prompt. Well, the answer is that the sentence `\"Make a plan then write.\"` elicits chain of thought reasoning, i.e., the intermediate step of generating a plan."
      ],
      "metadata": {
        "id": "FiYNQNCfoYQk"
      }
    },
    {
      "cell_type": "code",
      "source": [
        "responses = prelim.chat_completions(zero_shot_cot_prompt, n=1) # Since we're passing `n=1`, we'll get back only one response.\n",
        "print(responses[0])"
      ],
      "metadata": {
        "colab": {
          "base_uri": "https://localhost:8080/"
        },
        "id": "GFmTjK3eoOCo",
        "outputId": "575aed26-e60b-4631-b222-b153ec9170d1"
      },
      "execution_count": 8,
      "outputs": [
        {
          "output_type": "stream",
          "name": "stdout",
          "text": [
            "Plan:\n",
            "My plan is to create a narrative that revolves around an astronaut's experience in space. The first paragraph will include the astronaut's training before the mission, focusing on physical fitness and particularly handstands. In the second paragraph, the astronaut will finally be in space and be surprised by the smell. The third paragraph will introduce a flashback of the astronaut's unique way of dealing with unwanted attention before the mission. The last paragraph will reflect on how these experiences shape different people's perceptions of the astronaut.\n",
            "\n",
            "Passage:\n",
            "As a child, John always had a knack for gymnastics. He was more comfortable in the world upside down, doing handstands and cartwheels, than others were walking on their two feet. His skills would later prove to be beneficial in his career as an astronaut, where physical fitness was a top priority. As he trained for his first mission, he found comfort in the old familiarity of handstands, an exercise that was part of their zero-gravity training. He would often tell his colleagues, \"It isn't difficult to do a handstand if you just stand on your hands.\"\n",
            "\n",
            "When John finally made it to space, it was nothing like he expected. The zero-gravity, the silence, and the view were all breathtaking. But what caught his attention the most was the smell. After removing his helmet inside the spacecraft, a strong, strange aroma filled his nostrils. It was almost like... seared steak. It caught him off guard that space smelled of seared steak.\n",
            "\n",
            "Back on Earth, John was a quiet and reserved man. He disliked the attention he got from being an astronaut, especially from women who were more interested in his status than him. He found a clever way to deal with unwanted advances. He remembered a friend who was deaf and communicated through sign language. When she didn’t like a guy who was trying to pick her up, she started using sign language.\n",
            "\n",
            "To his colleagues, John was a strong and capable astronaut. To the women he rebuffed, he was a strange man who suddenly became mute. To his old gymnastics coach, he was a talented gymnast who could've won medals. Each person had a different story about John, a different perception. Each person who knows you has a different perception of who you are.\n"
          ]
        }
      ]
    },
    {
      "cell_type": "markdown",
      "source": [
        "The LLM generated a plan, followed by a passage.\n",
        "\n",
        "Next, let's see what the `stop` argument does."
      ],
      "metadata": {
        "id": "PgY2T6mo0Hym"
      }
    },
    {
      "cell_type": "code",
      "source": [
        "responses = []\n",
        "stop_string = 'Passage:'\n",
        "for step in range(1, 3):\n",
        "    if step == 1:\n",
        "        response = prelim.chat_completions(zero_shot_cot_prompt, n=1, stop=[stop_string])[0]\n",
        "    else:\n",
        "        response = prelim.chat_completions(zero_shot_cot_prompt, n=1)[0]\n",
        "    responses.append(response)\n",
        "    print(f\"Step {step} output:\\n---\")\n",
        "    print(response)\n",
        "    print(\"---\\n~~~\")"
      ],
      "metadata": {
        "colab": {
          "base_uri": "https://localhost:8080/"
        },
        "id": "SF5xagy30Yzs",
        "outputId": "223bcdf1-909d-4886-ad61-120cd9a06899"
      },
      "execution_count": 9,
      "outputs": [
        {
          "output_type": "stream",
          "name": "stdout",
          "text": [
            "Step 1 output:\n",
            "---\n",
            "Plan:\n",
            "1. Introduce the main character, a gymnast, and describe their training routine.\n",
            "2. Transition to the main character's dream of being an astronaut, introducing the unexpected aspects of that experience.\n",
            "3. Introduce a secondary character and their attempts to flirt with the main character, and the main character's unique way of avoiding it.\n",
            "4. Discuss the overall theme of individual perception and how it applies to the main character.\n",
            "\n",
            "\n",
            "---\n",
            "~~~\n",
            "Step 2 output:\n",
            "---\n",
            "Plan:\n",
            "1. Discuss the simplicity in achieving a seemingly complex task.\n",
            "2. Introduce a character who is an astronaut and describe his surprising experience in space.\n",
            "3. Introduce a female character with an unconventional approach to warding off unwanted attention.\n",
            "4. Conclude with a philosophical reflection on identity and perception.\n",
            "\n",
            "Passage:\n",
            "In life, many tasks may seem daunting at first, but upon closer inspection, they are often much simpler than they first appear. A common example of this is a handstand. To many, the idea of balancing one's entire body weight on their hands seems nearly impossible. But when you break it down, it's all about finding your center of gravity and pushing off with the right amount of force. It isn't difficult to do a handstand if you just stand on your hands.\n",
            "\n",
            "A similar principle can be applied to Robert, an astronaut who had trained for years to venture into the unknown of space. He had prepared for every possible scenario, or so he thought. There was one aspect of space that he hadn't expected. He was aware of the silence, the darkness, and the weightlessness, but he hadn't predicted the smell. It caught him off guard that space smelled of seared steak.\n",
            "\n",
            "Meanwhile, back on Earth, a woman named Sarah was dealing with her own set of unique circumstances. Sarah had a knack for attracting attention, especially from men she had no interest in. Over the years, she developed a unique way of dissuading these unwanted suitors. Instead of simply telling them she wasn't interested, she would start communicating only in sign language. When she didn’t like a guy who was trying to pick her up, she started using sign language.\n",
            "\n",
            "These three stories may seem disconnected, but they all highlight the individuality and unique perception inherent in every person. Each person's experiences and actions shape how others perceive them, and no two perceptions are exactly alike. Just as Sarah used sign language to express her disinterest, Robert was surprised by the smell of space, and you may find handstands easy once you try, people's perceptions of you are shaped by their own unique experiences and interpretations. Each person who knows you has a different perception of who you are.\n",
            "---\n",
            "~~~\n"
          ]
        }
      ]
    },
    {
      "cell_type": "markdown",
      "source": [
        "Here's what happened:\n",
        "\n",
        "- In step `1`, we passed the stop string `'Passage:'`. As soon as the LLM generated this stop string, text generation stopped. Passing this stop string allowed us to generate ONLY the plan.\n",
        "- In step `2`, we didn't pass any stop string. As a result, the LLM generated a plan AND a passage.\n",
        "\n",
        "But notice that the plan in step `2` is generated from scratch. But when using ToT, that's not what we want. Rather, we want step `2` to utilize the plan generated in step `1`. How do we do this?\n",
        "\n",
        "Well, we need to maintain the *state*. But what is a state?\n",
        "\n",
        "A state is simply an accumulation of the *thoughts* generated so far. For all practical purposes, it's a concatenation of all the thoughts so far (separated by `'\\n'`).\n",
        "\n",
        "We need to create a callable that dynamically generates a prompt by appending the state to the *base prompt*."
      ],
      "metadata": {
        "id": "-nUfg0Qi0m2E"
      }
    },
    {
      "cell_type": "code",
      "source": [
        "def get_thought_gen_prompt(input_seq: str, state: str) -> str:\n",
        "    \"\"\"Get thought generation prompt.\n",
        "\n",
        "    Keyword arguments:\n",
        "    input_seq -- the input sequence\n",
        "    state -- concatenation of all the thoughts so far (separated by '\\n')\n",
        "    \"\"\"\n",
        "    # Reference: https://github.com/princeton-nlp/tree-of-thought-llm/blob/master/src/tot/prompts/text.py\n",
        "    base_prompt = f\"\"\"Write a coherent passage of 4 short paragraphs. The end sentence of each paragraph must be:\n",
        "\n",
        "{input_seq}\n",
        "\n",
        "Make a plan then write. Your output should be of the following format:\n",
        "\n",
        "Plan:\n",
        "Your plan here.\n",
        "\n",
        "Passage:\n",
        "Your passage here.\n",
        "\"\"\"\n",
        "    if state == '': # Root node; no thoughts have been generated yet.\n",
        "        return base_prompt\n",
        "    else:\n",
        "        return base_prompt + '\\n' + state"
      ],
      "metadata": {
        "id": "sq7gxhSe3ItZ"
      },
      "execution_count": 10,
      "outputs": []
    },
    {
      "cell_type": "markdown",
      "source": [
        "Now, let's simulate generating a plan (in step `1`) followed by a passage (in step `2`), where the prompt for step `2` utilizes the state of step `1`."
      ],
      "metadata": {
        "id": "lBdWbye83Oqx"
      }
    },
    {
      "cell_type": "code",
      "source": [
        "states = ['']\n",
        "thoughts = ['']\n",
        "n_steps = 2 # 1 intermediate step + 1 output generation step.\n",
        "for step in range(1, n_steps + 1):\n",
        "    prompt = get_thought_gen_prompt(input_seq, states[-1])\n",
        "    print(f\"Step {step} prompt:\\n---\")\n",
        "    print(f\"{prompt}\\n---\")\n",
        "    if step == 1:\n",
        "        thought = prelim.chat_completions(prompt, n=1, stop=[stop_string])[0]\n",
        "    else:\n",
        "        thought = prelim.chat_completions(prompt, n=1)[0]\n",
        "    thoughts.append(thought)\n",
        "    if states[-1] == '':\n",
        "        updated_state = thought\n",
        "    else:\n",
        "        updated_state = states[-1] + '\\n' + thought\n",
        "    states.append(updated_state)\n",
        "    print(f\"Step {step} updated state:\\n---\")\n",
        "    print(states[-1])\n",
        "    print(\"---\\n~~~\")"
      ],
      "metadata": {
        "colab": {
          "base_uri": "https://localhost:8080/"
        },
        "id": "Zq20olSh3kCB",
        "outputId": "9ffb394b-424e-4dd1-f540-72e717d129b4"
      },
      "execution_count": 11,
      "outputs": [
        {
          "output_type": "stream",
          "name": "stdout",
          "text": [
            "Step 1 prompt:\n",
            "---\n",
            "Write a coherent passage of 4 short paragraphs. The end sentence of each paragraph must be:\n",
            "\n",
            "1. It isn't difficult to do a handstand if you just stand on your hands.\n",
            "2. It caught him off guard that space smelled of seared steak.\n",
            "3. When she didn’t like a guy who was trying to pick her up, she started using sign language.\n",
            "4. Each person who knows you has a different perception of who you are.\n",
            "\n",
            "Make a plan then write. Your output should be of the following format:\n",
            "\n",
            "Plan:\n",
            "Your plan here.\n",
            "\n",
            "Passage:\n",
            "Your passage here.\n",
            "\n",
            "---\n",
            "Step 1 updated state:\n",
            "---\n",
            "Plan:\n",
            "In the first paragraph, I'll introduce a character who is a gymnast. The second paragraph will shift to this character's dream of being an astronaut, and the surprising revelation he has while in space. The third paragraph will introduce a new character, a woman who cleverly avoids unwanted attention. The final paragraph will tie the two characters together, exploring their perspectives of each other.\n",
            "\n",
            "\n",
            "---\n",
            "~~~\n",
            "Step 2 prompt:\n",
            "---\n",
            "Write a coherent passage of 4 short paragraphs. The end sentence of each paragraph must be:\n",
            "\n",
            "1. It isn't difficult to do a handstand if you just stand on your hands.\n",
            "2. It caught him off guard that space smelled of seared steak.\n",
            "3. When she didn’t like a guy who was trying to pick her up, she started using sign language.\n",
            "4. Each person who knows you has a different perception of who you are.\n",
            "\n",
            "Make a plan then write. Your output should be of the following format:\n",
            "\n",
            "Plan:\n",
            "Your plan here.\n",
            "\n",
            "Passage:\n",
            "Your passage here.\n",
            "\n",
            "Plan:\n",
            "In the first paragraph, I'll introduce a character who is a gymnast. The second paragraph will shift to this character's dream of being an astronaut, and the surprising revelation he has while in space. The third paragraph will introduce a new character, a woman who cleverly avoids unwanted attention. The final paragraph will tie the two characters together, exploring their perspectives of each other.\n",
            "\n",
            "\n",
            "---\n",
            "Step 2 updated state:\n",
            "---\n",
            "Plan:\n",
            "In the first paragraph, I'll introduce a character who is a gymnast. The second paragraph will shift to this character's dream of being an astronaut, and the surprising revelation he has while in space. The third paragraph will introduce a new character, a woman who cleverly avoids unwanted attention. The final paragraph will tie the two characters together, exploring their perspectives of each other.\n",
            "\n",
            "\n",
            "Passage:\n",
            "Matthew had always been nimble, even as a boy. He had a knack for gymnastics, and his specialty was doing handstands. He would often say to his friends who marveled at his skill, \"It's all about balance and strength. It isn't difficult to do a handstand if you just stand on your hands.\"\n",
            "\n",
            "As Matthew grew older, his passion for gymnastics remained, but his dreams reached for the stars. He wanted to become an astronaut. He trained relentlessly, and finally, he found himself floating in the weightlessness of space. The first time he took off his helmet inside the spaceship, he was taken aback. It caught him off guard that space smelled of seared steak.\n",
            "\n",
            "Back on earth, there was a woman named Emily. She was vibrant and witty, but often found herself the target of unwanted attention. Whenever a man tried to harass her or make her uncomfortable, she had a trick up her sleeve. When she didn’t like a guy who was trying to pick her up, she started using sign language.\n",
            "\n",
            "Emily and Matthew were friends. They had met at a mutual friend's party and hit it off. Emily saw Matthew as a dreamer, always reaching for the stars, while Matthew saw Emily as a quick-witted, independent woman. They had different perceptions of each other, but that wasn't strange. After all, each person who knows you has a different perception of who you are.\n",
            "---\n",
            "~~~\n"
          ]
        }
      ]
    },
    {
      "cell_type": "markdown",
      "source": [
        "It works!\n",
        "\n",
        "Now, let's dive into ToT. A node is defined as follows:"
      ],
      "metadata": {
        "id": "RgfQiury3ywT"
      }
    },
    {
      "cell_type": "code",
      "source": [
        "class TreeNode:\n",
        "    def __init__(self, state: str, thought: str, value: float = None):\n",
        "        self.state = state\n",
        "        self.thought = thought\n",
        "        self.value = value\n",
        "        self.children = []"
      ],
      "metadata": {
        "id": "TnnF-cDe32zj"
      },
      "execution_count": 12,
      "outputs": []
    },
    {
      "cell_type": "markdown",
      "source": [
        "We shall implement ToT with a multi-way tree data structure. In other words, each node is allowed to have more than two children. Hence, the `children` attribute is a list. (**Note:** Although using an explicit data structure isn't strictly required for ToT, it makes it easier to understand the algorithm and visualize the tree.)\n",
        "\n",
        "But what exactly is a *thought*? From the paper:\n",
        "\n",
        "> \"*While CoT samples thoughts coherently without explicit decomposition,\n",
        "ToT leverages problem properties to design and decompose intermediate thought steps.*\"\n",
        "\n",
        "In other words, we need to precisely define what an *intermediate thought* is, and what an *output* is. In the *Creative Writing* task, an intermediate thought is a writing plan. And an output is a passage...\n",
        "\n",
        "As noted previously, a *state* is simply a concatenation of all the thoughts so far (separated by `'\\n'`).\n",
        "\n",
        "A *value* is a heuristic assigned to a particular state. Values are used to prune nodes which aren't promising.\n",
        "\n",
        "For the *Creative Writing* task, a customized version of the Breadth-First Search (BFS) algorithm is used. Here's how it works:\n",
        "\n",
        "1. Execution starts at the `root` node. Here, the thought is an empty string, and so is the state (since no thoughts have been generated yet). The root node can be considered level `0` of the tree.\n",
        "2. Now, it's time for step `1`. A *thought generator* is used to generate `n_candidates` i.i.d. intermediate thoughts (plans). Each of these thoughts is a child of the root node. These nodes together form level `1` of the tree. (For the *Creative Writing* task, the authors have chosen to set `n_candidates` to `5`.)\n",
        "3. A *state evaluator* is used to vote `n_evals` times on the plans. (For the *Creative Writing* task, the authors have chosen to set `n_evals` to `5`).\n",
        "4. A *heuristic calculator* is used to collate these votes, and assign a heuristic to each plan. (The heuristic is simply the total number of votes received by a plan.)\n",
        "5. Time to prune. The parameter `breadth_limit` refers to the number of most promising states to retain (after pruning) - at each level of the tree. (For the *Creative Writing* task, the authors have chosen to set `breadth_limit` to `1`. As a result, only the best plan is retained.)\n",
        "6. Now, it's time for step `2`. In this step, execution proceeds exactly like in points 2, 3, 4, and 5 above. In other words, the thought generator generates `5` outputs (passages). These nodes together form level `2` of the tree. The state evaluator votes `5` times on them. The heuristic calculator collates the votes, and assigns a value to each node. Pruning is used to retain the winning passage.\n",
        "\n",
        "The following is a pictorial summary of the above:"
      ],
      "metadata": {
        "id": "vs8KqYcMoljM"
      }
    },
    {
      "cell_type": "markdown",
      "source": [
        "![](https://storage.googleapis.com/assets-for-blog-posts/ToT_Fig_4.png)"
      ],
      "metadata": {
        "id": "ofQdv7hUEdjh"
      }
    },
    {
      "cell_type": "markdown",
      "source": [
        "For the *Creative Writing* task, the thought generation strategy used is `'sample'`. This means that `n_candidates` thoughts are sampled in an i.i.d. manner. From the paper:\n",
        "\n",
        "> \"*This strategy works better when the thought space is rich (e.g., each thought is a paragraph), and i.i.d. samples lead to diversity.*\"\n",
        "\n",
        "(We shall see that for the *Game of 24* task, a different thought generation strategy is used: `'propose'`. More on this later...)\n",
        "\n",
        "For the *Creative Writing* task, the state evaluation strategy used is `'vote'`. From the paper:\n",
        "\n",
        "> \"*When problem success is harder to directly value (e.g., passage coherency), it is natural to instead compare different partial solutions and vote for the most promising one.*\"\n",
        "\n",
        "(We shall see that for the *Game of 24* task, a different state evaluation strategy is used: `'value'`. More on this later...)\n",
        "\n",
        "It turns out that the state evaluator is the LLM itself. However, it (obviously) needs a different prompt than the thought generator. The state evaluation prompt is given by the following callable:"
      ],
      "metadata": {
        "id": "nMtm9dXAJKaC"
      }
    },
    {
      "cell_type": "code",
      "source": [
        "def get_state_eval_prompt(input_seq: str, states: List[str]) -> str:\n",
        "    \"\"\"Get state evaluation prompt.\n",
        "\n",
        "    Keyword arguments:\n",
        "    input_seq -- the input sequence\n",
        "    states -- the states to vote on\n",
        "    \"\"\"\n",
        "    # Reference: https://github.com/princeton-nlp/tree-of-thought-llm/blob/master/src/tot/prompts/text.py\n",
        "    vote_prompt = '''Given an instruction and several choices, decide which choice is most promising. Analyze each choice in detail, then conclude in the last line \"The best choice is {s}\", where s the integer id of the choice.'''\n",
        "    instruction = f\"\"\"Write a coherent passage of 4 short paragraphs. The end sentence of each paragraph must be:\n",
        "\n",
        "{input_seq}\n",
        "\n",
        "Make a plan then write. Your output should be of the following format:\n",
        "\n",
        "Plan:\n",
        "Your plan here.\n",
        "\n",
        "Passage:\n",
        "Your passage here.\n",
        "\"\"\"\n",
        "    prompt = vote_prompt + '\\n\\nInstruction:\\n' + instruction + '\\n'\n",
        "    # Reference: https://github.com/princeton-nlp/tree-of-thought-llm/blob/master/src/tot/tasks/text.py\n",
        "    for i, state in enumerate(states, start=1):\n",
        "        prompt += f'Choice {i}:\\n{state}\\n'\n",
        "    return prompt"
      ],
      "metadata": {
        "id": "JNO2bzPN_m35"
      },
      "execution_count": 13,
      "outputs": []
    },
    {
      "cell_type": "markdown",
      "source": [
        "Don't worry if the above function seems unclear. We shall properly inspect the state evaluation prompt below.\n",
        "\n",
        "For the *Creative Writing* task, the *heuristic calculator* is given by the following callable:"
      ],
      "metadata": {
        "id": "YF0VL9IvAoXJ"
      }
    },
    {
      "cell_type": "code",
      "source": [
        "# Reference: https://github.com/princeton-nlp/tree-of-thought-llm/blob/master/src/tot/tasks/text.py\n",
        "def heuristic_calculator(states: List[str], state_evals: List[str]) -> List[int]:\n",
        "    n_candidates = len(states)\n",
        "    vote_results = [0] * n_candidates\n",
        "    for j in range(len(state_evals)):\n",
        "        pattern = r\".*best choice is .*(\\d+).*\"\n",
        "        match = re.match(pattern, state_evals[j], re.DOTALL)\n",
        "        if match:\n",
        "            vote = int(match.groups()[0]) - 1\n",
        "            if vote in range(n_candidates):\n",
        "                vote_results[vote] += 1\n",
        "        else:\n",
        "            print(f'Warning! Did not get a regex match for the following state evaluation:\\n{state_evals[j]}')\n",
        "    return vote_results"
      ],
      "metadata": {
        "id": "k6GM2NfeBpUJ"
      },
      "execution_count": 14,
      "outputs": []
    },
    {
      "cell_type": "markdown",
      "source": [
        "Once again, don't worry if the above function seems cryptic. We shall examine it in detail below.\n",
        "\n",
        "For the moment, let's proceed to write the `TreeOfThoughts` class for the *Creative Writing Task*. It contains the following methods:\n",
        "\n",
        "- `__init__`\n",
        "- `chat_completions`\n",
        "- `thought_generator`\n",
        "- `state_evaluator`\n",
        "- `bfs`\n",
        "- `generate_html_tree` (a utility to generate an HTML representation of the tree)\n",
        "- `render_html_tree` (a utility to plot an HTML representation of the tree)"
      ],
      "metadata": {
        "id": "XWa3fQ15By27"
      }
    },
    {
      "cell_type": "code",
      "source": [
        "class TreeOfThoughts:\n",
        "    def __init__(\n",
        "            self,\n",
        "            client: Union[OpenAI, InferenceClient],\n",
        "            model: str,\n",
        "            input_seq: str,\n",
        "            get_thought_gen_prompt: Callable,\n",
        "            get_state_eval_prompt: Callable,\n",
        "            heuristic_calculator: Callable\n",
        "    ):\n",
        "        self.client = client\n",
        "        self.model = model # e.g., \"gpt-4\" if using `OpenAI` and \"meta-llama/Meta-Llama-3.1-8B-Instruct\" if using `InferenceClient`.\n",
        "        self.input_seq = input_seq # Note: `input_seq` contains the input sequence (\"x\" in the ToT paper), before wrapping it with a prompt.\n",
        "        self.root = TreeNode(state='', thought='')\n",
        "        self.n_steps = 2 # 1 intermediate step + 1 output generation step.\n",
        "        # Note: The tree height is equal to `n_steps + 1`. That is, we include the root node when calculating the tree height.\n",
        "        self.thought_gen_strategy = 'sample'\n",
        "        self.get_thought_gen_prompt = get_thought_gen_prompt\n",
        "        self.n_candidates = 5 # The number of candidates (thoughts) to generate from a particular node. Also referred to as \"size limit\" and \"k\" in the ToT paper.\n",
        "        self.stop_string = 'Passage:'\n",
        "        self.state_eval_strategy = 'vote'\n",
        "        self.get_state_eval_prompt = get_state_eval_prompt\n",
        "        self.n_evals = 5 # The number of times to vote on the states.\n",
        "        self.heuristic_calculator = heuristic_calculator\n",
        "        self.breadth_limit = 1 # The number of most promising states to retain (after pruning) - at each level of the tree.\n",
        "\n",
        "    # Reference: https://github.com/princeton-nlp/tree-of-thought-llm/blob/master/src/tot/models.py\n",
        "    def chat_completions(\n",
        "            self,\n",
        "            prompt: str,\n",
        "            temperature: float = 0.7,\n",
        "            max_tokens: int = 1000,\n",
        "            n: int = 1,\n",
        "            stop: Optional[List[str]] = None,\n",
        "            **kwargs\n",
        "    ) -> List[str]:\n",
        "        outputs = []\n",
        "        messages = [{'role': \"user\", 'content': prompt}]\n",
        "        if isinstance(self.client, OpenAI):\n",
        "            response = self.client.chat.completions.create(\n",
        "                messages=messages,\n",
        "                model=self.model,\n",
        "                temperature=temperature,\n",
        "                max_tokens=max_tokens,\n",
        "                n=n, # The `n` responses are i.i.d.\n",
        "                stop=stop,\n",
        "                **kwargs\n",
        "            )\n",
        "            outputs.extend([choice.message.content for choice in response.choices])\n",
        "        else: # `self.client` is an instance of `InferenceClient`.\n",
        "            # The Hugging Face API doesn't support the `n` argument. Hence, we need to use a loop to generate `n` i.i.d. responses.\n",
        "            for _ in range(n):\n",
        "                response = self.client.chat.completions.create(\n",
        "                    messages=messages,\n",
        "                    model=self.model,\n",
        "                    temperature=temperature,\n",
        "                    max_tokens=max_tokens,\n",
        "                    stop=stop,\n",
        "                    **kwargs\n",
        "                )\n",
        "                outputs.append(response.choices[0].message.content)\n",
        "        return outputs\n",
        "\n",
        "    def thought_generator(self, state: str, stop_string: Optional[List[str]] = None) -> List[str]:\n",
        "        if self.thought_gen_strategy == 'sample':\n",
        "            prompt = self.get_thought_gen_prompt(self.input_seq, state)\n",
        "            thoughts = self.chat_completions(prompt, n=self.n_candidates, stop=stop_string)\n",
        "            return thoughts\n",
        "        else: # `self.thought_gen_strategy` is equal to 'propose'.\n",
        "            pass\n",
        "\n",
        "    def state_evaluator(self, states: List[str]) -> List[float]:\n",
        "        if self.state_eval_strategy == 'vote':\n",
        "            prompt = self.get_state_eval_prompt(self.input_seq, states)\n",
        "            state_evals = self.chat_completions(prompt, n=self.n_evals)\n",
        "            vote_results = self.heuristic_calculator(states, state_evals)\n",
        "            return vote_results\n",
        "        else: # `self.state_eval_strategy` is equal to 'value'.\n",
        "            pass\n",
        "\n",
        "    # Reference: https://github.com/princeton-nlp/tree-of-thought-llm/blob/master/src/tot/methods/bfs.py\n",
        "    def bfs(self, verbose: bool = True) -> str:\n",
        "        queue = deque()\n",
        "        queue.append(self.root)\n",
        "\n",
        "        for step in range(1, self.n_steps + 1):\n",
        "            if verbose:\n",
        "                print(f\"Step {step} (corresponding to level {step} of the tree):-\\n---\")\n",
        "            for i in range(len(queue)):\n",
        "                node = queue.popleft()\n",
        "                if verbose:\n",
        "                    print(f\"Node {i + 1} in level {step}:-\")\n",
        "                    if node.state != \"\":\n",
        "                        print(f\"State of current node:-\\n{node.state}\\n---\")\n",
        "                    else:\n",
        "                        print(\"State of current node:-\\n<EMPTY STRING> (root node; no thoughts generated yet)\\n---\")\n",
        "\n",
        "                if step == 1:\n",
        "                    thoughts = self.thought_generator(state=node.state, stop_string=[self.stop_string])\n",
        "                else:\n",
        "                    thoughts = self.thought_generator(state=node.state)\n",
        "                if node.state == '':\n",
        "                    updated_states = thoughts\n",
        "                else:\n",
        "                    updated_states = [node.state + '\\n' + thought for thought in thoughts]\n",
        "                for j in range(len(thoughts)):\n",
        "                    if verbose:\n",
        "                        print(f\"Thought candidate {j + 1}:-\\n{thoughts[j]}\\n---\")\n",
        "                    child = TreeNode(state=updated_states[j], thought=thoughts[j])\n",
        "                    node.children.append(child)\n",
        "                    queue.append(child)\n",
        "                if verbose:\n",
        "                    print(\"Each of the above thought candidates has been added as a child of the current node.\\n---\")\n",
        "\n",
        "            if verbose:\n",
        "                print(\"Using the state evaluator to obtain values...\\n---\")\n",
        "            states = [node.state for node in queue]\n",
        "            values = self.state_evaluator(states=states)\n",
        "            for i in range(len(queue)):\n",
        "                queue[i].value = values[i]\n",
        "                if verbose:\n",
        "                    print(f\"Element {i + 1} in queue:-\\n\")\n",
        "                    print(f\"Value: {queue[i].value}\\n---\")\n",
        "\n",
        "            if verbose:\n",
        "                print(\"Initiating pruning (using the values obtained from the state evaluator).\")\n",
        "                print(f\"Number of elements in queue: {len(queue)}\")\n",
        "            sorted_nodes = sorted(queue, key=lambda node: node.value, reverse=True)\n",
        "            if step == self.n_steps:\n",
        "                if verbose:\n",
        "                    print(\"Since this is the last step, setting the breadth limit to 1.\")\n",
        "                    print(\"In other words, retaining only the highest value element (in this last step).\\n---\")\n",
        "                top_b_nodes = sorted_nodes[:1]\n",
        "            else:\n",
        "                if verbose:\n",
        "                    print(f\"Since this isn't the last step, leaving the breadth limit {self.breadth_limit} unchanged.\\n---\")\n",
        "                top_b_nodes = sorted_nodes[:self.breadth_limit]\n",
        "            top_b_states = [node.state for node in top_b_nodes]\n",
        "            for i in range(len(queue)):\n",
        "                node = queue.popleft()\n",
        "                if verbose:\n",
        "                    print(f\"Element {i + 1} in queue:-\\n\")\n",
        "                if node.state in top_b_states:\n",
        "                    if verbose:\n",
        "                        print(f\"Retaining this element as it's in the top {len(top_b_states)} elements.\\n---\")\n",
        "                    queue.append(node)\n",
        "                else:\n",
        "                    if verbose:\n",
        "                        print(f\"Dropping this element as it's not in the top {len(top_b_states)} elements.\\n---\")\n",
        "\n",
        "            if verbose:\n",
        "                print(\"~~~\")\n",
        "\n",
        "        # Return the thought of the highest value node (from the last step):\n",
        "        node = queue.popleft()\n",
        "        return node.thought\n",
        "\n",
        "    def generate_html_tree(self, node: TreeNode) -> str:\n",
        "        if node is None:\n",
        "            return \"\"\n",
        "        else:\n",
        "            html = f\"\"\"<div class='node'>\n",
        "<p>State:<br>{node.state}</p>\n",
        "<hr>\n",
        "<p>Thought:<br>{node.thought}</p>\n",
        "<hr>\n",
        "<p>Value:<br>{node.value}</p>\"\"\"\n",
        "            for child in node.children:\n",
        "                html += f\"\"\"<div class='child'>{self.generate_html_tree(child)}</div>\"\"\"\n",
        "            html += \"\"\"</div>\"\"\"\n",
        "            return html\n",
        "\n",
        "    def render_html_tree(self):\n",
        "        html_tree = self.generate_html_tree(self.root)\n",
        "        wrapped_html = f\"\"\"<!DOCTYPE html>\n",
        "<html>\n",
        "<head>\n",
        "    <style>\n",
        "        .node {{\n",
        "            display: inline-block;\n",
        "            border: 1px solid blue;\n",
        "            padding: 10px;\n",
        "            margin: 5px;\n",
        "            text-align: center;\n",
        "        }}\n",
        "        .child {{\n",
        "            display: flex;\n",
        "        }}\n",
        "    </style>\n",
        "</head>\n",
        "<body>\n",
        "    {html_tree}\n",
        "</body>\n",
        "</html>\"\"\"\n",
        "        display(HTML(wrapped_html))"
      ],
      "metadata": {
        "id": "DUM7G3IkCJsG"
      },
      "execution_count": 15,
      "outputs": []
    },
    {
      "cell_type": "markdown",
      "source": [
        "Let's instantiate our class."
      ],
      "metadata": {
        "id": "szD3GmHtFCyV"
      }
    },
    {
      "cell_type": "code",
      "source": [
        "tot = TreeOfThoughts(client, \"gpt-4\", input_seq, get_thought_gen_prompt, get_state_eval_prompt, heuristic_calculator)"
      ],
      "metadata": {
        "id": "Yq8c1wGfFFSI"
      },
      "execution_count": 16,
      "outputs": []
    },
    {
      "cell_type": "markdown",
      "source": [
        "But before we run the BFS algorithm, let's slow down a bit, and simulate thought generation in step 1."
      ],
      "metadata": {
        "id": "aHhW22EgFJs7"
      }
    },
    {
      "cell_type": "code",
      "source": [
        "state = tot.root.state\n",
        "thoughts = tot.thought_generator(state=state, stop_string=[tot.stop_string])\n",
        "if state == '':\n",
        "    updated_states = thoughts\n",
        "else:\n",
        "    updated_states = [state + '\\n' + thought for thought in thoughts]\n",
        "len(updated_states)"
      ],
      "metadata": {
        "colab": {
          "base_uri": "https://localhost:8080/"
        },
        "id": "VczE3ObqFWHD",
        "outputId": "93d4958e-4acc-4b02-9678-16d72bba82a8"
      },
      "execution_count": 17,
      "outputs": [
        {
          "output_type": "execute_result",
          "data": {
            "text/plain": [
              "5"
            ]
          },
          "metadata": {},
          "execution_count": 17
        }
      ]
    },
    {
      "cell_type": "markdown",
      "source": [
        "`5` thoughts have been generated. Let's take a look at them."
      ],
      "metadata": {
        "id": "BunLmLbOFiJ_"
      }
    },
    {
      "cell_type": "code",
      "source": [
        "for j in range(len(thoughts)):\n",
        "    print(f\"Thought candidate {j + 1}:-\")\n",
        "    print(thoughts[j])\n",
        "    print(\"---\\n\")"
      ],
      "metadata": {
        "colab": {
          "base_uri": "https://localhost:8080/"
        },
        "id": "Bemttc3oFYUN",
        "outputId": "19618d1e-ddf6-4530-d6be-a5f46e1dc1b9"
      },
      "execution_count": 18,
      "outputs": [
        {
          "output_type": "stream",
          "name": "stdout",
          "text": [
            "Thought candidate 1:-\n",
            "Plan:\n",
            "1. Introduce a young boy learning acrobats and his ease in performing handstands.\n",
            "2. Transition to a different character, an astronaut who experiences the strange smell of space.\n",
            "3. Shift the narrative to a woman in a bar who uses sign language to ward off unwanted attention.\n",
            "4. Conclude with a reflection on the varying perceptions of these characters by the people in their lives.\n",
            "\n",
            "\n",
            "---\n",
            "\n",
            "Thought candidate 2:-\n",
            "Plan:\n",
            "1. The first paragraph will detail the narrator's attempt at learning how to do a handstand. \n",
            "2. The second paragraph will transition to the narrator's dream of becoming an astronaut and his experiences in a simulated environment.\n",
            "3. The third paragraph will delve into a romantic situation involving a woman who uses sign language as a way to deflect unwanted attention.\n",
            "4. The fourth paragraph will reflect on the different perceptions people have of the narrator, in light of his experiences and actions.\n",
            "\n",
            "\n",
            "---\n",
            "\n",
            "Thought candidate 3:-\n",
            "Plan:\n",
            "1. Begin with a discussion on a gymnastics class, focusing on the instructor teaching how to do a handstand.\n",
            "2. Transition to a character's first experience in space, with an unexpected sensory experience.\n",
            "3. Introduce a new character who has a unique way of dealing with unwanted attention.\n",
            "4. Conclude with a reflection on the nature of personal identity and perception.\n",
            "\n",
            "\n",
            "---\n",
            "\n",
            "Thought candidate 4:-\n",
            "Plan:\n",
            "In this passage, I will begin by talking about a gymnastics class where the instructor is teaching how to do a handstand. Then, the passage will transition to a man who is experiencing space for the first time and is surprised by what he senses. The third paragraph will introduce a woman who has a unique way of dealing with unwanted attention. Lastly, I will conclude with a commentary on how everyone has their own unique perception of us.\n",
            "\n",
            "\n",
            "---\n",
            "\n",
            "Thought candidate 5:-\n",
            "Plan:\n",
            "1. Introduce a character who is trying to learn a handstand.\n",
            "2. Transition to the character's dream of becoming an astronaut, leading to a surprising fact about space.\n",
            "3. Introduce another character, a woman, who has developed an interesting strategy to avoid unwanted advances.\n",
            "4. Conclude with a reflection on the nature of perception and identity.\n",
            "\n",
            "\n",
            "---\n",
            "\n"
          ]
        }
      ]
    },
    {
      "cell_type": "markdown",
      "source": [
        "Next, as promised, let's properly inspect the state evaluation prompt."
      ],
      "metadata": {
        "id": "npqRnhLTFypd"
      }
    },
    {
      "cell_type": "code",
      "source": [
        "prompt = tot.get_state_eval_prompt(tot.input_seq, updated_states)\n",
        "print(prompt)"
      ],
      "metadata": {
        "colab": {
          "base_uri": "https://localhost:8080/"
        },
        "id": "FYarMKlbGRGP",
        "outputId": "686a2709-1c0f-431e-ff19-ad7a3391756e"
      },
      "execution_count": 19,
      "outputs": [
        {
          "output_type": "stream",
          "name": "stdout",
          "text": [
            "Given an instruction and several choices, decide which choice is most promising. Analyze each choice in detail, then conclude in the last line \"The best choice is {s}\", where s the integer id of the choice.\n",
            "\n",
            "Instruction:\n",
            "Write a coherent passage of 4 short paragraphs. The end sentence of each paragraph must be:\n",
            "\n",
            "1. It isn't difficult to do a handstand if you just stand on your hands.\n",
            "2. It caught him off guard that space smelled of seared steak.\n",
            "3. When she didn’t like a guy who was trying to pick her up, she started using sign language.\n",
            "4. Each person who knows you has a different perception of who you are.\n",
            "\n",
            "Make a plan then write. Your output should be of the following format:\n",
            "\n",
            "Plan:\n",
            "Your plan here.\n",
            "\n",
            "Passage:\n",
            "Your passage here.\n",
            "\n",
            "Choice 1:\n",
            "Plan:\n",
            "1. Introduce a young boy learning acrobats and his ease in performing handstands.\n",
            "2. Transition to a different character, an astronaut who experiences the strange smell of space.\n",
            "3. Shift the narrative to a woman in a bar who uses sign language to ward off unwanted attention.\n",
            "4. Conclude with a reflection on the varying perceptions of these characters by the people in their lives.\n",
            "\n",
            "\n",
            "Choice 2:\n",
            "Plan:\n",
            "1. The first paragraph will detail the narrator's attempt at learning how to do a handstand. \n",
            "2. The second paragraph will transition to the narrator's dream of becoming an astronaut and his experiences in a simulated environment.\n",
            "3. The third paragraph will delve into a romantic situation involving a woman who uses sign language as a way to deflect unwanted attention.\n",
            "4. The fourth paragraph will reflect on the different perceptions people have of the narrator, in light of his experiences and actions.\n",
            "\n",
            "\n",
            "Choice 3:\n",
            "Plan:\n",
            "1. Begin with a discussion on a gymnastics class, focusing on the instructor teaching how to do a handstand.\n",
            "2. Transition to a character's first experience in space, with an unexpected sensory experience.\n",
            "3. Introduce a new character who has a unique way of dealing with unwanted attention.\n",
            "4. Conclude with a reflection on the nature of personal identity and perception.\n",
            "\n",
            "\n",
            "Choice 4:\n",
            "Plan:\n",
            "In this passage, I will begin by talking about a gymnastics class where the instructor is teaching how to do a handstand. Then, the passage will transition to a man who is experiencing space for the first time and is surprised by what he senses. The third paragraph will introduce a woman who has a unique way of dealing with unwanted attention. Lastly, I will conclude with a commentary on how everyone has their own unique perception of us.\n",
            "\n",
            "\n",
            "Choice 5:\n",
            "Plan:\n",
            "1. Introduce a character who is trying to learn a handstand.\n",
            "2. Transition to the character's dream of becoming an astronaut, leading to a surprising fact about space.\n",
            "3. Introduce another character, a woman, who has developed an interesting strategy to avoid unwanted advances.\n",
            "4. Conclude with a reflection on the nature of perception and identity.\n",
            "\n",
            "\n",
            "\n"
          ]
        }
      ]
    },
    {
      "cell_type": "markdown",
      "source": [
        "Armed with this prompt, we can simulate state evaluation in step `1`."
      ],
      "metadata": {
        "id": "9paGVh9cGWDq"
      }
    },
    {
      "cell_type": "code",
      "source": [
        "state_evals = tot.chat_completions(prompt, n=tot.n_evals)\n",
        "for i, eval in enumerate(state_evals, start=1):\n",
        "    print(f\"Vote {i}:\")\n",
        "    print(\"---\")\n",
        "    print(eval)\n",
        "    print(\"---\\n~~~\")"
      ],
      "metadata": {
        "colab": {
          "base_uri": "https://localhost:8080/"
        },
        "id": "nS-NTsLrGT0G",
        "outputId": "e6326323-e9fe-4692-f0fe-a8b926ac5967"
      },
      "execution_count": 20,
      "outputs": [
        {
          "output_type": "stream",
          "name": "stdout",
          "text": [
            "Vote 1:\n",
            "---\n",
            "Analysis:\n",
            "\n",
            "Choice 1: This plan provides a clear and logical structure that will allow for smooth transitions between each paragraph and incorporates all the given sentences. It does not, however, maintain a single point of view or theme between the paragraphs, which may lead to a disjointed narrative.\n",
            "\n",
            "Choice 2: This plan maintains a consistent narrative perspective, focusing on the experiences of a single narrator. This will likely result in a more coherent narrative, but it may be challenging to convincingly incorporate the given sentences into this narrative.\n",
            "\n",
            "Choice 3: Like choice 1, this plan provides a clear and logical structure but does not maintain a single point of view or theme between the paragraphs. This may lead to a disjointed narrative.\n",
            "\n",
            "Choice 4: This plan is similar to choices 1 and 3, but it provides a slightly more detailed outline of what each paragraph will discuss. This may help in ensuring a smooth transition between each paragraph.\n",
            "\n",
            "Choice 5: This plan introduces two characters and maintains a consistent theme of perception and identity throughout. This may result in a more coherent narrative than choices 1, 3, and 4, but the transition between the first two paragraphs may be challenging.\n",
            "\n",
            "The best choice is 2.\n",
            "---\n",
            "~~~\n",
            "Vote 2:\n",
            "---\n",
            "Analyzing each choice:\n",
            "\n",
            "Choice 1: The plan is well-structured and clearly addresses the sentence prompts. Using different characters for each paragraph can make the passage a bit disjointed, but it does offer a diverse range of scenarios.\n",
            "\n",
            "Choice 2: This plan effectively integrates the sentence prompts into a single narrative. The transitions between the paragraphs are smooth and the passage maintains a coherent focus on the narrator.\n",
            "\n",
            "Choice 3: Similar to Choice 1, this plan uses different characters for each paragraph. While it addresses the sentence prompts, the transitions between the paragraphs may be abrupt.\n",
            "\n",
            "Choice 4: This plan is similar to Choice 3 but lacks the specificity and clear transitions that make a passage coherent and engaging.\n",
            "\n",
            "Choice 5: This plan also integrates the sentence prompts into a single narrative. However, the transitions between paragraphs are not as smoothly outlined as in Choice 2, which may affect the coherence of the passage.\n",
            "\n",
            "The best choice is 2.\n",
            "---\n",
            "~~~\n",
            "Vote 3:\n",
            "---\n",
            "Analysis:\n",
            "\n",
            "Choice 1: This plan seems well-structured and the transitions between paragraphs seem logical. However, it might be challenging to tie all these characters together coherently in just four paragraphs.\n",
            "\n",
            "Choice 2: This plan follows the narrator through different stages of his life, which can make the passage more coherent and relatable. However, it might be hard to smoothly transition from a gymnastics class to space simulation.\n",
            "\n",
            "Choice 3: This plan also introduces too many characters and it might be difficult to tie them all in a coherent story. However, it does follow the instructions closely.\n",
            "\n",
            "Choice 4: This plan is similar to choice 3, but it lacks the detail that might make the passage engaging and interesting. It does follow the instructions closely.\n",
            "\n",
            "Choice 5: This plan seems to introduce less characters and might be easier to execute in a coherent, engaging passage. It also follows the instructions closely.\n",
            "\n",
            "The best choice is 5.\n",
            "---\n",
            "~~~\n",
            "Vote 4:\n",
            "---\n",
            "Analyzing each choice:\n",
            "\n",
            "Choice 1:\n",
            "This plan offers a clear transition between the different characters and their experiences. It does not simply focus on one character, but rather tells the stories of several characters, providing a more diverse and interesting narrative. The conclusion brings all the narratives together, reflecting on the varying perceptions of these characters.\n",
            "\n",
            "Choice 2:\n",
            "This plan focuses on one character, the narrator, who experiences all the situations mentioned in the end sentences. This could provide a more in-depth exploration of a single character, but it may also limit the variety of experiences and perspectives.\n",
            "\n",
            "Choice 3:\n",
            "This plan offers a variety of experiences and perspectives, similar to Choice 1. However, it doesn't clearly specify how it will connect these different experiences and perspectives in the conclusion, which might lead to a less coherent narrative.\n",
            "\n",
            "Choice 4:\n",
            "This plan is very similar to Choice 3, but it does offer a clear conclusion that ties everything together. It also specifies that it will introduce a commentary on personal perception, which may provide a deeper exploration of the theme.\n",
            "\n",
            "Choice 5:\n",
            "This plan also offers a variety of experiences and characters, similar to Choice 1 and 3. However, it doesn't clearly specify how it will connect these different experiences and perspectives in the conclusion, which might lead to a less coherent narrative.\n",
            "\n",
            "The best choice is 1. It provides a coherent plan for introducing multiple characters and experiences, while ensuring that these are tied together in the conclusion. It also offers the opportunity to explore a variety of perspectives, which may lead to a richer narrative.\n",
            "---\n",
            "~~~\n",
            "Vote 5:\n",
            "---\n",
            "Analyzing each choice:\n",
            "\n",
            "Choice 1: This plan is good as it gives a clear layout of the story. However, it may lack coherence as it jumps between three different characters. The transition between these characters might be difficult to make smoothly.\n",
            "\n",
            "Choice 2: This plan maintains the same character throughout the passage, ensuring better coherence. It provides a clear transition between each paragraph and maintains a consistent narrative voice.\n",
            "\n",
            "Choice 3: This plan is similar to Choice 1, with its use of different characters, which could potentially disrupt the coherence of the passage. It also doesn't clearly explain how the story will transition between characters.\n",
            "\n",
            "Choice 4: This plan is also similar to Choice 1, but it lacks the explicit detail of how the story will transition between characters. It may also disrupt the coherence due to the abrupt shifts between characters.\n",
            "\n",
            "Choice 5: This plan is also similar to Choice 1, and it suffers from the same potential issues. It does not clearly explain how the story will transition between characters.\n",
            "\n",
            "The best choice is 2.\n",
            "---\n",
            "~~~\n"
          ]
        }
      ]
    },
    {
      "cell_type": "markdown",
      "source": [
        "Next, as promised, we shall examine the heuristic calculator in detail.\n",
        "\n",
        "An array containing all zeros is initialized as follows:"
      ],
      "metadata": {
        "id": "99m44-ejGwnd"
      }
    },
    {
      "cell_type": "code",
      "source": [
        "n_candidates = len(updated_states)\n",
        "vote_results = [0] * n_candidates\n",
        "vote_results"
      ],
      "metadata": {
        "colab": {
          "base_uri": "https://localhost:8080/"
        },
        "id": "WYZaRMyMG5hf",
        "outputId": "4ce16318-5293-4fe0-c88e-4e7d046d6553"
      },
      "execution_count": 21,
      "outputs": [
        {
          "output_type": "execute_result",
          "data": {
            "text/plain": [
              "[0, 0, 0, 0, 0]"
            ]
          },
          "metadata": {},
          "execution_count": 21
        }
      ]
    },
    {
      "cell_type": "markdown",
      "source": [
        "Then, the votes are counted using the following loop. At each iteration, a regular expression is used to find which choice the LLM voted for."
      ],
      "metadata": {
        "id": "Cj1TfybMHHw9"
      }
    },
    {
      "cell_type": "code",
      "source": [
        "for j in range(len(state_evals)):\n",
        "    pattern = r\".*best choice is .*(\\d+).*\"\n",
        "    match = re.match(pattern, state_evals[j], re.DOTALL)\n",
        "    if match:\n",
        "        vote = int(match.groups()[0]) - 1\n",
        "        if vote in range(n_candidates):\n",
        "            vote_results[vote] += 1\n",
        "    else:\n",
        "        print(f'Warning! Did not get a regex match for the following state evaluation:\\n\\n{state_evals[j]}')\n",
        "vote_results"
      ],
      "metadata": {
        "colab": {
          "base_uri": "https://localhost:8080/"
        },
        "id": "ml2LtPIfHaeQ",
        "outputId": "a3655575-397f-409d-c6a6-4c0e10ef4803"
      },
      "execution_count": 22,
      "outputs": [
        {
          "output_type": "execute_result",
          "data": {
            "text/plain": [
              "[1, 3, 0, 0, 1]"
            ]
          },
          "metadata": {},
          "execution_count": 22
        }
      ]
    },
    {
      "cell_type": "markdown",
      "source": [
        "How about pruning? How does that work?\n",
        "\n",
        "Well, we've implemented the BFS algorithm with a queue. Let's suppose that our queue contains the following objects (each representing a node)."
      ],
      "metadata": {
        "id": "XiJAnZI7HfSz"
      }
    },
    {
      "cell_type": "code",
      "source": [
        "queue = deque()\n",
        "queue.append({'state': \"q\", 'value': 1})\n",
        "queue.append({'state': \"t\", 'value': 5})\n",
        "queue.append({'state': \"w\", 'value': 2})\n",
        "queue.append({'state': \"r\", 'value': 4})\n",
        "queue.append({'state': \"e\", 'value': 3})"
      ],
      "metadata": {
        "id": "IzAAAWpxIaVP"
      },
      "execution_count": 23,
      "outputs": []
    },
    {
      "cell_type": "markdown",
      "source": [
        "Imagine our chosen `breadth_limit` is `3`. In other words, we want to retain the nodes with the `3` highest values."
      ],
      "metadata": {
        "id": "MICsdcRXIhBx"
      }
    },
    {
      "cell_type": "code",
      "source": [
        "breadth_limit = 3\n",
        "top_b_nodes = sorted(queue, key=lambda node: node['value'], reverse=True)[:breadth_limit]\n",
        "top_b_nodes"
      ],
      "metadata": {
        "colab": {
          "base_uri": "https://localhost:8080/"
        },
        "id": "2pSUXew2Irqz",
        "outputId": "df3079f2-c1f6-4f17-f44f-3848420ca25a"
      },
      "execution_count": 24,
      "outputs": [
        {
          "output_type": "execute_result",
          "data": {
            "text/plain": [
              "[{'state': 't', 'value': 5},\n",
              " {'state': 'r', 'value': 4},\n",
              " {'state': 'e', 'value': 3}]"
            ]
          },
          "metadata": {},
          "execution_count": 24
        }
      ]
    },
    {
      "cell_type": "markdown",
      "source": [
        "From the above, we can create a list containing the top `3` states."
      ],
      "metadata": {
        "id": "76Q7PwD2IyoG"
      }
    },
    {
      "cell_type": "code",
      "source": [
        "top_b_states = [node['state'] for node in top_b_nodes]\n",
        "top_b_states"
      ],
      "metadata": {
        "colab": {
          "base_uri": "https://localhost:8080/"
        },
        "id": "mhMa0ExoI6Wu",
        "outputId": "920cf5d0-bc6a-4459-a1dc-447bac6ee769"
      },
      "execution_count": 25,
      "outputs": [
        {
          "output_type": "execute_result",
          "data": {
            "text/plain": [
              "['t', 'r', 'e']"
            ]
          },
          "metadata": {},
          "execution_count": 25
        }
      ]
    },
    {
      "cell_type": "markdown",
      "source": [
        "Now, we'll use a loop to dequeue (`popleft`) each node. If the state of the node is in `top_b_states`, we'll enqueue (`append`) it back."
      ],
      "metadata": {
        "id": "W7a_UsBMJE_0"
      }
    },
    {
      "cell_type": "code",
      "source": [
        "for i in range(len(queue)):\n",
        "    node = queue.popleft()\n",
        "    if node['state'] in top_b_states:\n",
        "        queue.append(node)\n",
        "\n",
        "for node in queue:\n",
        "    print(node)"
      ],
      "metadata": {
        "colab": {
          "base_uri": "https://localhost:8080/"
        },
        "id": "Lrx65TMHJHE9",
        "outputId": "647f570f-969c-4dec-f6f5-034bd97616d6"
      },
      "execution_count": 26,
      "outputs": [
        {
          "output_type": "stream",
          "name": "stdout",
          "text": [
            "{'state': 't', 'value': 5}\n",
            "{'state': 'r', 'value': 4}\n",
            "{'state': 'e', 'value': 3}\n"
          ]
        }
      ]
    },
    {
      "cell_type": "markdown",
      "source": [
        "Pruning simulated! (The above pruning logic is part of the `bfs` method.)\n",
        "\n",
        "Finally, let's actually call the `bfs` method. By passing `verbose=True`, we can watch the BFS algorithm in action."
      ],
      "metadata": {
        "id": "lWR1TTfXJqU_"
      }
    },
    {
      "cell_type": "code",
      "source": [
        "output = tot.bfs(verbose=True)\n",
        "print(output)"
      ],
      "metadata": {
        "colab": {
          "base_uri": "https://localhost:8080/"
        },
        "id": "BKyWtpy_Jy2B",
        "outputId": "57219e83-735f-44d0-8307-2eb586f4f2de"
      },
      "execution_count": 27,
      "outputs": [
        {
          "output_type": "stream",
          "name": "stdout",
          "text": [
            "Step 1 (corresponding to level 1 of the tree):-\n",
            "---\n",
            "Node 1 in level 1:-\n",
            "State of current node:-\n",
            "<EMPTY STRING> (root node; no thoughts generated yet)\n",
            "---\n",
            "Thought candidate 1:-\n",
            "Plan:\n",
            "1. Introduce a character who likes to do handstands in his spare time and how he has mastered this skill.\n",
            "2. The same character gets the opportunity to go to space and his surprising discovery there.\n",
            "3. Introduce a female character who has her own unique way of dealing with unwanted attention.\n",
            "4. Discuss how every individual has their own perception of a person based on their interactions and experiences with them.\n",
            "\n",
            "\n",
            "---\n",
            "Thought candidate 2:-\n",
            "Plan:\n",
            "In the first paragraph, introduce a gymnastics class where a trainer is teaching learners how to do a handstand. In the second paragraph, shift to the story of an astronaut on his first space mission. In the third paragraph, introduce a woman with a unique strategy to avoid unwanted attention in a bar. Finally, in the fourth paragraph, discuss how different people have different perceptions of the same person, reflecting on the earlier characters.\n",
            "\n",
            "\n",
            "---\n",
            "Thought candidate 3:-\n",
            "Plan:\n",
            "1. Introduce the protagonist's experience with gymnastics and how he found the handstand easy.\n",
            "2. Shift to the protagonist's experience as an astronaut and his surprise at the smell of space.\n",
            "3. Introduce a female character and her clever tactic to deal with unwanted attention.\n",
            "4. Discuss the idea of perceptions and how it varies from person to person.\n",
            "\n",
            "\n",
            "---\n",
            "Thought candidate 4:-\n",
            "Plan:\n",
            "The first paragraph will establish the context of a gymnastics class where the protagonist is learning to do a handstand. The second paragraph will transition to a discussion about the protagonist's interests, specifically his fascination with space travel. The third paragraph will introduce a new character, who is a friend of the protagonist and has a unique way of deflecting unwanted attention. The last paragraph will elaborate on the protagonist's reflections about individual perceptions and how they shape our identity.\n",
            "\n",
            "\n",
            "---\n",
            "Thought candidate 5:-\n",
            "Plan:\n",
            "In this passage, we will start by introducing an adventurous protagonist who is always up for a challenge and loves to learn, using the example of a handstand as a metaphor for his approach to life. We will then move into the protagonist's journey into becoming an astronaut, where he experiences the unexpected smell of space. In the third paragraph, we will introduce a love interest who has a unique way of warding off unwanted suitors. The final paragraph will delve into the protagonist's introspective revelation about the nature of identity and perception.\n",
            "\n",
            "\n",
            "---\n",
            "Each of the above thought candidates has been added as a child of the current node.\n",
            "---\n",
            "Using the state evaluator to obtain values...\n",
            "---\n",
            "Element 1 in queue:-\n",
            "\n",
            "Value: 0\n",
            "---\n",
            "Element 2 in queue:-\n",
            "\n",
            "Value: 0\n",
            "---\n",
            "Element 3 in queue:-\n",
            "\n",
            "Value: 0\n",
            "---\n",
            "Element 4 in queue:-\n",
            "\n",
            "Value: 1\n",
            "---\n",
            "Element 5 in queue:-\n",
            "\n",
            "Value: 4\n",
            "---\n",
            "Initiating pruning (using the values obtained from the state evaluator).\n",
            "Number of elements in queue: 5\n",
            "Since this isn't the last step, leaving the breadth limit 1 unchanged.\n",
            "---\n",
            "Element 1 in queue:-\n",
            "\n",
            "Dropping this element as it's not in the top 1 elements.\n",
            "---\n",
            "Element 2 in queue:-\n",
            "\n",
            "Dropping this element as it's not in the top 1 elements.\n",
            "---\n",
            "Element 3 in queue:-\n",
            "\n",
            "Dropping this element as it's not in the top 1 elements.\n",
            "---\n",
            "Element 4 in queue:-\n",
            "\n",
            "Dropping this element as it's not in the top 1 elements.\n",
            "---\n",
            "Element 5 in queue:-\n",
            "\n",
            "Retaining this element as it's in the top 1 elements.\n",
            "---\n",
            "~~~\n",
            "Step 2 (corresponding to level 2 of the tree):-\n",
            "---\n",
            "Node 1 in level 2:-\n",
            "State of current node:-\n",
            "Plan:\n",
            "In this passage, we will start by introducing an adventurous protagonist who is always up for a challenge and loves to learn, using the example of a handstand as a metaphor for his approach to life. We will then move into the protagonist's journey into becoming an astronaut, where he experiences the unexpected smell of space. In the third paragraph, we will introduce a love interest who has a unique way of warding off unwanted suitors. The final paragraph will delve into the protagonist's introspective revelation about the nature of identity and perception.\n",
            "\n",
            "\n",
            "---\n",
            "Thought candidate 1:-\n",
            "Passage:\n",
            "The protagonist was always up for a challenge; he thrived on overcoming obstacles and learning new things. He was the kind of person who would see the world from a different angle, literally and metaphorically. One day, he watched a group of people doing handstands, and they made it look so easy. He decided to give it a try, and after a few failed attempts, he finally managed to stay upright. He laughed to himself as he thought, it isn't difficult to do a handstand if you just stand on your hands.\n",
            "\n",
            "His adventurous spirit eventually led him into the field of space exploration. After years of rigorous training, he found himself floating in the vast expanse of space, looking at Earth from a completely different perspective. He took off his helmet inside the spaceship and was taken aback by the smell. It was not the sterile smell of the spaceship interior that he expected, but a rich, almost comforting aroma. It caught him off guard that space smelled of seared steak.\n",
            "\n",
            "Back on Earth, he met a woman who was as unique and intriguing as the cosmos he had explored. She was not easily impressed and had her own ways of dealing with unwanted attention. Once, in a crowded bar, he saw her being approached by a man who was clearly not taking no for an answer. Instead of responding verbally, she started communicating with him in sign language. When she didn’t like a guy who was trying to pick her up, she started using sign language.\n",
            "\n",
            "As he got to know her better, he started reflecting on his own life and how people perceived him. He realized that everyone he met saw a different version of him based on their interactions. His family saw him as a dreamer, his colleagues as a daredevil, and she saw him as a kindred spirit. Each person who knows you has a different perception of who you are.\n",
            "---\n",
            "Thought candidate 2:-\n",
            "Passage:\n",
            "Tom was a man of adventure, always seeking new challenges and experiences. He reveled in the thrill of uncertainty, the rush of adrenaline, and the pure joy that came with accomplishment. His friends often marveled at his fearlessness, to which Tom would laugh and say, \"fear is simply a matter of perspective.\" He believed that the key to overcoming any obstacle was to approach it head on, and with a bit of creativity. After all, he would often quip, it isn't difficult to do a handstand if you just stand on your hands.\n",
            "\n",
            "This adventurous spirit led Tom to pursue a career as an astronaut. The idea of exploring the unknown, of venturing into a place few have ever been, was tantalizing. When he finally made it into space, he was awed by the beauty of the cosmos. But one thing he hadn't expected was the smell. As he removed his helmet inside the space station, he was met with a scent that was unmistakably familiar yet oddly out of place. It caught him off guard that space smelled of seared steak.\n",
            "\n",
            "Back on Earth, Tom met a woman named Maya, who was as intriguing as she was beautiful. She had a passion for learning, just like Tom, and had even picked up sign language as a hobby. Maya had a unique approach to dealing with unwanted advances. Instead of giving the usual excuses or ignoring the person, she would simply switch to sign language. When she didn’t like a guy who was trying to pick her up, she started using sign language.\n",
            "\n",
            "As Tom got to know Maya, he began to reflect on the nature of identity and perception. He realized that while he saw himself as an adventurous astronaut, others might see him as a daredevil, a risk-taker, or even a reckless thrill-seeker. Maya, on the other hand, saw him as a man of curiosity, courage, and resilience. This led him to an important realization: each person who knows you has a different perception of who you are.\n",
            "---\n",
            "Thought candidate 3:-\n",
            "Passage:\n",
            "The protagonist, a young man of distinct courage and curiosity, had always been one for challenges. From a young age, he had a knack for trying new things, no matter how daunting they seemed. He had a way of simplifying complex tasks, breaking them down into manageable steps, and thereby making the impossible seem possible. When asked how he had mastered the art of doing a handstand, he'd always reply with a smirk, \"It isn't difficult to do a handstand if you just stand on your hands.\"\n",
            "\n",
            "As he grew older, his thirst for adventure and knowledge led him to pursue a career that was not only challenging but also out of this world, literally. He became an astronaut, a profession that took him to the stars and beyond. His first journey into space was nothing short of extraordinary. One experience, in particular, was unexpected. As he took off his helmet inside the spaceship, he was surprised by a distinct smell. It caught him off guard that space smelled of seared steak.\n",
            "\n",
            "Back on earth, he met an intriguing woman who was as unique as she was beautiful. She had a whimsical sense of humor and a knack for dealing with unwanted attention. Whenever a man approached her with an intention she didn't appreciate, she had a unique way of warding them off. When she didn’t like a guy who was trying to pick her up, she started using sign language.\n",
            "\n",
            "Throughout these experiences, he realized something profound about the nature of identity. He understood that the way he saw himself, the adventurous child, the daring astronaut, and the man smitten by love, was unique to him. Similarly, each person in his life, from his parents to his colleagues, and the woman he loved, saw a different version of him based on their interactions and experiences. Each person who knows you has a different perception of who you are.\n",
            "---\n",
            "Thought candidate 4:-\n",
            "Passage:\n",
            "Our protagonist has always been an adventurous soul, always up to conquer the impossible. Whether it's climbing the highest mountain or diving deep into the sea, he loves to challenge himself. He takes on every challenge as if it were as simple as standing on your hands. As he often says, \"It isn't difficult to do a handstand if you just stand on your hands.\"\n",
            "\n",
            "Having conquered most challenges on Earth, he set his eyes on the final frontier - space. Training to become an astronaut, he learned and experienced things beyond his wildest dreams. His first journey into space brought an unexpected surprise. As he floated in the vacuum of space, he opened his helmet visor and was hit with a smell that was strange yet oddly familiar. It caught him off guard that space smelled of seared steak.\n",
            "\n",
            "Back on earth, amid all his adventures and achievements, he met a woman who was as unique and intriguing as space itself. She was not easily impressed, and she had a unique way of dealing with men she wasn't interested in. Once, when a rather persistent suitor tried his luck, she simply switched to sign language. When she didn’t like a guy who was trying to pick her up, she started using sign language.\n",
            "\n",
            "As our protagonist navigated through these diverse experiences, he began to realize a profound truth about identity and perception. He was a different person to each individual he met - an adventurer to some, a reckless risk-taker to others, a hero to many, and a mystery to the woman he loved. He understood that each person who knows you has a different perception of who you are.\n",
            "---\n",
            "Thought candidate 5:-\n",
            "Passage:\n",
            "Our protagonist, John, was an adventurous spirit, always eager to take on new challenges. He had a knack for making the seemingly demanding tasks seem simple, much like his unique perspective on handstands. To John, handstands weren't about balance or strength, but a simple reorientation of perspective. After all, he'd say with a smirk, \"It isn't difficult to do a handstand if you just stand on your hands.\"\n",
            "\n",
            "His thirst for adventure eventually led John to become an astronaut. The training was rigorous, and the anticipation of the unknown was exhilarating. However, nothing prepared him for his first spacewalk. As he popped open his suit's visor, an unexpected smell wafted into his nostrils. It was a surreal moment, heightened by the realization that space smelled of seared steak. It caught him off guard.\n",
            "\n",
            "Back on Earth, John met Lily, a vibrant woman with a sparkling wit and an unusual strategy for dealing with unwanted advances. Lily was deaf, but she didn't let that define her; instead, she used it to her advantage. When she didn’t like a guy who was trying to pick her up, she started using sign language, a tactic that left most suitors confused and quickly deterred.\n",
            "\n",
            "John's travels and encounters with people like Lily made him realize that everyone he met had a different perception of him. Some saw him as the daring astronaut, others as the curious man who saw handstands in an unusual light, and to Lily, he was a patient man who took the time to learn sign language. It was a profound realization: each person who knows you has a different perception of who you are.\n",
            "---\n",
            "Each of the above thought candidates has been added as a child of the current node.\n",
            "---\n",
            "Using the state evaluator to obtain values...\n",
            "---\n",
            "Element 1 in queue:-\n",
            "\n",
            "Value: 3\n",
            "---\n",
            "Element 2 in queue:-\n",
            "\n",
            "Value: 0\n",
            "---\n",
            "Element 3 in queue:-\n",
            "\n",
            "Value: 0\n",
            "---\n",
            "Element 4 in queue:-\n",
            "\n",
            "Value: 0\n",
            "---\n",
            "Element 5 in queue:-\n",
            "\n",
            "Value: 2\n",
            "---\n",
            "Initiating pruning (using the values obtained from the state evaluator).\n",
            "Number of elements in queue: 5\n",
            "Since this is the last step, setting the breadth limit to 1.\n",
            "In other words, retaining only the highest value element (in this last step).\n",
            "---\n",
            "Element 1 in queue:-\n",
            "\n",
            "Retaining this element as it's in the top 1 elements.\n",
            "---\n",
            "Element 2 in queue:-\n",
            "\n",
            "Dropping this element as it's not in the top 1 elements.\n",
            "---\n",
            "Element 3 in queue:-\n",
            "\n",
            "Dropping this element as it's not in the top 1 elements.\n",
            "---\n",
            "Element 4 in queue:-\n",
            "\n",
            "Dropping this element as it's not in the top 1 elements.\n",
            "---\n",
            "Element 5 in queue:-\n",
            "\n",
            "Dropping this element as it's not in the top 1 elements.\n",
            "---\n",
            "~~~\n",
            "Passage:\n",
            "The protagonist was always up for a challenge; he thrived on overcoming obstacles and learning new things. He was the kind of person who would see the world from a different angle, literally and metaphorically. One day, he watched a group of people doing handstands, and they made it look so easy. He decided to give it a try, and after a few failed attempts, he finally managed to stay upright. He laughed to himself as he thought, it isn't difficult to do a handstand if you just stand on your hands.\n",
            "\n",
            "His adventurous spirit eventually led him into the field of space exploration. After years of rigorous training, he found himself floating in the vast expanse of space, looking at Earth from a completely different perspective. He took off his helmet inside the spaceship and was taken aback by the smell. It was not the sterile smell of the spaceship interior that he expected, but a rich, almost comforting aroma. It caught him off guard that space smelled of seared steak.\n",
            "\n",
            "Back on Earth, he met a woman who was as unique and intriguing as the cosmos he had explored. She was not easily impressed and had her own ways of dealing with unwanted attention. Once, in a crowded bar, he saw her being approached by a man who was clearly not taking no for an answer. Instead of responding verbally, she started communicating with him in sign language. When she didn’t like a guy who was trying to pick her up, she started using sign language.\n",
            "\n",
            "As he got to know her better, he started reflecting on his own life and how people perceived him. He realized that everyone he met saw a different version of him based on their interactions. His family saw him as a dreamer, his colleagues as a daredevil, and she saw him as a kindred spirit. Each person who knows you has a different perception of who you are.\n"
          ]
        }
      ]
    },
    {
      "cell_type": "markdown",
      "source": [
        "Ok. Time to visualize the tree."
      ],
      "metadata": {
        "id": "_wTIOIBiJxqd"
      }
    },
    {
      "cell_type": "code",
      "source": [
        "tot.render_html_tree()"
      ],
      "metadata": {
        "colab": {
          "base_uri": "https://localhost:8080/",
          "height": 1000
        },
        "id": "9JZFAzwQJ12e",
        "outputId": "4470cff9-8187-42bd-ee25-143cc99f5767"
      },
      "execution_count": 28,
      "outputs": [
        {
          "output_type": "display_data",
          "data": {
            "text/plain": [
              "<IPython.core.display.HTML object>"
            ],
            "text/html": [
              "<!DOCTYPE html>\n",
              "<html>\n",
              "<head>\n",
              "    <style>\n",
              "        .node {\n",
              "            display: inline-block;\n",
              "            border: 1px solid blue;\n",
              "            padding: 10px;\n",
              "            margin: 5px;\n",
              "            text-align: center;\n",
              "        }\n",
              "        .child {\n",
              "            display: flex;\n",
              "        }\n",
              "    </style>\n",
              "</head>\n",
              "<body>\n",
              "    <div class='node'>\n",
              "<p>State:<br></p>\n",
              "<hr>\n",
              "<p>Thought:<br></p>\n",
              "<hr>\n",
              "<p>Value:<br>None</p><div class='child'><div class='node'>\n",
              "<p>State:<br>Plan:\n",
              "1. Introduce a character who likes to do handstands in his spare time and how he has mastered this skill.\n",
              "2. The same character gets the opportunity to go to space and his surprising discovery there.\n",
              "3. Introduce a female character who has her own unique way of dealing with unwanted attention.\n",
              "4. Discuss how every individual has their own perception of a person based on their interactions and experiences with them.\n",
              "\n",
              "</p>\n",
              "<hr>\n",
              "<p>Thought:<br>Plan:\n",
              "1. Introduce a character who likes to do handstands in his spare time and how he has mastered this skill.\n",
              "2. The same character gets the opportunity to go to space and his surprising discovery there.\n",
              "3. Introduce a female character who has her own unique way of dealing with unwanted attention.\n",
              "4. Discuss how every individual has their own perception of a person based on their interactions and experiences with them.\n",
              "\n",
              "</p>\n",
              "<hr>\n",
              "<p>Value:<br>0</p></div></div><div class='child'><div class='node'>\n",
              "<p>State:<br>Plan:\n",
              "In the first paragraph, introduce a gymnastics class where a trainer is teaching learners how to do a handstand. In the second paragraph, shift to the story of an astronaut on his first space mission. In the third paragraph, introduce a woman with a unique strategy to avoid unwanted attention in a bar. Finally, in the fourth paragraph, discuss how different people have different perceptions of the same person, reflecting on the earlier characters.\n",
              "\n",
              "</p>\n",
              "<hr>\n",
              "<p>Thought:<br>Plan:\n",
              "In the first paragraph, introduce a gymnastics class where a trainer is teaching learners how to do a handstand. In the second paragraph, shift to the story of an astronaut on his first space mission. In the third paragraph, introduce a woman with a unique strategy to avoid unwanted attention in a bar. Finally, in the fourth paragraph, discuss how different people have different perceptions of the same person, reflecting on the earlier characters.\n",
              "\n",
              "</p>\n",
              "<hr>\n",
              "<p>Value:<br>0</p></div></div><div class='child'><div class='node'>\n",
              "<p>State:<br>Plan:\n",
              "1. Introduce the protagonist's experience with gymnastics and how he found the handstand easy.\n",
              "2. Shift to the protagonist's experience as an astronaut and his surprise at the smell of space.\n",
              "3. Introduce a female character and her clever tactic to deal with unwanted attention.\n",
              "4. Discuss the idea of perceptions and how it varies from person to person.\n",
              "\n",
              "</p>\n",
              "<hr>\n",
              "<p>Thought:<br>Plan:\n",
              "1. Introduce the protagonist's experience with gymnastics and how he found the handstand easy.\n",
              "2. Shift to the protagonist's experience as an astronaut and his surprise at the smell of space.\n",
              "3. Introduce a female character and her clever tactic to deal with unwanted attention.\n",
              "4. Discuss the idea of perceptions and how it varies from person to person.\n",
              "\n",
              "</p>\n",
              "<hr>\n",
              "<p>Value:<br>0</p></div></div><div class='child'><div class='node'>\n",
              "<p>State:<br>Plan:\n",
              "The first paragraph will establish the context of a gymnastics class where the protagonist is learning to do a handstand. The second paragraph will transition to a discussion about the protagonist's interests, specifically his fascination with space travel. The third paragraph will introduce a new character, who is a friend of the protagonist and has a unique way of deflecting unwanted attention. The last paragraph will elaborate on the protagonist's reflections about individual perceptions and how they shape our identity.\n",
              "\n",
              "</p>\n",
              "<hr>\n",
              "<p>Thought:<br>Plan:\n",
              "The first paragraph will establish the context of a gymnastics class where the protagonist is learning to do a handstand. The second paragraph will transition to a discussion about the protagonist's interests, specifically his fascination with space travel. The third paragraph will introduce a new character, who is a friend of the protagonist and has a unique way of deflecting unwanted attention. The last paragraph will elaborate on the protagonist's reflections about individual perceptions and how they shape our identity.\n",
              "\n",
              "</p>\n",
              "<hr>\n",
              "<p>Value:<br>1</p></div></div><div class='child'><div class='node'>\n",
              "<p>State:<br>Plan:\n",
              "In this passage, we will start by introducing an adventurous protagonist who is always up for a challenge and loves to learn, using the example of a handstand as a metaphor for his approach to life. We will then move into the protagonist's journey into becoming an astronaut, where he experiences the unexpected smell of space. In the third paragraph, we will introduce a love interest who has a unique way of warding off unwanted suitors. The final paragraph will delve into the protagonist's introspective revelation about the nature of identity and perception.\n",
              "\n",
              "</p>\n",
              "<hr>\n",
              "<p>Thought:<br>Plan:\n",
              "In this passage, we will start by introducing an adventurous protagonist who is always up for a challenge and loves to learn, using the example of a handstand as a metaphor for his approach to life. We will then move into the protagonist's journey into becoming an astronaut, where he experiences the unexpected smell of space. In the third paragraph, we will introduce a love interest who has a unique way of warding off unwanted suitors. The final paragraph will delve into the protagonist's introspective revelation about the nature of identity and perception.\n",
              "\n",
              "</p>\n",
              "<hr>\n",
              "<p>Value:<br>4</p><div class='child'><div class='node'>\n",
              "<p>State:<br>Plan:\n",
              "In this passage, we will start by introducing an adventurous protagonist who is always up for a challenge and loves to learn, using the example of a handstand as a metaphor for his approach to life. We will then move into the protagonist's journey into becoming an astronaut, where he experiences the unexpected smell of space. In the third paragraph, we will introduce a love interest who has a unique way of warding off unwanted suitors. The final paragraph will delve into the protagonist's introspective revelation about the nature of identity and perception.\n",
              "\n",
              "\n",
              "Passage:\n",
              "The protagonist was always up for a challenge; he thrived on overcoming obstacles and learning new things. He was the kind of person who would see the world from a different angle, literally and metaphorically. One day, he watched a group of people doing handstands, and they made it look so easy. He decided to give it a try, and after a few failed attempts, he finally managed to stay upright. He laughed to himself as he thought, it isn't difficult to do a handstand if you just stand on your hands.\n",
              "\n",
              "His adventurous spirit eventually led him into the field of space exploration. After years of rigorous training, he found himself floating in the vast expanse of space, looking at Earth from a completely different perspective. He took off his helmet inside the spaceship and was taken aback by the smell. It was not the sterile smell of the spaceship interior that he expected, but a rich, almost comforting aroma. It caught him off guard that space smelled of seared steak.\n",
              "\n",
              "Back on Earth, he met a woman who was as unique and intriguing as the cosmos he had explored. She was not easily impressed and had her own ways of dealing with unwanted attention. Once, in a crowded bar, he saw her being approached by a man who was clearly not taking no for an answer. Instead of responding verbally, she started communicating with him in sign language. When she didn’t like a guy who was trying to pick her up, she started using sign language.\n",
              "\n",
              "As he got to know her better, he started reflecting on his own life and how people perceived him. He realized that everyone he met saw a different version of him based on their interactions. His family saw him as a dreamer, his colleagues as a daredevil, and she saw him as a kindred spirit. Each person who knows you has a different perception of who you are.</p>\n",
              "<hr>\n",
              "<p>Thought:<br>Passage:\n",
              "The protagonist was always up for a challenge; he thrived on overcoming obstacles and learning new things. He was the kind of person who would see the world from a different angle, literally and metaphorically. One day, he watched a group of people doing handstands, and they made it look so easy. He decided to give it a try, and after a few failed attempts, he finally managed to stay upright. He laughed to himself as he thought, it isn't difficult to do a handstand if you just stand on your hands.\n",
              "\n",
              "His adventurous spirit eventually led him into the field of space exploration. After years of rigorous training, he found himself floating in the vast expanse of space, looking at Earth from a completely different perspective. He took off his helmet inside the spaceship and was taken aback by the smell. It was not the sterile smell of the spaceship interior that he expected, but a rich, almost comforting aroma. It caught him off guard that space smelled of seared steak.\n",
              "\n",
              "Back on Earth, he met a woman who was as unique and intriguing as the cosmos he had explored. She was not easily impressed and had her own ways of dealing with unwanted attention. Once, in a crowded bar, he saw her being approached by a man who was clearly not taking no for an answer. Instead of responding verbally, she started communicating with him in sign language. When she didn’t like a guy who was trying to pick her up, she started using sign language.\n",
              "\n",
              "As he got to know her better, he started reflecting on his own life and how people perceived him. He realized that everyone he met saw a different version of him based on their interactions. His family saw him as a dreamer, his colleagues as a daredevil, and she saw him as a kindred spirit. Each person who knows you has a different perception of who you are.</p>\n",
              "<hr>\n",
              "<p>Value:<br>3</p></div></div><div class='child'><div class='node'>\n",
              "<p>State:<br>Plan:\n",
              "In this passage, we will start by introducing an adventurous protagonist who is always up for a challenge and loves to learn, using the example of a handstand as a metaphor for his approach to life. We will then move into the protagonist's journey into becoming an astronaut, where he experiences the unexpected smell of space. In the third paragraph, we will introduce a love interest who has a unique way of warding off unwanted suitors. The final paragraph will delve into the protagonist's introspective revelation about the nature of identity and perception.\n",
              "\n",
              "\n",
              "Passage:\n",
              "Tom was a man of adventure, always seeking new challenges and experiences. He reveled in the thrill of uncertainty, the rush of adrenaline, and the pure joy that came with accomplishment. His friends often marveled at his fearlessness, to which Tom would laugh and say, \"fear is simply a matter of perspective.\" He believed that the key to overcoming any obstacle was to approach it head on, and with a bit of creativity. After all, he would often quip, it isn't difficult to do a handstand if you just stand on your hands.\n",
              "\n",
              "This adventurous spirit led Tom to pursue a career as an astronaut. The idea of exploring the unknown, of venturing into a place few have ever been, was tantalizing. When he finally made it into space, he was awed by the beauty of the cosmos. But one thing he hadn't expected was the smell. As he removed his helmet inside the space station, he was met with a scent that was unmistakably familiar yet oddly out of place. It caught him off guard that space smelled of seared steak.\n",
              "\n",
              "Back on Earth, Tom met a woman named Maya, who was as intriguing as she was beautiful. She had a passion for learning, just like Tom, and had even picked up sign language as a hobby. Maya had a unique approach to dealing with unwanted advances. Instead of giving the usual excuses or ignoring the person, she would simply switch to sign language. When she didn’t like a guy who was trying to pick her up, she started using sign language.\n",
              "\n",
              "As Tom got to know Maya, he began to reflect on the nature of identity and perception. He realized that while he saw himself as an adventurous astronaut, others might see him as a daredevil, a risk-taker, or even a reckless thrill-seeker. Maya, on the other hand, saw him as a man of curiosity, courage, and resilience. This led him to an important realization: each person who knows you has a different perception of who you are.</p>\n",
              "<hr>\n",
              "<p>Thought:<br>Passage:\n",
              "Tom was a man of adventure, always seeking new challenges and experiences. He reveled in the thrill of uncertainty, the rush of adrenaline, and the pure joy that came with accomplishment. His friends often marveled at his fearlessness, to which Tom would laugh and say, \"fear is simply a matter of perspective.\" He believed that the key to overcoming any obstacle was to approach it head on, and with a bit of creativity. After all, he would often quip, it isn't difficult to do a handstand if you just stand on your hands.\n",
              "\n",
              "This adventurous spirit led Tom to pursue a career as an astronaut. The idea of exploring the unknown, of venturing into a place few have ever been, was tantalizing. When he finally made it into space, he was awed by the beauty of the cosmos. But one thing he hadn't expected was the smell. As he removed his helmet inside the space station, he was met with a scent that was unmistakably familiar yet oddly out of place. It caught him off guard that space smelled of seared steak.\n",
              "\n",
              "Back on Earth, Tom met a woman named Maya, who was as intriguing as she was beautiful. She had a passion for learning, just like Tom, and had even picked up sign language as a hobby. Maya had a unique approach to dealing with unwanted advances. Instead of giving the usual excuses or ignoring the person, she would simply switch to sign language. When she didn’t like a guy who was trying to pick her up, she started using sign language.\n",
              "\n",
              "As Tom got to know Maya, he began to reflect on the nature of identity and perception. He realized that while he saw himself as an adventurous astronaut, others might see him as a daredevil, a risk-taker, or even a reckless thrill-seeker. Maya, on the other hand, saw him as a man of curiosity, courage, and resilience. This led him to an important realization: each person who knows you has a different perception of who you are.</p>\n",
              "<hr>\n",
              "<p>Value:<br>0</p></div></div><div class='child'><div class='node'>\n",
              "<p>State:<br>Plan:\n",
              "In this passage, we will start by introducing an adventurous protagonist who is always up for a challenge and loves to learn, using the example of a handstand as a metaphor for his approach to life. We will then move into the protagonist's journey into becoming an astronaut, where he experiences the unexpected smell of space. In the third paragraph, we will introduce a love interest who has a unique way of warding off unwanted suitors. The final paragraph will delve into the protagonist's introspective revelation about the nature of identity and perception.\n",
              "\n",
              "\n",
              "Passage:\n",
              "The protagonist, a young man of distinct courage and curiosity, had always been one for challenges. From a young age, he had a knack for trying new things, no matter how daunting they seemed. He had a way of simplifying complex tasks, breaking them down into manageable steps, and thereby making the impossible seem possible. When asked how he had mastered the art of doing a handstand, he'd always reply with a smirk, \"It isn't difficult to do a handstand if you just stand on your hands.\"\n",
              "\n",
              "As he grew older, his thirst for adventure and knowledge led him to pursue a career that was not only challenging but also out of this world, literally. He became an astronaut, a profession that took him to the stars and beyond. His first journey into space was nothing short of extraordinary. One experience, in particular, was unexpected. As he took off his helmet inside the spaceship, he was surprised by a distinct smell. It caught him off guard that space smelled of seared steak.\n",
              "\n",
              "Back on earth, he met an intriguing woman who was as unique as she was beautiful. She had a whimsical sense of humor and a knack for dealing with unwanted attention. Whenever a man approached her with an intention she didn't appreciate, she had a unique way of warding them off. When she didn’t like a guy who was trying to pick her up, she started using sign language.\n",
              "\n",
              "Throughout these experiences, he realized something profound about the nature of identity. He understood that the way he saw himself, the adventurous child, the daring astronaut, and the man smitten by love, was unique to him. Similarly, each person in his life, from his parents to his colleagues, and the woman he loved, saw a different version of him based on their interactions and experiences. Each person who knows you has a different perception of who you are.</p>\n",
              "<hr>\n",
              "<p>Thought:<br>Passage:\n",
              "The protagonist, a young man of distinct courage and curiosity, had always been one for challenges. From a young age, he had a knack for trying new things, no matter how daunting they seemed. He had a way of simplifying complex tasks, breaking them down into manageable steps, and thereby making the impossible seem possible. When asked how he had mastered the art of doing a handstand, he'd always reply with a smirk, \"It isn't difficult to do a handstand if you just stand on your hands.\"\n",
              "\n",
              "As he grew older, his thirst for adventure and knowledge led him to pursue a career that was not only challenging but also out of this world, literally. He became an astronaut, a profession that took him to the stars and beyond. His first journey into space was nothing short of extraordinary. One experience, in particular, was unexpected. As he took off his helmet inside the spaceship, he was surprised by a distinct smell. It caught him off guard that space smelled of seared steak.\n",
              "\n",
              "Back on earth, he met an intriguing woman who was as unique as she was beautiful. She had a whimsical sense of humor and a knack for dealing with unwanted attention. Whenever a man approached her with an intention she didn't appreciate, she had a unique way of warding them off. When she didn’t like a guy who was trying to pick her up, she started using sign language.\n",
              "\n",
              "Throughout these experiences, he realized something profound about the nature of identity. He understood that the way he saw himself, the adventurous child, the daring astronaut, and the man smitten by love, was unique to him. Similarly, each person in his life, from his parents to his colleagues, and the woman he loved, saw a different version of him based on their interactions and experiences. Each person who knows you has a different perception of who you are.</p>\n",
              "<hr>\n",
              "<p>Value:<br>0</p></div></div><div class='child'><div class='node'>\n",
              "<p>State:<br>Plan:\n",
              "In this passage, we will start by introducing an adventurous protagonist who is always up for a challenge and loves to learn, using the example of a handstand as a metaphor for his approach to life. We will then move into the protagonist's journey into becoming an astronaut, where he experiences the unexpected smell of space. In the third paragraph, we will introduce a love interest who has a unique way of warding off unwanted suitors. The final paragraph will delve into the protagonist's introspective revelation about the nature of identity and perception.\n",
              "\n",
              "\n",
              "Passage:\n",
              "Our protagonist has always been an adventurous soul, always up to conquer the impossible. Whether it's climbing the highest mountain or diving deep into the sea, he loves to challenge himself. He takes on every challenge as if it were as simple as standing on your hands. As he often says, \"It isn't difficult to do a handstand if you just stand on your hands.\"\n",
              "\n",
              "Having conquered most challenges on Earth, he set his eyes on the final frontier - space. Training to become an astronaut, he learned and experienced things beyond his wildest dreams. His first journey into space brought an unexpected surprise. As he floated in the vacuum of space, he opened his helmet visor and was hit with a smell that was strange yet oddly familiar. It caught him off guard that space smelled of seared steak.\n",
              "\n",
              "Back on earth, amid all his adventures and achievements, he met a woman who was as unique and intriguing as space itself. She was not easily impressed, and she had a unique way of dealing with men she wasn't interested in. Once, when a rather persistent suitor tried his luck, she simply switched to sign language. When she didn’t like a guy who was trying to pick her up, she started using sign language.\n",
              "\n",
              "As our protagonist navigated through these diverse experiences, he began to realize a profound truth about identity and perception. He was a different person to each individual he met - an adventurer to some, a reckless risk-taker to others, a hero to many, and a mystery to the woman he loved. He understood that each person who knows you has a different perception of who you are.</p>\n",
              "<hr>\n",
              "<p>Thought:<br>Passage:\n",
              "Our protagonist has always been an adventurous soul, always up to conquer the impossible. Whether it's climbing the highest mountain or diving deep into the sea, he loves to challenge himself. He takes on every challenge as if it were as simple as standing on your hands. As he often says, \"It isn't difficult to do a handstand if you just stand on your hands.\"\n",
              "\n",
              "Having conquered most challenges on Earth, he set his eyes on the final frontier - space. Training to become an astronaut, he learned and experienced things beyond his wildest dreams. His first journey into space brought an unexpected surprise. As he floated in the vacuum of space, he opened his helmet visor and was hit with a smell that was strange yet oddly familiar. It caught him off guard that space smelled of seared steak.\n",
              "\n",
              "Back on earth, amid all his adventures and achievements, he met a woman who was as unique and intriguing as space itself. She was not easily impressed, and she had a unique way of dealing with men she wasn't interested in. Once, when a rather persistent suitor tried his luck, she simply switched to sign language. When she didn’t like a guy who was trying to pick her up, she started using sign language.\n",
              "\n",
              "As our protagonist navigated through these diverse experiences, he began to realize a profound truth about identity and perception. He was a different person to each individual he met - an adventurer to some, a reckless risk-taker to others, a hero to many, and a mystery to the woman he loved. He understood that each person who knows you has a different perception of who you are.</p>\n",
              "<hr>\n",
              "<p>Value:<br>0</p></div></div><div class='child'><div class='node'>\n",
              "<p>State:<br>Plan:\n",
              "In this passage, we will start by introducing an adventurous protagonist who is always up for a challenge and loves to learn, using the example of a handstand as a metaphor for his approach to life. We will then move into the protagonist's journey into becoming an astronaut, where he experiences the unexpected smell of space. In the third paragraph, we will introduce a love interest who has a unique way of warding off unwanted suitors. The final paragraph will delve into the protagonist's introspective revelation about the nature of identity and perception.\n",
              "\n",
              "\n",
              "Passage:\n",
              "Our protagonist, John, was an adventurous spirit, always eager to take on new challenges. He had a knack for making the seemingly demanding tasks seem simple, much like his unique perspective on handstands. To John, handstands weren't about balance or strength, but a simple reorientation of perspective. After all, he'd say with a smirk, \"It isn't difficult to do a handstand if you just stand on your hands.\"\n",
              "\n",
              "His thirst for adventure eventually led John to become an astronaut. The training was rigorous, and the anticipation of the unknown was exhilarating. However, nothing prepared him for his first spacewalk. As he popped open his suit's visor, an unexpected smell wafted into his nostrils. It was a surreal moment, heightened by the realization that space smelled of seared steak. It caught him off guard.\n",
              "\n",
              "Back on Earth, John met Lily, a vibrant woman with a sparkling wit and an unusual strategy for dealing with unwanted advances. Lily was deaf, but she didn't let that define her; instead, she used it to her advantage. When she didn’t like a guy who was trying to pick her up, she started using sign language, a tactic that left most suitors confused and quickly deterred.\n",
              "\n",
              "John's travels and encounters with people like Lily made him realize that everyone he met had a different perception of him. Some saw him as the daring astronaut, others as the curious man who saw handstands in an unusual light, and to Lily, he was a patient man who took the time to learn sign language. It was a profound realization: each person who knows you has a different perception of who you are.</p>\n",
              "<hr>\n",
              "<p>Thought:<br>Passage:\n",
              "Our protagonist, John, was an adventurous spirit, always eager to take on new challenges. He had a knack for making the seemingly demanding tasks seem simple, much like his unique perspective on handstands. To John, handstands weren't about balance or strength, but a simple reorientation of perspective. After all, he'd say with a smirk, \"It isn't difficult to do a handstand if you just stand on your hands.\"\n",
              "\n",
              "His thirst for adventure eventually led John to become an astronaut. The training was rigorous, and the anticipation of the unknown was exhilarating. However, nothing prepared him for his first spacewalk. As he popped open his suit's visor, an unexpected smell wafted into his nostrils. It was a surreal moment, heightened by the realization that space smelled of seared steak. It caught him off guard.\n",
              "\n",
              "Back on Earth, John met Lily, a vibrant woman with a sparkling wit and an unusual strategy for dealing with unwanted advances. Lily was deaf, but she didn't let that define her; instead, she used it to her advantage. When she didn’t like a guy who was trying to pick her up, she started using sign language, a tactic that left most suitors confused and quickly deterred.\n",
              "\n",
              "John's travels and encounters with people like Lily made him realize that everyone he met had a different perception of him. Some saw him as the daring astronaut, others as the curious man who saw handstands in an unusual light, and to Lily, he was a patient man who took the time to learn sign language. It was a profound realization: each person who knows you has a different perception of who you are.</p>\n",
              "<hr>\n",
              "<p>Value:<br>2</p></div></div></div></div></div>\n",
              "</body>\n",
              "</html>"
            ]
          },
          "metadata": {}
        }
      ]
    },
    {
      "cell_type": "markdown",
      "source": [
        "In the above visualization, each box represents a node. Nested boxes represent descendants. (Due to pruning, not all nodes have children.)\n",
        "\n",
        "Hope you've enjoyed the blog post so far! The next section on the *Game of 24* task is a bit long and nuanced. So now might be a good time for a coffee/tea break if you need one :)"
      ],
      "metadata": {
        "id": "1aPilh46Cwze"
      }
    },
    {
      "cell_type": "markdown",
      "source": [
        "## Game of 24"
      ],
      "metadata": {
        "id": "khPE1YlFJ8KJ"
      }
    },
    {
      "cell_type": "markdown",
      "source": [
        "In the *Game of 24* task, the LLM is provided an input sequence comprising four numbers. The task entails generating an equation (using only the `+`, `-`, `*` and `/` operators) that combines the four numbers to reach `24`. (Each of the four numbers can be used only once in the equation.)\n",
        "\n",
        "For example, if the input sequence is `\"4 9 10 13\"`, then a valid output is the equation `\"(13 - 9) * (10 - 4) = 24\"`."
      ],
      "metadata": {
        "id": "cBG7uUgvndYO"
      }
    },
    {
      "cell_type": "markdown",
      "source": [
        "![](https://storage.googleapis.com/assets-for-blog-posts/ToT_Table_1_v2.png)"
      ],
      "metadata": {
        "id": "B_9GXe-1pTu-"
      }
    },
    {
      "cell_type": "markdown",
      "source": [
        "**Note:** \"*#ToT steps*\" in the above table refers to the number of intermediate steps. For the *Game of 24* task, there are three intermediate steps: each intermediate step is an intermediate equation (as shown in the table above).\n",
        "\n",
        "Before diving into ToT, let's see how we might use a few-shot chain of thought (CoT) approach to solve this problem.\n",
        "\n",
        "Let's consider the following example:"
      ],
      "metadata": {
        "id": "Nt3ZkcLnpdSw"
      }
    },
    {
      "cell_type": "code",
      "source": [
        "# Reference: https://github.com/princeton-nlp/tree-of-thought-llm/blob/master/src/tot/data/24/24.csv\n",
        "input_seq = '1 1 1 8'"
      ],
      "metadata": {
        "id": "JjVKnvz2rESR"
      },
      "execution_count": 29,
      "outputs": []
    },
    {
      "cell_type": "code",
      "source": [
        "# Reference: https://github.com/princeton-nlp/tree-of-thought-llm/blob/master/src/tot/prompts/game24.py\n",
        "five_shot_cot_prompt = f'''Use numbers and basic arithmetic operations (+ - * /) to obtain 24. Each step, you are only allowed to choose two of the remaining numbers to obtain a new number.\n",
        "Input: 4 4 6 8\n",
        "Steps:\n",
        "4 + 8 = 12 (left: 4 6 12)\n",
        "6 - 4 = 2 (left: 2 12)\n",
        "2 * 12 = 24 (left: 24)\n",
        "Answer: (6 - 4) * (4 + 8) = 24\n",
        "Input: 2 9 10 12\n",
        "Steps:\n",
        "12 * 2 = 24 (left: 9 10 24)\n",
        "10 - 9 = 1 (left: 1 24)\n",
        "24 * 1 = 24 (left: 24)\n",
        "Answer: (12 * 2) * (10 - 9) = 24\n",
        "Input: 4 9 10 13\n",
        "Steps:\n",
        "13 - 10 = 3 (left: 3 4 9)\n",
        "9 - 3 = 6 (left: 4 6)\n",
        "4 * 6 = 24 (left: 24)\n",
        "Answer: 4 * (9 - (13 - 10)) = 24\n",
        "Input: 1 4 8 8\n",
        "Steps:\n",
        "8 / 4 = 2 (left: 1 2 8)\n",
        "1 + 2 = 3 (left: 3 8)\n",
        "3 * 8 = 24 (left: 24)\n",
        "Answer: (1 + 8 / 4) * 8 = 24\n",
        "Input: 5 5 5 9\n",
        "Steps:\n",
        "5 + 5 = 10 (left: 5 9 10)\n",
        "10 + 5 = 15 (left: 9 15)\n",
        "15 + 9 = 24 (left: 24)\n",
        "Answer: ((5 + 5) + 5) + 9 = 24\n",
        "Input: {input_seq}\n",
        "'''\n",
        "print(five_shot_cot_prompt)"
      ],
      "metadata": {
        "colab": {
          "base_uri": "https://localhost:8080/"
        },
        "id": "sKcFDiIgJ9e8",
        "outputId": "a203a62a-b767-43e3-aa92-3aedc7525cb5"
      },
      "execution_count": 30,
      "outputs": [
        {
          "output_type": "stream",
          "name": "stdout",
          "text": [
            "Use numbers and basic arithmetic operations (+ - * /) to obtain 24. Each step, you are only allowed to choose two of the remaining numbers to obtain a new number.\n",
            "Input: 4 4 6 8\n",
            "Steps:\n",
            "4 + 8 = 12 (left: 4 6 12)\n",
            "6 - 4 = 2 (left: 2 12)\n",
            "2 * 12 = 24 (left: 24)\n",
            "Answer: (6 - 4) * (4 + 8) = 24\n",
            "Input: 2 9 10 12\n",
            "Steps:\n",
            "12 * 2 = 24 (left: 9 10 24)\n",
            "10 - 9 = 1 (left: 1 24)\n",
            "24 * 1 = 24 (left: 24)\n",
            "Answer: (12 * 2) * (10 - 9) = 24\n",
            "Input: 4 9 10 13\n",
            "Steps:\n",
            "13 - 10 = 3 (left: 3 4 9)\n",
            "9 - 3 = 6 (left: 4 6)\n",
            "4 * 6 = 24 (left: 24)\n",
            "Answer: 4 * (9 - (13 - 10)) = 24\n",
            "Input: 1 4 8 8\n",
            "Steps:\n",
            "8 / 4 = 2 (left: 1 2 8)\n",
            "1 + 2 = 3 (left: 3 8)\n",
            "3 * 8 = 24 (left: 24)\n",
            "Answer: (1 + 8 / 4) * 8 = 24\n",
            "Input: 5 5 5 9\n",
            "Steps:\n",
            "5 + 5 = 10 (left: 5 9 10)\n",
            "10 + 5 = 15 (left: 9 15)\n",
            "15 + 9 = 24 (left: 24)\n",
            "Answer: ((5 + 5) + 5) + 9 = 24\n",
            "Input: 1 1 1 8\n",
            "\n"
          ]
        }
      ]
    },
    {
      "cell_type": "markdown",
      "source": [
        "In the above prompt, five examples of `\"Input\"`, `\"Steps\"` and `\"Answer\"` are provided, followed by the new `\"Input\"`. The hope is that the LLM can perform in-context learning to generate the appropriate `\"Steps\"` and `\"Answer\"` for the new `\"Input\"`. Let's try it out."
      ],
      "metadata": {
        "id": "eQak2Whewrt0"
      }
    },
    {
      "cell_type": "code",
      "source": [
        "responses = prelim.chat_completions(five_shot_cot_prompt, n=1)\n",
        "print(responses[0])"
      ],
      "metadata": {
        "colab": {
          "base_uri": "https://localhost:8080/"
        },
        "id": "QkpdNkMzxFc6",
        "outputId": "b03d6e5e-1c33-40bc-a5dc-4a6a6ea5210d"
      },
      "execution_count": 31,
      "outputs": [
        {
          "output_type": "stream",
          "name": "stdout",
          "text": [
            "Steps:\n",
            "1 + 1 = 2 (left: 1 2 8)\n",
            "2 * 8 = 16 (left: 1 16)\n",
            "16 + 8 = 24 (left: 24)\n",
            "Answer: ((1 + 1) * 8) + 1 = 24\n"
          ]
        }
      ]
    },
    {
      "cell_type": "markdown",
      "source": [
        "Few-shot CoT fails on this occassion! Can ToT do better? Let's find out.\n",
        "\n",
        "The first thing we'll need is an appropriate thought generation strategy.\n",
        "\n",
        "Recall that in the *Creative Writing* task, we used the `'sample'` thought generation strategy (which involved generating `n_candidates` thoughts in an i.i.d. manner). However, when each thought is very short (e.g., just a word or a line), an i.i.d. strategy leads to a lot of duplicate thoughts being generated.\n",
        "\n",
        "To avoid this problem, the authors have adopted a different thought generation strategy for the *Game of 24* task: `'propose'`. The `'propose'` strategy entails generating thoughts **sequentially** using a *propose prompt*. (The generated thoughts are separated by a delimiter such as `'\\n'`). From the paper:\n",
        "\n",
        "> \"*This strategy works better when the thought space is more constrained (e.g., each thought is just a word or a line), so proposing different thoughts in the same context avoids duplication.*\"\n",
        "\n",
        "Let's consider an example to make the idea concrete. The following is the propose prompt for intermediate steps:"
      ],
      "metadata": {
        "id": "KNzeJvq6xWTi"
      }
    },
    {
      "cell_type": "code",
      "source": [
        "# Reference: https://github.com/princeton-nlp/tree-of-thought-llm/blob/master/src/tot/prompts/game24.py\n",
        "remaining_numbers = input_seq\n",
        "one_shot_propose_prompt = f'''Input: 2 8 8 14\n",
        "Possible next steps:\n",
        "2 + 8 = 10 (left: 8 10 14)\n",
        "8 / 2 = 4 (left: 4 8 14)\n",
        "14 + 2 = 16 (left: 8 8 16)\n",
        "2 * 8 = 16 (left: 8 14 16)\n",
        "8 - 2 = 6 (left: 6 8 14)\n",
        "14 - 8 = 6 (left: 2 6 8)\n",
        "14 /  2 = 7 (left: 7 8 8)\n",
        "14 - 2 = 12 (left: 8 8 12)\n",
        "Input: {remaining_numbers}\n",
        "Possible next steps:\n",
        "'''\n",
        "print(one_shot_propose_prompt)"
      ],
      "metadata": {
        "colab": {
          "base_uri": "https://localhost:8080/"
        },
        "id": "h8AJm6nUzg-k",
        "outputId": "86789ad8-e174-42ab-bed9-7ec4d6d7b5b5"
      },
      "execution_count": 32,
      "outputs": [
        {
          "output_type": "stream",
          "name": "stdout",
          "text": [
            "Input: 2 8 8 14\n",
            "Possible next steps:\n",
            "2 + 8 = 10 (left: 8 10 14)\n",
            "8 / 2 = 4 (left: 4 8 14)\n",
            "14 + 2 = 16 (left: 8 8 16)\n",
            "2 * 8 = 16 (left: 8 14 16)\n",
            "8 - 2 = 6 (left: 6 8 14)\n",
            "14 - 8 = 6 (left: 2 6 8)\n",
            "14 /  2 = 7 (left: 7 8 8)\n",
            "14 - 2 = 12 (left: 8 8 12)\n",
            "Input: 1 1 1 8\n",
            "Possible next steps:\n",
            "\n"
          ]
        }
      ]
    },
    {
      "cell_type": "markdown",
      "source": [
        "It's a one-shot prompt containing a single example of `\"Input\"` and `\"Possible next steps\"`. The hope is that the LLM can perform in-context learning to generate a variety of `\"Possible next steps\"` for the new `\"Input\"` (the remaining numbers). (What's interesting is that the above prompt doesn't contain a task-specific instruction, i.e., it doesn't tell the LLM anything about the *Game of 24* task.)\n",
        "\n",
        "Let's see what thoughts the LLM generates."
      ],
      "metadata": {
        "id": "uS1AV5gPzug1"
      }
    },
    {
      "cell_type": "code",
      "source": [
        "responses = prelim.chat_completions(one_shot_propose_prompt, n=1)\n",
        "thoughts = responses[0].split('\\n')\n",
        "thoughts"
      ],
      "metadata": {
        "colab": {
          "base_uri": "https://localhost:8080/"
        },
        "id": "1toMmZ0F0xbq",
        "outputId": "b8b10a61-9d2e-4ab1-87bd-434d0c0236c1"
      },
      "execution_count": 33,
      "outputs": [
        {
          "output_type": "execute_result",
          "data": {
            "text/plain": [
              "['1 + 1 = 2 (left: 1 2 8)',\n",
              " '1 * 1 = 1 (left: 1 1 8)',\n",
              " '8 / 1 = 8 (left: 1 1 8)',\n",
              " '8 - 1 = 7 (left: 1 1 7)',\n",
              " '8 * 1 = 8 (left: 1 1 8)',\n",
              " '1 * 8 = 8 (left: 1 1 8)',\n",
              " '8 + 1 = 9 (left: 1 1 9)']"
            ]
          },
          "metadata": {},
          "execution_count": 33
        }
      ]
    },
    {
      "cell_type": "markdown",
      "source": [
        "**Note:** Recall that with the `'sample'` strategy, we specified `n_candidates` - the numbers of thoughts to generate at each thought generation step. With the `'propose'` strategy, we don't specify `n_candidates`; rather we leave it as a decision for the LLM.\n",
        "\n",
        "For the next thought generation step, we need to work with the remaining numbers (e.g., `\"1 2 8\"`). Therefore, let's write a function that extracts the remaining numbers from a thought."
      ],
      "metadata": {
        "id": "bA1Nt7IN1MIr"
      }
    },
    {
      "cell_type": "code",
      "source": [
        "# Reference: https://github.com/princeton-nlp/tree-of-thought-llm/blob/master/src/tot/tasks/game24.py\n",
        "def get_remaining_numbers(thought: str) -> str:\n",
        "    return thought.split('left: ')[-1].split(')')[0]"
      ],
      "metadata": {
        "id": "SiQHxcjZ1siW"
      },
      "execution_count": 34,
      "outputs": []
    },
    {
      "cell_type": "markdown",
      "source": [
        "Let's try it out on one of the above thoughts."
      ],
      "metadata": {
        "id": "8Z2seLjM1weA"
      }
    },
    {
      "cell_type": "code",
      "source": [
        "print(thoughts[0])\n",
        "remaining_numbers = get_remaining_numbers(thoughts[0])\n",
        "remaining_numbers"
      ],
      "metadata": {
        "colab": {
          "base_uri": "https://localhost:8080/",
          "height": 53
        },
        "id": "AvmPz6Wu1uwK",
        "outputId": "46c752b8-94e5-4321-cc42-b057eaee6003"
      },
      "execution_count": 35,
      "outputs": [
        {
          "output_type": "stream",
          "name": "stdout",
          "text": [
            "1 + 1 = 2 (left: 1 2 8)\n"
          ]
        },
        {
          "output_type": "execute_result",
          "data": {
            "text/plain": [
              "'1 2 8'"
            ],
            "application/vnd.google.colaboratory.intrinsic+json": {
              "type": "string"
            }
          },
          "metadata": {},
          "execution_count": 35
        }
      ]
    },
    {
      "cell_type": "markdown",
      "source": [
        "Using the above remaining numbers, our one-shot propose prompt is now the following:"
      ],
      "metadata": {
        "id": "bUX0uCbv12fY"
      }
    },
    {
      "cell_type": "code",
      "source": [
        "one_shot_propose_prompt = f'''Input: 2 8 8 14\n",
        "Possible next steps:\n",
        "2 + 8 = 10 (left: 8 10 14)\n",
        "8 / 2 = 4 (left: 4 8 14)\n",
        "14 + 2 = 16 (left: 8 8 16)\n",
        "2 * 8 = 16 (left: 8 14 16)\n",
        "8 - 2 = 6 (left: 6 8 14)\n",
        "14 - 8 = 6 (left: 2 6 8)\n",
        "14 /  2 = 7 (left: 7 8 8)\n",
        "14 - 2 = 12 (left: 8 8 12)\n",
        "Input: {remaining_numbers}\n",
        "Possible next steps:\n",
        "'''\n",
        "print(one_shot_propose_prompt)"
      ],
      "metadata": {
        "colab": {
          "base_uri": "https://localhost:8080/"
        },
        "id": "2f8IlW6b17lr",
        "outputId": "28afff66-0175-43a2-89ab-16ade60aca18"
      },
      "execution_count": 36,
      "outputs": [
        {
          "output_type": "stream",
          "name": "stdout",
          "text": [
            "Input: 2 8 8 14\n",
            "Possible next steps:\n",
            "2 + 8 = 10 (left: 8 10 14)\n",
            "8 / 2 = 4 (left: 4 8 14)\n",
            "14 + 2 = 16 (left: 8 8 16)\n",
            "2 * 8 = 16 (left: 8 14 16)\n",
            "8 - 2 = 6 (left: 6 8 14)\n",
            "14 - 8 = 6 (left: 2 6 8)\n",
            "14 /  2 = 7 (left: 7 8 8)\n",
            "14 - 2 = 12 (left: 8 8 12)\n",
            "Input: 1 2 8\n",
            "Possible next steps:\n",
            "\n"
          ]
        }
      ]
    },
    {
      "cell_type": "markdown",
      "source": [
        "Let's see what thoughts the LLM generates."
      ],
      "metadata": {
        "id": "WefbqPmk1_sH"
      }
    },
    {
      "cell_type": "code",
      "source": [
        "responses = prelim.chat_completions(one_shot_propose_prompt, n=1)\n",
        "thoughts = responses[0].split('\\n')\n",
        "thoughts"
      ],
      "metadata": {
        "colab": {
          "base_uri": "https://localhost:8080/"
        },
        "id": "rO2jJn8_18lg",
        "outputId": "8f389e31-3f53-4407-888c-7d7978a85489"
      },
      "execution_count": 37,
      "outputs": [
        {
          "output_type": "execute_result",
          "data": {
            "text/plain": [
              "['1 + 2 = 3 (left: 3 8)',\n",
              " '8 - 1 = 7 (left: 2 7)',\n",
              " '8 - 2 = 6 (left: 1 6)',\n",
              " '2 * 1 = 2 (left: 2 8)',\n",
              " '8 / 2 = 4 (left: 1 4)',\n",
              " '8 / 1 = 8 (left: 2 8)']"
            ]
          },
          "metadata": {},
          "execution_count": 37
        }
      ]
    },
    {
      "cell_type": "markdown",
      "source": [
        "Let's extract the remaining numbers from one of the above thoughts."
      ],
      "metadata": {
        "id": "_bAhKmMy2RGT"
      }
    },
    {
      "cell_type": "code",
      "source": [
        "print(thoughts[0])\n",
        "remaining_numbers = get_remaining_numbers(thoughts[0])\n",
        "remaining_numbers"
      ],
      "metadata": {
        "colab": {
          "base_uri": "https://localhost:8080/",
          "height": 53
        },
        "id": "KYiwijCm2Whx",
        "outputId": "6791d721-648c-418a-e8d5-e0274fb62fca"
      },
      "execution_count": 38,
      "outputs": [
        {
          "output_type": "stream",
          "name": "stdout",
          "text": [
            "1 + 2 = 3 (left: 3 8)\n"
          ]
        },
        {
          "output_type": "execute_result",
          "data": {
            "text/plain": [
              "'3 8'"
            ],
            "application/vnd.google.colaboratory.intrinsic+json": {
              "type": "string"
            }
          },
          "metadata": {},
          "execution_count": 38
        }
      ]
    },
    {
      "cell_type": "markdown",
      "source": [
        "Using the above remaining numbers, our one-shot propose prompt is now the following:"
      ],
      "metadata": {
        "id": "2nYpDrLF2deW"
      }
    },
    {
      "cell_type": "code",
      "source": [
        "one_shot_propose_prompt = f'''Input: 2 8 8 14\n",
        "Possible next steps:\n",
        "2 + 8 = 10 (left: 8 10 14)\n",
        "8 / 2 = 4 (left: 4 8 14)\n",
        "14 + 2 = 16 (left: 8 8 16)\n",
        "2 * 8 = 16 (left: 8 14 16)\n",
        "8 - 2 = 6 (left: 6 8 14)\n",
        "14 - 8 = 6 (left: 2 6 8)\n",
        "14 /  2 = 7 (left: 7 8 8)\n",
        "14 - 2 = 12 (left: 8 8 12)\n",
        "Input: {remaining_numbers}\n",
        "Possible next steps:\n",
        "'''\n",
        "print(one_shot_propose_prompt)"
      ],
      "metadata": {
        "colab": {
          "base_uri": "https://localhost:8080/"
        },
        "id": "7TJZUImx2Y-i",
        "outputId": "16170752-7fa1-4ea6-da01-858f10fed42a"
      },
      "execution_count": 39,
      "outputs": [
        {
          "output_type": "stream",
          "name": "stdout",
          "text": [
            "Input: 2 8 8 14\n",
            "Possible next steps:\n",
            "2 + 8 = 10 (left: 8 10 14)\n",
            "8 / 2 = 4 (left: 4 8 14)\n",
            "14 + 2 = 16 (left: 8 8 16)\n",
            "2 * 8 = 16 (left: 8 14 16)\n",
            "8 - 2 = 6 (left: 6 8 14)\n",
            "14 - 8 = 6 (left: 2 6 8)\n",
            "14 /  2 = 7 (left: 7 8 8)\n",
            "14 - 2 = 12 (left: 8 8 12)\n",
            "Input: 3 8\n",
            "Possible next steps:\n",
            "\n"
          ]
        }
      ]
    },
    {
      "cell_type": "markdown",
      "source": [
        "Let's see what thoughts the LLM generates."
      ],
      "metadata": {
        "id": "NYklo4KW2lX3"
      }
    },
    {
      "cell_type": "code",
      "source": [
        "responses = prelim.chat_completions(one_shot_propose_prompt, n=1)\n",
        "thoughts = responses[0].split('\\n')\n",
        "thoughts"
      ],
      "metadata": {
        "colab": {
          "base_uri": "https://localhost:8080/"
        },
        "id": "8_br0zi52k1Y",
        "outputId": "f3ced1e0-58ed-4747-9d1e-30a8b88ebd09"
      },
      "execution_count": 40,
      "outputs": [
        {
          "output_type": "execute_result",
          "data": {
            "text/plain": [
              "['3 + 8 = 11 (left: 11)',\n",
              " '8 - 3 = 5 (left: 5)',\n",
              " '3 * 8 = 24 (left: 24)',\n",
              " '8 / 3 = 2.67 (left: 2.67)']"
            ]
          },
          "metadata": {},
          "execution_count": 40
        }
      ]
    },
    {
      "cell_type": "markdown",
      "source": [
        "We see that one of the thoughts is `\"3 * 8 = 24 (left: 24)\"`. In other words, across thought generation steps `1`, `2` and `3`, at least one successful search path exists (that can reach `24`).\n",
        "\n",
        "Now that we have generated intermediate thoughts, we need to generate the output. (This can be considered thought generation step `4`.)\n",
        "\n",
        "For example, let's assume that the state of a particular node is the following:"
      ],
      "metadata": {
        "id": "ATXrp3p520QB"
      }
    },
    {
      "cell_type": "code",
      "source": [
        "thoughts = ['1 + 1 = 2 (left: 1 2 8)', '1 + 2 = 3 (left: 3 8)', '3 * 8 = 24 (left: 24)']\n",
        "state =  '\\n'.join(thoughts)\n",
        "print(state)"
      ],
      "metadata": {
        "colab": {
          "base_uri": "https://localhost:8080/"
        },
        "id": "CVJkmwbs3uKy",
        "outputId": "c73f84e2-0ad1-46b1-871f-c2123306d3e1"
      },
      "execution_count": 41,
      "outputs": [
        {
          "output_type": "stream",
          "name": "stdout",
          "text": [
            "1 + 1 = 2 (left: 1 2 8)\n",
            "1 + 2 = 3 (left: 3 8)\n",
            "3 * 8 = 24 (left: 24)\n"
          ]
        }
      ]
    },
    {
      "cell_type": "markdown",
      "source": [
        "The above state has all the correct intermediate thoughts to be able to generate the output `\"Answer: (1 + (1 + 1)) * 8 = 24\"`. Since this output generation task is very different from the earlier task of generating intermediate thoughts, the prompt for it will also look very different. Here it is:"
      ],
      "metadata": {
        "id": "UHzPHKnk3w20"
      }
    },
    {
      "cell_type": "code",
      "source": [
        "# Reference: https://github.com/princeton-nlp/tree-of-thought-llm/blob/master/src/tot/prompts/game24.py\n",
        "five_shot_cot_prompt = f'''Use numbers and basic arithmetic operations (+ - * /) to obtain 24. Each step, you are only allowed to choose two of the remaining numbers to obtain a new number.\n",
        "Input: 4 4 6 8\n",
        "Steps:\n",
        "4 + 8 = 12 (left: 4 6 12)\n",
        "6 - 4 = 2 (left: 2 12)\n",
        "2 * 12 = 24 (left: 24)\n",
        "Answer: (6 - 4) * (4 + 8) = 24\n",
        "Input: 2 9 10 12\n",
        "Steps:\n",
        "12 * 2 = 24 (left: 9 10 24)\n",
        "10 - 9 = 1 (left: 1 24)\n",
        "24 * 1 = 24 (left: 24)\n",
        "Answer: (12 * 2) * (10 - 9) = 24\n",
        "Input: 4 9 10 13\n",
        "Steps:\n",
        "13 - 10 = 3 (left: 3 4 9)\n",
        "9 - 3 = 6 (left: 4 6)\n",
        "4 * 6 = 24 (left: 24)\n",
        "Answer: 4 * (9 - (13 - 10)) = 24\n",
        "Input: 1 4 8 8\n",
        "Steps:\n",
        "8 / 4 = 2 (left: 1 2 8)\n",
        "1 + 2 = 3 (left: 3 8)\n",
        "3 * 8 = 24 (left: 24)\n",
        "Answer: (1 + 8 / 4) * 8 = 24\n",
        "Input: 5 5 5 9\n",
        "Steps:\n",
        "5 + 5 = 10 (left: 5 9 10)\n",
        "10 + 5 = 15 (left: 9 15)\n",
        "15 + 9 = 24 (left: 24)\n",
        "Answer: ((5 + 5) + 5) + 9 = 24\n",
        "Input: {input_seq}\n",
        "Steps:\n",
        "{state}\n",
        "'''\n",
        "print(five_shot_cot_prompt)"
      ],
      "metadata": {
        "colab": {
          "base_uri": "https://localhost:8080/"
        },
        "id": "m-9pgN9V4lhY",
        "outputId": "4993c3d7-7156-4dd2-9062-ae110624eeee"
      },
      "execution_count": 42,
      "outputs": [
        {
          "output_type": "stream",
          "name": "stdout",
          "text": [
            "Use numbers and basic arithmetic operations (+ - * /) to obtain 24. Each step, you are only allowed to choose two of the remaining numbers to obtain a new number.\n",
            "Input: 4 4 6 8\n",
            "Steps:\n",
            "4 + 8 = 12 (left: 4 6 12)\n",
            "6 - 4 = 2 (left: 2 12)\n",
            "2 * 12 = 24 (left: 24)\n",
            "Answer: (6 - 4) * (4 + 8) = 24\n",
            "Input: 2 9 10 12\n",
            "Steps:\n",
            "12 * 2 = 24 (left: 9 10 24)\n",
            "10 - 9 = 1 (left: 1 24)\n",
            "24 * 1 = 24 (left: 24)\n",
            "Answer: (12 * 2) * (10 - 9) = 24\n",
            "Input: 4 9 10 13\n",
            "Steps:\n",
            "13 - 10 = 3 (left: 3 4 9)\n",
            "9 - 3 = 6 (left: 4 6)\n",
            "4 * 6 = 24 (left: 24)\n",
            "Answer: 4 * (9 - (13 - 10)) = 24\n",
            "Input: 1 4 8 8\n",
            "Steps:\n",
            "8 / 4 = 2 (left: 1 2 8)\n",
            "1 + 2 = 3 (left: 3 8)\n",
            "3 * 8 = 24 (left: 24)\n",
            "Answer: (1 + 8 / 4) * 8 = 24\n",
            "Input: 5 5 5 9\n",
            "Steps:\n",
            "5 + 5 = 10 (left: 5 9 10)\n",
            "10 + 5 = 15 (left: 9 15)\n",
            "15 + 9 = 24 (left: 24)\n",
            "Answer: ((5 + 5) + 5) + 9 = 24\n",
            "Input: 1 1 1 8\n",
            "Steps:\n",
            "1 + 1 = 2 (left: 1 2 8)\n",
            "1 + 2 = 3 (left: 3 8)\n",
            "3 * 8 = 24 (left: 24)\n",
            "\n"
          ]
        }
      ]
    },
    {
      "cell_type": "markdown",
      "source": [
        "You may have noticed that it's exactly the earlier five-shot CoT prompt, except that we've also injected the intermediate steps. Will the LLM be able to generate the correct output this time?"
      ],
      "metadata": {
        "id": "-NT3thtt4sqR"
      }
    },
    {
      "cell_type": "code",
      "source": [
        "responses = prelim.chat_completions(five_shot_cot_prompt, n=1)\n",
        "thoughts = responses[0].split('\\n')\n",
        "thoughts"
      ],
      "metadata": {
        "colab": {
          "base_uri": "https://localhost:8080/"
        },
        "id": "ZjYNazM_5FEK",
        "outputId": "f22db5ad-137c-44bb-9bcf-36648d8f6609"
      },
      "execution_count": 43,
      "outputs": [
        {
          "output_type": "execute_result",
          "data": {
            "text/plain": [
              "['Answer: (1 + 1 + 1) * 8 = 24']"
            ]
          },
          "metadata": {},
          "execution_count": 43
        }
      ]
    },
    {
      "cell_type": "markdown",
      "source": [
        "Yes it is able to!\n",
        "\n",
        "Now, the above workflow raises a minor concern. There are two seperate prompts (one for generating the intermediate thoughts, and one for generating the final answer). Moreover, we are using an external function `get_remaining_numbers` to extract the remaining numbers from intermediate thoughts. But we need to pass a single callable `get_thought_gen_prompt` to our `TreeOfThoughts` class (that returns the correct prompt). How do we do this?\n",
        "\n",
        "The following callable does the job:"
      ],
      "metadata": {
        "id": "YCjqyHOe5NQJ"
      }
    },
    {
      "cell_type": "code",
      "source": [
        "def get_thought_gen_prompt(input_seq: str, state: str) -> str:\n",
        "    \"\"\"Get thought generation prompt.\n",
        "\n",
        "    Keyword arguments:\n",
        "    input_seq -- the input sequence (comprising four numbers, e.g., '1 1 1 8')\n",
        "    state -- concatenation of all the thoughts so far (separated by '\\n')\n",
        "    \"\"\"\n",
        "\n",
        "    # Reference: https://github.com/princeton-nlp/tree-of-thought-llm/blob/master/src/tot/tasks/game24.py\n",
        "    def get_remaining_numbers(thought: str) -> str:\n",
        "        return thought.split('left: ')[-1].split(')')[0]\n",
        "\n",
        "    if state == '': # Root node; no thoughts have been generated yet.\n",
        "        remaining_numbers = input_seq\n",
        "    else:\n",
        "        last_thought = state.strip().split('\\n')[-1]\n",
        "        remaining_numbers = get_remaining_numbers(last_thought)\n",
        "\n",
        "    if remaining_numbers != '24': # Intermediate step.\n",
        "        # Reference: https://github.com/princeton-nlp/tree-of-thought-llm/blob/master/src/tot/prompts/game24.py\n",
        "        prompt = f'''Input: 2 8 8 14\n",
        "Possible next steps:\n",
        "2 + 8 = 10 (left: 8 10 14)\n",
        "8 / 2 = 4 (left: 4 8 14)\n",
        "14 + 2 = 16 (left: 8 8 16)\n",
        "2 * 8 = 16 (left: 8 14 16)\n",
        "8 - 2 = 6 (left: 6 8 14)\n",
        "14 - 8 = 6 (left: 2 6 8)\n",
        "14 /  2 = 7 (left: 7 8 8)\n",
        "14 - 2 = 12 (left: 8 8 12)\n",
        "Input: {remaining_numbers}\n",
        "Possible next steps:\n",
        "'''\n",
        "    else: # Last (output generation) step.\n",
        "        # Reference: https://github.com/princeton-nlp/tree-of-thought-llm/blob/master/src/tot/prompts/game24.py\n",
        "        prompt = f'''Use numbers and basic arithmetic operations (+ - * /) to obtain 24. Each step, you are only allowed to choose two of the remaining numbers to obtain a new number.\n",
        "Input: 4 4 6 8\n",
        "Steps:\n",
        "4 + 8 = 12 (left: 4 6 12)\n",
        "6 - 4 = 2 (left: 2 12)\n",
        "2 * 12 = 24 (left: 24)\n",
        "Answer: (6 - 4) * (4 + 8) = 24\n",
        "Input: 2 9 10 12\n",
        "Steps:\n",
        "12 * 2 = 24 (left: 9 10 24)\n",
        "10 - 9 = 1 (left: 1 24)\n",
        "24 * 1 = 24 (left: 24)\n",
        "Answer: (12 * 2) * (10 - 9) = 24\n",
        "Input: 4 9 10 13\n",
        "Steps:\n",
        "13 - 10 = 3 (left: 3 4 9)\n",
        "9 - 3 = 6 (left: 4 6)\n",
        "4 * 6 = 24 (left: 24)\n",
        "Answer: 4 * (9 - (13 - 10)) = 24\n",
        "Input: 1 4 8 8\n",
        "Steps:\n",
        "8 / 4 = 2 (left: 1 2 8)\n",
        "1 + 2 = 3 (left: 3 8)\n",
        "3 * 8 = 24 (left: 24)\n",
        "Answer: (1 + 8 / 4) * 8 = 24\n",
        "Input: 5 5 5 9\n",
        "Steps:\n",
        "5 + 5 = 10 (left: 5 9 10)\n",
        "10 + 5 = 15 (left: 9 15)\n",
        "15 + 9 = 24 (left: 24)\n",
        "Answer: ((5 + 5) + 5) + 9 = 24\n",
        "Input: {input_seq}\n",
        "Steps:\n",
        "{state}\n",
        "'''\n",
        "    return prompt"
      ],
      "metadata": {
        "id": "uGVnz-xN6zeN"
      },
      "execution_count": 44,
      "outputs": []
    },
    {
      "cell_type": "markdown",
      "source": [
        "We have been able to package everything into a single callable by adopting the following strategies:\n",
        "\n",
        "- `get_remaining_numbers` is now a nested function.\n",
        "- The last thought is being extracted from the state by splitting on the `'\\n'` character. (This works because every thought appears on a new line.)\n",
        "- `remaining_numbers` is extracted from the last thought using `get_remaining_numbers`.\n",
        "- If `remaining_numbers` is not equal to `'24'`, we return the prompt for generating intermediate thoughts. Otherwise, we return the prompt for generating the final answer.\n",
        "\n",
        "Now, the BFS algorithm for *Game of 24* looks very similar to the BFS algorithm for *Creative Writing*, with the following differences:\n",
        "\n",
        "- `n_steps` is equal to `4` (`3` intermediate steps + `1` output generation step).\n",
        "- The authors have chosen to set `n_evals` to `3`.\n",
        "- The authors have chosen to set `breadth_limit` to `5`."
      ],
      "metadata": {
        "id": "NK17tD-S7PDL"
      }
    },
    {
      "cell_type": "markdown",
      "source": [
        "![](https://storage.googleapis.com/assets-for-blog-posts/ToT_Fig_2.png)"
      ],
      "metadata": {
        "id": "X5cb-9wJCl0n"
      }
    },
    {
      "cell_type": "markdown",
      "source": [
        "For the *Game of 24* task, the state evaluation strategy adopted is `'value'` (not `'vote'`). From the paper:\n",
        "\n",
        "> \"*Value each state independently ... a value prompt reasons about the state $s$ to generate a scalar value $v$ (e.g. 1-10) or a classification (e.g. sure/likely/impossible) that could be heuristically turned into a value... Such valuations do not need to be perfect, and only need to be approximately helpful for decision making.*\"\n",
        "\n",
        "In other words, instead of voting on the states, the `'value'` strategy values each state independently.\n",
        "\n",
        "It turns out that the state evaluator is the LLM itself. However, it (obviously) needs a different prompt than the thought generator. Let's take a look.\n",
        "\n",
        "Recall that the LLM's thoughts have two distinct types: (i) intermediate thoughts, and (ii) final answer. Therefore, we'll need two separate prompts for state evaluation: (1) one prompt to evaluate states which contain only intermediate thoughts, and (2) another prompt to evaluate states which contain both intermediate thoughts and the final answer.\n",
        "\n",
        "Let's start with the former. Suppose two intermediate thoughts have been generated so far."
      ],
      "metadata": {
        "id": "tiquyHHYDA9r"
      }
    },
    {
      "cell_type": "code",
      "source": [
        "thoughts = ['1 + 1 = 2 (left: 1 2 8)', '1 + 2 = 3 (left: 3 8)']\n",
        "state =  '\\n'.join(thoughts)\n",
        "print(state)"
      ],
      "metadata": {
        "colab": {
          "base_uri": "https://localhost:8080/"
        },
        "id": "M_bxBQFpEpIK",
        "outputId": "702bc654-bfba-48b9-acfe-adb62d9fdf0e"
      },
      "execution_count": 45,
      "outputs": [
        {
          "output_type": "stream",
          "name": "stdout",
          "text": [
            "1 + 1 = 2 (left: 1 2 8)\n",
            "1 + 2 = 3 (left: 3 8)\n"
          ]
        }
      ]
    },
    {
      "cell_type": "markdown",
      "source": [
        "We can extract the last thought from the state by splitting on the `'\\n'` character."
      ],
      "metadata": {
        "id": "6D8_zbyNEtcv"
      }
    },
    {
      "cell_type": "code",
      "source": [
        "last_thought = state.strip().split('\\n')[-1]\n",
        "last_thought"
      ],
      "metadata": {
        "colab": {
          "base_uri": "https://localhost:8080/",
          "height": 35
        },
        "id": "yrBS_eMMEzv7",
        "outputId": "7e07e41b-0622-4d7d-8ec5-a88185b4816b"
      },
      "execution_count": 46,
      "outputs": [
        {
          "output_type": "execute_result",
          "data": {
            "text/plain": [
              "'1 + 2 = 3 (left: 3 8)'"
            ],
            "application/vnd.google.colaboratory.intrinsic+json": {
              "type": "string"
            }
          },
          "metadata": {},
          "execution_count": 46
        }
      ]
    },
    {
      "cell_type": "markdown",
      "source": [
        "And then extract the remaining numbers by using our familiar `get_remaining_numbers` function."
      ],
      "metadata": {
        "id": "aNIMfjjhE2o9"
      }
    },
    {
      "cell_type": "code",
      "source": [
        "remaining_numbers = get_remaining_numbers(last_thought)\n",
        "remaining_numbers"
      ],
      "metadata": {
        "colab": {
          "base_uri": "https://localhost:8080/",
          "height": 35
        },
        "id": "XoHmVCb7E-Td",
        "outputId": "f1d21ba3-f63e-4076-cdd6-32d09c11019d"
      },
      "execution_count": 47,
      "outputs": [
        {
          "output_type": "execute_result",
          "data": {
            "text/plain": [
              "'3 8'"
            ],
            "application/vnd.google.colaboratory.intrinsic+json": {
              "type": "string"
            }
          },
          "metadata": {},
          "execution_count": 47
        }
      ]
    },
    {
      "cell_type": "markdown",
      "source": [
        "The following eight-shot value prompt is used to evaluate whether the remaining numbers can reach `24`."
      ],
      "metadata": {
        "id": "VnA_4SDTGq8l"
      }
    },
    {
      "cell_type": "code",
      "source": [
        "# Reference: https://github.com/princeton-nlp/tree-of-thought-llm/blob/master/src/tot/prompts/game24.py\n",
        "eight_shot_value_prompt = f'''Evaluate if given numbers can reach 24 (sure/likely/impossible)\n",
        "10 14\n",
        "10 + 14 = 24\n",
        "sure\n",
        "11 12\n",
        "11 + 12 = 23\n",
        "12 - 11 = 1\n",
        "11 * 12 = 132\n",
        "11 / 12 = 0.91\n",
        "impossible\n",
        "4 4 10\n",
        "4 + 4 + 10 = 8 + 10 = 18\n",
        "4 * 10 - 4 = 40 - 4 = 36\n",
        "(10 - 4) * 4 = 6 * 4 = 24\n",
        "sure\n",
        "4 9 11\n",
        "9 + 11 + 4 = 20 + 4 = 24\n",
        "sure\n",
        "5 7 8\n",
        "5 + 7 + 8 = 12 + 8 = 20\n",
        "(8 - 5) * 7 = 3 * 7 = 21\n",
        "I cannot obtain 24 now, but numbers are within a reasonable range\n",
        "likely\n",
        "5 6 6\n",
        "5 + 6 + 6 = 17\n",
        "(6 - 5) * 6 = 1 * 6 = 6\n",
        "I cannot obtain 24 now, but numbers are within a reasonable range\n",
        "likely\n",
        "10 10 11\n",
        "10 + 10 + 11 = 31\n",
        "(11 - 10) * 10 = 10\n",
        "10 10 11 are all too big\n",
        "impossible\n",
        "1 3 3\n",
        "1 * 3 * 3 = 9\n",
        "(1 + 3) * 3 = 12\n",
        "1 3 3 are all too small\n",
        "impossible\n",
        "{remaining_numbers}\n",
        "'''\n",
        "print(eight_shot_value_prompt)"
      ],
      "metadata": {
        "colab": {
          "base_uri": "https://localhost:8080/"
        },
        "id": "2aY6FKErHAfc",
        "outputId": "7490366a-123c-48ab-ec58-aac244f8a677"
      },
      "execution_count": 48,
      "outputs": [
        {
          "output_type": "stream",
          "name": "stdout",
          "text": [
            "Evaluate if given numbers can reach 24 (sure/likely/impossible)\n",
            "10 14\n",
            "10 + 14 = 24\n",
            "sure\n",
            "11 12\n",
            "11 + 12 = 23\n",
            "12 - 11 = 1\n",
            "11 * 12 = 132\n",
            "11 / 12 = 0.91\n",
            "impossible\n",
            "4 4 10\n",
            "4 + 4 + 10 = 8 + 10 = 18\n",
            "4 * 10 - 4 = 40 - 4 = 36\n",
            "(10 - 4) * 4 = 6 * 4 = 24\n",
            "sure\n",
            "4 9 11\n",
            "9 + 11 + 4 = 20 + 4 = 24\n",
            "sure\n",
            "5 7 8\n",
            "5 + 7 + 8 = 12 + 8 = 20\n",
            "(8 - 5) * 7 = 3 * 7 = 21\n",
            "I cannot obtain 24 now, but numbers are within a reasonable range\n",
            "likely\n",
            "5 6 6\n",
            "5 + 6 + 6 = 17\n",
            "(6 - 5) * 6 = 1 * 6 = 6\n",
            "I cannot obtain 24 now, but numbers are within a reasonable range\n",
            "likely\n",
            "10 10 11\n",
            "10 + 10 + 11 = 31\n",
            "(11 - 10) * 10 = 10\n",
            "10 10 11 are all too big\n",
            "impossible\n",
            "1 3 3\n",
            "1 * 3 * 3 = 9\n",
            "(1 + 3) * 3 = 12\n",
            "1 3 3 are all too small\n",
            "impossible\n",
            "3 8\n",
            "\n"
          ]
        }
      ]
    },
    {
      "cell_type": "markdown",
      "source": [
        "Let's see the LLM's response."
      ],
      "metadata": {
        "id": "UTPyN3gcKQHg"
      }
    },
    {
      "cell_type": "code",
      "source": [
        "responses = prelim.chat_completions(eight_shot_value_prompt, n=1)\n",
        "print(responses[0])"
      ],
      "metadata": {
        "colab": {
          "base_uri": "https://localhost:8080/"
        },
        "id": "eL-9M_hlH0y7",
        "outputId": "8015276d-033a-4db5-f104-61503e2792cd"
      },
      "execution_count": 49,
      "outputs": [
        {
          "output_type": "stream",
          "name": "stdout",
          "text": [
            "3 + 8 = 11\n",
            "3 * 8 = 24\n",
            "sure\n"
          ]
        }
      ]
    },
    {
      "cell_type": "markdown",
      "source": [
        "Now, let's consider a state which contains the final answer."
      ],
      "metadata": {
        "id": "pwjfEeRXInlM"
      }
    },
    {
      "cell_type": "code",
      "source": [
        "thoughts = ['1 + 1 = 2 (left: 1 2 8)', '1 + 2 = 3 (left: 3 8)', '3 * 8 = 24 (left: 24)', 'Answer: ((1 + 1) + 1) * 8 = 24']\n",
        "state =  '\\n'.join(thoughts)\n",
        "print(state)"
      ],
      "metadata": {
        "colab": {
          "base_uri": "https://localhost:8080/"
        },
        "id": "aNV8cBy7IrHP",
        "outputId": "f3c91dde-42a6-48a7-9dd2-582b2a08bd68"
      },
      "execution_count": 50,
      "outputs": [
        {
          "output_type": "stream",
          "name": "stdout",
          "text": [
            "1 + 1 = 2 (left: 1 2 8)\n",
            "1 + 2 = 3 (left: 3 8)\n",
            "3 * 8 = 24 (left: 24)\n",
            "Answer: ((1 + 1) + 1) * 8 = 24\n"
          ]
        }
      ]
    },
    {
      "cell_type": "markdown",
      "source": [
        "First, the last line is extracted."
      ],
      "metadata": {
        "id": "UPPUdL6UI2kA"
      }
    },
    {
      "cell_type": "code",
      "source": [
        "last_line = state.strip().split('\\n')[-1]\n",
        "last_line"
      ],
      "metadata": {
        "colab": {
          "base_uri": "https://localhost:8080/",
          "height": 35
        },
        "id": "5igs-E5_I5Tf",
        "outputId": "6de091fd-5290-4136-af0b-a4181a44d767"
      },
      "execution_count": 51,
      "outputs": [
        {
          "output_type": "execute_result",
          "data": {
            "text/plain": [
              "'Answer: ((1 + 1) + 1) * 8 = 24'"
            ],
            "application/vnd.google.colaboratory.intrinsic+json": {
              "type": "string"
            }
          },
          "metadata": {},
          "execution_count": 51
        }
      ]
    },
    {
      "cell_type": "markdown",
      "source": [
        "If the string `'left':` is NOT a substring of `last_line`, then we know that we have the final answer. In that case, we extract the equation as follows:"
      ],
      "metadata": {
        "id": "JDo2evkIJG5E"
      }
    },
    {
      "cell_type": "code",
      "source": [
        "if 'left: ' not in last_line:\n",
        "    ans = last_line.lower().replace('answer: ', '')\n",
        "ans"
      ],
      "metadata": {
        "colab": {
          "base_uri": "https://localhost:8080/",
          "height": 35
        },
        "id": "txQyE5uwJqCK",
        "outputId": "f1010b92-10f9-416f-ec2c-16d0da10cec5"
      },
      "execution_count": 52,
      "outputs": [
        {
          "output_type": "execute_result",
          "data": {
            "text/plain": [
              "'((1 + 1) + 1) * 8 = 24'"
            ],
            "application/vnd.google.colaboratory.intrinsic+json": {
              "type": "string"
            }
          },
          "metadata": {},
          "execution_count": 52
        }
      ]
    },
    {
      "cell_type": "markdown",
      "source": [
        "The following six-shot value prompt is used to evaluate whether the extracted equation is correct:"
      ],
      "metadata": {
        "id": "o4XRXFk_J0_a"
      }
    },
    {
      "cell_type": "code",
      "source": [
        "# Reference: https://github.com/princeton-nlp/tree-of-thought-llm/blob/master/src/tot/prompts/game24.py\n",
        "six_shot_value_last_step_prompt = f'''Use numbers and basic arithmetic operations (+ - * /) to obtain 24. Given an input and an answer, give a judgement (sure/impossible) if the answer is correct, i.e. it uses each input exactly once and no other numbers, and reach 24.\n",
        "Input: 4 4 6 8\n",
        "Answer: (4 + 8) * (6 - 4) = 24\n",
        "Judge:\n",
        "sure\n",
        "Input: 2 9 10 12\n",
        "Answer: 2 * 12 * (10 - 9) = 24\n",
        "Judge:\n",
        "sure\n",
        "Input: 4 9 10 13\n",
        "Answer: (13 - 9) * (10 - 4) = 24\n",
        "Judge:\n",
        "sure\n",
        "Input: 4 4 6 8\n",
        "Answer: (4 + 8) * (6 - 4) + 1 = 25\n",
        "Judge:\n",
        "impossible\n",
        "Input: 2 9 10 12\n",
        "Answer: 2 * (12 - 10) = 24\n",
        "Judge:\n",
        "impossible\n",
        "Input: 4 9 10 13\n",
        "Answer: (13 - 4) * (10 - 9) = 24\n",
        "Judge:\n",
        "impossible\n",
        "Input: {input_seq}\n",
        "Answer: {ans}\n",
        "Judge:'''\n",
        "print(six_shot_value_last_step_prompt)"
      ],
      "metadata": {
        "colab": {
          "base_uri": "https://localhost:8080/"
        },
        "id": "uXpKmqs4J8xc",
        "outputId": "ffc5c8a1-4fd5-40ab-d9b1-9900a2f1a8ee"
      },
      "execution_count": 53,
      "outputs": [
        {
          "output_type": "stream",
          "name": "stdout",
          "text": [
            "Use numbers and basic arithmetic operations (+ - * /) to obtain 24. Given an input and an answer, give a judgement (sure/impossible) if the answer is correct, i.e. it uses each input exactly once and no other numbers, and reach 24.\n",
            "Input: 4 4 6 8\n",
            "Answer: (4 + 8) * (6 - 4) = 24\n",
            "Judge:\n",
            "sure\n",
            "Input: 2 9 10 12\n",
            "Answer: 2 * 12 * (10 - 9) = 24\n",
            "Judge:\n",
            "sure\n",
            "Input: 4 9 10 13\n",
            "Answer: (13 - 9) * (10 - 4) = 24\n",
            "Judge:\n",
            "sure\n",
            "Input: 4 4 6 8\n",
            "Answer: (4 + 8) * (6 - 4) + 1 = 25\n",
            "Judge:\n",
            "impossible\n",
            "Input: 2 9 10 12\n",
            "Answer: 2 * (12 - 10) = 24\n",
            "Judge:\n",
            "impossible\n",
            "Input: 4 9 10 13\n",
            "Answer: (13 - 4) * (10 - 9) = 24\n",
            "Judge:\n",
            "impossible\n",
            "Input: 1 1 1 8\n",
            "Answer: ((1 + 1) + 1) * 8 = 24\n",
            "Judge:\n"
          ]
        }
      ]
    },
    {
      "cell_type": "markdown",
      "source": [
        "That's some sophisticated prompting!\n",
        "\n",
        "Let's see the LLM's response."
      ],
      "metadata": {
        "id": "eNai6JMCKeC5"
      }
    },
    {
      "cell_type": "code",
      "source": [
        "responses = prelim.chat_completions(six_shot_value_last_step_prompt, n=1)\n",
        "print(responses[0])"
      ],
      "metadata": {
        "colab": {
          "base_uri": "https://localhost:8080/"
        },
        "id": "zC6qVKn1KNdl",
        "outputId": "2f890594-b6fa-4fd0-e214-f757d072478a"
      },
      "execution_count": 54,
      "outputs": [
        {
          "output_type": "stream",
          "name": "stdout",
          "text": [
            "sure\n"
          ]
        }
      ]
    },
    {
      "cell_type": "markdown",
      "source": [
        "Once again, the above workflow raises a minor concern. There are two seperate prompts. But we need to pass a single callable `get_state_eval_prompt` to our `TreeOfThoughts` class (that returns the correct prompt). How do we do this?\n",
        "\n",
        "The following callable does the job:"
      ],
      "metadata": {
        "id": "jVSUBQXYKzUE"
      }
    },
    {
      "cell_type": "code",
      "source": [
        "def get_state_eval_prompt(input_seq: str, state: str) -> str:\n",
        "    \"\"\"Get state evaluation prompt.\n",
        "\n",
        "    Keyword arguments:\n",
        "    input_seq -- the input sequence (comprising four numbers, e.g., '1 1 1 8')\n",
        "    state -- concatenation of all the thoughts so far (separated by '\\n')\n",
        "    \"\"\"\n",
        "\n",
        "    # Reference: https://github.com/princeton-nlp/tree-of-thought-llm/blob/master/src/tot/tasks/game24.py\n",
        "    def get_remaining_numbers(thought: str) -> str:\n",
        "        return thought.split('left: ')[-1].split(')')[0]\n",
        "\n",
        "    last_line = state.strip().split('\\n')[-1]\n",
        "\n",
        "    if 'left: ' not in last_line: # Last (output generation) step.\n",
        "        ans = last_line.lower().replace('answer: ', '')\n",
        "        # Reference: https://github.com/princeton-nlp/tree-of-thought-llm/blob/master/src/tot/prompts/game24.py\n",
        "        prompt = f'''Use numbers and basic arithmetic operations (+ - * /) to obtain 24. Given an input and an answer, give a judgement (sure/impossible) if the answer is correct, i.e. it uses each input exactly once and no other numbers, and reach 24.\n",
        "Input: 4 4 6 8\n",
        "Answer: (4 + 8) * (6 - 4) = 24\n",
        "Judge:\n",
        "sure\n",
        "Input: 2 9 10 12\n",
        "Answer: 2 * 12 * (10 - 9) = 24\n",
        "Judge:\n",
        "sure\n",
        "Input: 4 9 10 13\n",
        "Answer: (13 - 9) * (10 - 4) = 24\n",
        "Judge:\n",
        "sure\n",
        "Input: 4 4 6 8\n",
        "Answer: (4 + 8) * (6 - 4) + 1 = 25\n",
        "Judge:\n",
        "impossible\n",
        "Input: 2 9 10 12\n",
        "Answer: 2 * (12 - 10) = 24\n",
        "Judge:\n",
        "impossible\n",
        "Input: 4 9 10 13\n",
        "Answer: (13 - 4) * (10 - 9) = 24\n",
        "Judge:\n",
        "impossible\n",
        "Input: {input_seq}\n",
        "Answer: {ans}\n",
        "Judge:'''\n",
        "    else: # Intermediate step.\n",
        "        remaining_numbers = get_remaining_numbers(last_line)\n",
        "        # Reference: https://github.com/princeton-nlp/tree-of-thought-llm/blob/master/src/tot/prompts/game24.py\n",
        "        prompt = f'''Evaluate if given numbers can reach 24 (sure/likely/impossible)\n",
        "10 14\n",
        "10 + 14 = 24\n",
        "sure\n",
        "11 12\n",
        "11 + 12 = 23\n",
        "12 - 11 = 1\n",
        "11 * 12 = 132\n",
        "11 / 12 = 0.91\n",
        "impossible\n",
        "4 4 10\n",
        "4 + 4 + 10 = 8 + 10 = 18\n",
        "4 * 10 - 4 = 40 - 4 = 36\n",
        "(10 - 4) * 4 = 6 * 4 = 24\n",
        "sure\n",
        "4 9 11\n",
        "9 + 11 + 4 = 20 + 4 = 24\n",
        "sure\n",
        "5 7 8\n",
        "5 + 7 + 8 = 12 + 8 = 20\n",
        "(8 - 5) * 7 = 3 * 7 = 21\n",
        "I cannot obtain 24 now, but numbers are within a reasonable range\n",
        "likely\n",
        "5 6 6\n",
        "5 + 6 + 6 = 17\n",
        "(6 - 5) * 6 = 1 * 6 = 6\n",
        "I cannot obtain 24 now, but numbers are within a reasonable range\n",
        "likely\n",
        "10 10 11\n",
        "10 + 10 + 11 = 31\n",
        "(11 - 10) * 10 = 10\n",
        "10 10 10 are all too big\n",
        "impossible\n",
        "1 3 3\n",
        "1 * 3 * 3 = 9\n",
        "(1 + 3) * 3 = 12\n",
        "1 3 3 are all too small\n",
        "impossible\n",
        "{remaining_numbers}\n",
        "'''\n",
        "    return prompt"
      ],
      "metadata": {
        "id": "fjQPYtgxL66J"
      },
      "execution_count": 55,
      "outputs": []
    },
    {
      "cell_type": "markdown",
      "source": [
        "The final callable we need is the heuristic calculator. The job of the heuristic calculator is to collate multiple evaluations of each state into a single heuristic score. (Each evaluation is '`sure`'/`'likely'`/`'impossible'`.) Let's take a look.\n",
        "\n",
        "Suppose we're at a node with the following state:"
      ],
      "metadata": {
        "id": "hqcklefROBA-"
      }
    },
    {
      "cell_type": "code",
      "source": [
        "# Say:\n",
        "thoughts = ['1 + 1 = 2 (left: 1 2 8)', '1 + 2 = 3 (left: 3 8)']\n",
        "state =  '\\n'.join(thoughts)\n",
        "print(state)"
      ],
      "metadata": {
        "colab": {
          "base_uri": "https://localhost:8080/"
        },
        "id": "lGDaboNGU_8q",
        "outputId": "5959efaf-cc26-4fc9-b239-5dea2178c1c5"
      },
      "execution_count": 56,
      "outputs": [
        {
          "output_type": "stream",
          "name": "stdout",
          "text": [
            "1 + 1 = 2 (left: 1 2 8)\n",
            "1 + 2 = 3 (left: 3 8)\n"
          ]
        }
      ]
    },
    {
      "cell_type": "markdown",
      "source": [
        "As noted before, the authors have chosen to set `n_evals` to `3`."
      ],
      "metadata": {
        "id": "37PsoopYVKne"
      }
    },
    {
      "cell_type": "code",
      "source": [
        "n_evals = 3"
      ],
      "metadata": {
        "id": "Z3kCmiyDVPIH"
      },
      "execution_count": 57,
      "outputs": []
    },
    {
      "cell_type": "markdown",
      "source": [
        "Let's get the `3` state evaluations."
      ],
      "metadata": {
        "id": "FunvwgsnVStK"
      }
    },
    {
      "cell_type": "code",
      "source": [
        "prompt = get_state_eval_prompt(input_seq, state)\n",
        "state_evals = prelim.chat_completions(prompt, n=n_evals)\n",
        "for eval in state_evals:\n",
        "    print(eval)\n",
        "    print(\"---\")"
      ],
      "metadata": {
        "colab": {
          "base_uri": "https://localhost:8080/"
        },
        "id": "ZUPfB_ZAVaxY",
        "outputId": "739b68c5-a3e2-4fc4-b30b-98e59f997600"
      },
      "execution_count": 58,
      "outputs": [
        {
          "output_type": "stream",
          "name": "stdout",
          "text": [
            "3 + 8 = 11\n",
            "3 * 8 = 24\n",
            "sure\n",
            "---\n",
            "3 + 8 = 11\n",
            "8 - 3 = 5\n",
            "3 * 8 = 24\n",
            "sure\n",
            "---\n",
            "3 + 8 = 11\n",
            "3 * 8 = 24\n",
            "sure\n",
            "---\n"
          ]
        }
      ]
    },
    {
      "cell_type": "markdown",
      "source": [
        "The following callable collates the three evaluations into a single heuristic score."
      ],
      "metadata": {
        "id": "M6rZD9IOVn-q"
      }
    },
    {
      "cell_type": "code",
      "source": [
        "# Reference: https://github.com/princeton-nlp/tree-of-thought-llm/blob/master/src/tot/tasks/game24.py\n",
        "def heuristic_calculator(state: str, state_evals: List[str]) -> float:\n",
        "    if len(state.strip().split('\\n')) == 4 and 'answer' not in state.lower(): # Such a state is undesirable.\n",
        "        return 0\n",
        "    value_names = [_.split('\\n')[-1].lower() for _ in state_evals] # A list containing 'impossible' / 'likely' / 'sure' values.\n",
        "    value_map = {'impossible': 0.001, 'likely': 1, 'sure': 20} # Ad hoc.\n",
        "    value = sum(value * value_names.count(name) for name, value in value_map.items())\n",
        "    return value"
      ],
      "metadata": {
        "id": "3RdoG5XZVvlR"
      },
      "execution_count": 59,
      "outputs": []
    },
    {
      "cell_type": "markdown",
      "source": [
        "A brief explanation:\n",
        "\n",
        "- If a particular state contains `4` lines, and doesn't contain the final answer, then a value of `0` is assigned to the state (since such a state is undesirable).\n",
        "- Otherwise, the last lines are extracted from the `3` state evaluations. This gives a list containing `'impossible'`/`'likely'`/`'sure'` values.\n",
        "- The weighted sum of the above values is returned, where the (ad hoc) weights are `{'impossible': 0.001, 'likely': 1, 'sure': 20}`.\n",
        "\n",
        "Let's try it out on the above state evaluations."
      ],
      "metadata": {
        "id": "oiGPCntgV3pn"
      }
    },
    {
      "cell_type": "code",
      "source": [
        "heuristic_calculator(state, state_evals)"
      ],
      "metadata": {
        "colab": {
          "base_uri": "https://localhost:8080/"
        },
        "id": "6j1ToED0XEnI",
        "outputId": "1a586bab-a3f5-4f43-b9ef-130cfd9c5599"
      },
      "execution_count": 60,
      "outputs": [
        {
          "output_type": "execute_result",
          "data": {
            "text/plain": [
              "60.0"
            ]
          },
          "metadata": {},
          "execution_count": 60
        }
      ]
    },
    {
      "cell_type": "markdown",
      "source": [
        "This is the highest possible value, since all the `3` state evaluations were `'sure'`.\n",
        "\n",
        "Now, let's try a state which doesn't have any hope of reaching `24`."
      ],
      "metadata": {
        "id": "Sfmd0QL4XIfx"
      }
    },
    {
      "cell_type": "code",
      "source": [
        "# Say:\n",
        "thoughts = ['1 + 1 = 2 (left: 1 2 8)', '8 - 1 = 7 (left: 2 7)']\n",
        "state =  '\\n'.join(thoughts)\n",
        "print(state)"
      ],
      "metadata": {
        "colab": {
          "base_uri": "https://localhost:8080/"
        },
        "id": "e8jOj6PWXWwW",
        "outputId": "d27b436b-4cbb-43a4-f973-9e1c948e1c31"
      },
      "execution_count": 61,
      "outputs": [
        {
          "output_type": "stream",
          "name": "stdout",
          "text": [
            "1 + 1 = 2 (left: 1 2 8)\n",
            "8 - 1 = 7 (left: 2 7)\n"
          ]
        }
      ]
    },
    {
      "cell_type": "code",
      "source": [
        "prompt = get_state_eval_prompt(input_seq, state)\n",
        "state_evals = prelim.chat_completions(prompt, n=n_evals)\n",
        "for eval in state_evals:\n",
        "    print(eval)\n",
        "    print(\"---\")"
      ],
      "metadata": {
        "colab": {
          "base_uri": "https://localhost:8080/"
        },
        "id": "aFxo3cMNXZQB",
        "outputId": "53892e22-c454-48c4-8a1f-c021d5dc6890"
      },
      "execution_count": 62,
      "outputs": [
        {
          "output_type": "stream",
          "name": "stdout",
          "text": [
            "2 + 7 = 9\n",
            "2 * 7 = 14\n",
            "2 / 7 = 0.28\n",
            "7 - 2 = 5\n",
            "impossible\n",
            "---\n",
            "2 + 7 = 9\n",
            "2 * 7 = 14\n",
            "2 / 7 = 0.28\n",
            "7 - 2 = 5\n",
            "impossible\n",
            "---\n",
            "2 + 7 = 9\n",
            "2 * 7 = 14\n",
            "7 - 2 = 5\n",
            "7 / 2 = 3.5\n",
            "impossible\n",
            "---\n"
          ]
        }
      ]
    },
    {
      "cell_type": "code",
      "source": [
        "heuristic_calculator(state, state_evals)"
      ],
      "metadata": {
        "colab": {
          "base_uri": "https://localhost:8080/"
        },
        "id": "FsG_Xu4hXf09",
        "outputId": "fe26b289-583e-49e2-fa9f-863d5ba27240"
      },
      "execution_count": 63,
      "outputs": [
        {
          "output_type": "execute_result",
          "data": {
            "text/plain": [
              "0.003"
            ]
          },
          "metadata": {},
          "execution_count": 63
        }
      ]
    },
    {
      "cell_type": "markdown",
      "source": [
        "A very low value is assigned. Excellent.\n",
        "\n",
        "Next, let's consider a state which contains a correct final answer."
      ],
      "metadata": {
        "id": "S8P9lZ01XkrU"
      }
    },
    {
      "cell_type": "code",
      "source": [
        "# Say:\n",
        "thoughts = ['1 + 1 = 2 (left: 1 2 8)', '1 + 2 = 3 (left: 3 8)', '3 * 8 = 24 (left: 24)', 'Answer: ((1 + 1) + 1) * 8 = 24']\n",
        "state =  '\\n'.join(thoughts)\n",
        "print(state)"
      ],
      "metadata": {
        "colab": {
          "base_uri": "https://localhost:8080/"
        },
        "id": "2Ue7-_K7Xx8D",
        "outputId": "e92f8660-e0b7-4354-cccb-2028749d2505"
      },
      "execution_count": 64,
      "outputs": [
        {
          "output_type": "stream",
          "name": "stdout",
          "text": [
            "1 + 1 = 2 (left: 1 2 8)\n",
            "1 + 2 = 3 (left: 3 8)\n",
            "3 * 8 = 24 (left: 24)\n",
            "Answer: ((1 + 1) + 1) * 8 = 24\n"
          ]
        }
      ]
    },
    {
      "cell_type": "code",
      "source": [
        "prompt = get_state_eval_prompt(input_seq, state)\n",
        "state_evals = prelim.chat_completions(prompt, n=n_evals)\n",
        "for eval in state_evals:\n",
        "    print(eval)\n",
        "    print(\"---\")"
      ],
      "metadata": {
        "colab": {
          "base_uri": "https://localhost:8080/"
        },
        "id": "Zrb0p_HZX0Sp",
        "outputId": "3961055c-ce57-4313-f4fa-89799f31fa39"
      },
      "execution_count": 65,
      "outputs": [
        {
          "output_type": "stream",
          "name": "stdout",
          "text": [
            "sure\n",
            "---\n",
            "sure\n",
            "---\n",
            "sure\n",
            "---\n"
          ]
        }
      ]
    },
    {
      "cell_type": "code",
      "source": [
        "heuristic_calculator(state, state_evals)"
      ],
      "metadata": {
        "colab": {
          "base_uri": "https://localhost:8080/"
        },
        "id": "g9m4dJwEX845",
        "outputId": "252a3642-23e2-4be0-e8b0-d09e5ad2f88e"
      },
      "execution_count": 66,
      "outputs": [
        {
          "output_type": "execute_result",
          "data": {
            "text/plain": [
              "60.0"
            ]
          },
          "metadata": {},
          "execution_count": 66
        }
      ]
    },
    {
      "cell_type": "markdown",
      "source": [
        "Perfect.\n",
        "\n",
        "Finally, let's consider a state which contains an incorrect final answer."
      ],
      "metadata": {
        "id": "GfRZqy6NX6os"
      }
    },
    {
      "cell_type": "code",
      "source": [
        "# Say:\n",
        "thoughts = ['1 + 1 = 2 (left: 1 2 8)', '1 + 2 = 3 (left: 3 8)', '3 * 8 = 24 (left: 24)', 'Answer: ((1 + 1) + 1) - 8 = 24']\n",
        "state =  '\\n'.join(thoughts)\n",
        "print(state)"
      ],
      "metadata": {
        "colab": {
          "base_uri": "https://localhost:8080/"
        },
        "id": "CePTcDW1YJq3",
        "outputId": "c900f3af-d091-41a6-9666-66270fa65817"
      },
      "execution_count": 67,
      "outputs": [
        {
          "output_type": "stream",
          "name": "stdout",
          "text": [
            "1 + 1 = 2 (left: 1 2 8)\n",
            "1 + 2 = 3 (left: 3 8)\n",
            "3 * 8 = 24 (left: 24)\n",
            "Answer: ((1 + 1) + 1) - 8 = 24\n"
          ]
        }
      ]
    },
    {
      "cell_type": "code",
      "source": [
        "prompt = get_state_eval_prompt(input_seq, state)\n",
        "state_evals = prelim.chat_completions(prompt, n=n_evals)\n",
        "for eval in state_evals:\n",
        "    print(eval)\n",
        "    print(\"---\")"
      ],
      "metadata": {
        "colab": {
          "base_uri": "https://localhost:8080/"
        },
        "id": "8PXO2dYVYNUm",
        "outputId": "5d44363e-7e29-4dd8-9ef0-98dde4e790e3"
      },
      "execution_count": 68,
      "outputs": [
        {
          "output_type": "stream",
          "name": "stdout",
          "text": [
            "impossible\n",
            "---\n",
            "impossible\n",
            "---\n",
            "impossible\n",
            "---\n"
          ]
        }
      ]
    },
    {
      "cell_type": "code",
      "source": [
        "heuristic_calculator(state, state_evals)"
      ],
      "metadata": {
        "colab": {
          "base_uri": "https://localhost:8080/"
        },
        "id": "Kt_k3xynYTOt",
        "outputId": "9f90cae3-e175-4603-83ea-81cd971adc72"
      },
      "execution_count": 69,
      "outputs": [
        {
          "output_type": "execute_result",
          "data": {
            "text/plain": [
              "0.003"
            ]
          },
          "metadata": {},
          "execution_count": 69
        }
      ]
    },
    {
      "cell_type": "markdown",
      "source": [
        "Superb.\n",
        "\n",
        "Hopefully, you now have a good intuition about the heuristic calculator.\n",
        "\n",
        "Finally, we're ready to write the `TreeOfThoughts` class for the *Game of 24* task.\n",
        "\n",
        "**Note:** In addition to the `bfs` method, we've also added in the `dfs` (Depth-First Search) method - which is another search algorithm from the ToT paper. Don't worry about it for now. The `dfs` method will be explained in detail below."
      ],
      "metadata": {
        "id": "9dqwojR-YWhh"
      }
    },
    {
      "cell_type": "code",
      "source": [
        "class TreeOfThoughts:\n",
        "    def __init__(\n",
        "            self,\n",
        "            client: Union[OpenAI, InferenceClient],\n",
        "            model: str,\n",
        "            input_seq: str,\n",
        "            get_thought_gen_prompt: Callable,\n",
        "            get_state_eval_prompt: Callable,\n",
        "            heuristic_calculator: Callable,\n",
        "            max_per_state: Optional[int] = None\n",
        "    ):\n",
        "        self.client = client\n",
        "        self.model = model # e.g., \"gpt-4\" if using `OpenAI` and \"meta-llama/Meta-Llama-3.1-8B-Instruct\" if using `InferenceClient`.\n",
        "        self.input_seq = input_seq\n",
        "        self.root = TreeNode(state='', thought='')\n",
        "        self.n_steps = 4 # 3 intermediate steps + 1 output generation step.\n",
        "        self.thought_gen_strategy = 'propose'\n",
        "        self.get_thought_gen_prompt = get_thought_gen_prompt\n",
        "        self.state_eval_strategy = 'value'\n",
        "        self.get_state_eval_prompt = get_state_eval_prompt\n",
        "        self.n_evals = 3 # The number of times to sample values for each state.\n",
        "        self.heuristic_calculator = heuristic_calculator\n",
        "        self.breadth_limit = 5 # Relevant only for the BFS search algorithm.\n",
        "        self.heuristic_threshold = 3.0 # Relevant only for the DFS search algorithm; will be explained below.\n",
        "        self.max_per_state = max_per_state # Relevant only for the DFS search algorithm; will be explained below.\n",
        "\n",
        "    # Reference: https://github.com/princeton-nlp/tree-of-thought-llm/blob/master/src/tot/models.py\n",
        "    def chat_completions(\n",
        "            self,\n",
        "            prompt: str,\n",
        "            temperature: float = 0.7,\n",
        "            max_tokens: int = 1000,\n",
        "            n: int = 1,\n",
        "            stop: Optional[List[str]] = None,\n",
        "            **kwargs\n",
        "    ) -> List[str]:\n",
        "        outputs = []\n",
        "        messages = [{'role': \"user\", 'content': prompt}]\n",
        "        if isinstance(self.client, OpenAI):\n",
        "            response = self.client.chat.completions.create(\n",
        "                messages=messages,\n",
        "                model=self.model,\n",
        "                temperature=temperature,\n",
        "                max_tokens=max_tokens,\n",
        "                n=n, # The `n` responses are i.i.d.\n",
        "                stop=stop,\n",
        "                **kwargs\n",
        "            )\n",
        "            outputs.extend([choice.message.content for choice in response.choices])\n",
        "        else: # `self.client` is an instance of `InferenceClient`.\n",
        "            # The Hugging Face API doesn't support the `n` argument. Hence, we need to use a loop to generate `n` i.i.d. responses.\n",
        "            for _ in range(n):\n",
        "                response = self.client.chat.completions.create(\n",
        "                    messages=messages,\n",
        "                    model=self.model,\n",
        "                    temperature=temperature,\n",
        "                    max_tokens=max_tokens,\n",
        "                    stop=stop,\n",
        "                    **kwargs\n",
        "                )\n",
        "                outputs.append(response.choices[0].message.content)\n",
        "        return outputs\n",
        "\n",
        "    def thought_generator(self, state: str) -> List[str]:\n",
        "        if self.thought_gen_strategy == 'sample':\n",
        "            pass\n",
        "        else: # `self.thought_gen_strategy` is equal to 'propose'.\n",
        "            prompt = self.get_thought_gen_prompt(self.input_seq, state)\n",
        "            responses = self.chat_completions(prompt, n=1)\n",
        "            thoughts = responses[0].split('\\n')\n",
        "            return thoughts\n",
        "\n",
        "    def state_evaluator(self, state: str) -> float:\n",
        "        if self.state_eval_strategy == 'vote':\n",
        "            pass\n",
        "        else: # `self.state_eval_strategy` is equal to 'value'.\n",
        "            prompt = self.get_state_eval_prompt(self.input_seq, state)\n",
        "            state_evals = self.chat_completions(prompt, n=self.n_evals)\n",
        "            value = self.heuristic_calculator(state, state_evals)\n",
        "            return value\n",
        "\n",
        "    # Reference: https://github.com/princeton-nlp/tree-of-thought-llm/blob/master/src/tot/methods/bfs.py\n",
        "    def bfs(self, verbose: bool = True) -> str:\n",
        "        queue = deque()\n",
        "        queue.append(self.root)\n",
        "\n",
        "        for step in range(1, self.n_steps + 1):\n",
        "            if verbose:\n",
        "                print(f\"Step {step} (corresponding to level {step} of the tree):-\\n---\")\n",
        "            for i in range(len(queue)):\n",
        "                node = queue.popleft()\n",
        "                if verbose:\n",
        "                    print(f\"Node {i + 1} in level {step}:-\")\n",
        "                    if node.state != \"\":\n",
        "                        print(f\"State of current node:-\\n{node.state}\\n---\")\n",
        "                    else:\n",
        "                        print(\"State of current node:-\\n<EMPTY STRING> (root node; no thoughts generated yet)\\n---\")\n",
        "\n",
        "                thoughts = self.thought_generator(state=node.state)\n",
        "                if node.state == '':\n",
        "                    updated_states = thoughts\n",
        "                else:\n",
        "                    updated_states = [node.state + '\\n' + thought for thought in thoughts]\n",
        "                for j in range(len(thoughts)):\n",
        "                    if verbose:\n",
        "                        print(f\"Thought candidate {j + 1}:-\\n{thoughts[j]}\\n---\")\n",
        "                    child = TreeNode(state=updated_states[j], thought=thoughts[j])\n",
        "                    node.children.append(child)\n",
        "                    queue.append(child)\n",
        "                if verbose:\n",
        "                    print(\"Each of the above thought candidates has been added as a child of the current node.\\n---\")\n",
        "\n",
        "            if verbose:\n",
        "                print(\"Using the state evaluator to obtain values...\\n---\")\n",
        "            for i in range(len(queue)):\n",
        "                queue[i].value = self.state_evaluator(state=queue[i].state)\n",
        "                if verbose:\n",
        "                    print(f\"Element {i + 1} in queue:-\\n\")\n",
        "                    print(f\"Value: {queue[i].value}\\n---\")\n",
        "\n",
        "            if verbose:\n",
        "                print(\"Initiating pruning (using the values obtained from the state evaluator).\")\n",
        "                print(f\"Number of elements in queue: {len(queue)}\")\n",
        "            sorted_nodes = sorted(queue, key=lambda node: node.value, reverse=True)\n",
        "            if step == self.n_steps:\n",
        "                if verbose:\n",
        "                    print(\"Since this is the last step, setting the breadth limit to 1.\")\n",
        "                    print(\"In other words, retaining only the highest value element (in this last step).\\n---\")\n",
        "                top_b_nodes = sorted_nodes[:1]\n",
        "            else:\n",
        "                if verbose:\n",
        "                    print(f\"Since this isn't the last step, leaving the breadth limit {self.breadth_limit} unchanged.\\n---\")\n",
        "                top_b_nodes = sorted_nodes[:self.breadth_limit]\n",
        "            top_b_states = [node.state for node in top_b_nodes]\n",
        "            for i in range(len(queue)):\n",
        "                node = queue.popleft()\n",
        "                if verbose:\n",
        "                    print(f\"Element {i + 1} in queue:-\\n\")\n",
        "                if node.state in top_b_states:\n",
        "                    if verbose:\n",
        "                        print(f\"Retaining this element as it's in the top {len(top_b_states)} elements.\\n---\")\n",
        "                    queue.append(node)\n",
        "                else:\n",
        "                    if verbose:\n",
        "                        print(f\"Dropping this element as it's not in the top {len(top_b_states)} elements.\\n---\")\n",
        "\n",
        "            if verbose:\n",
        "                print(\"~~~\")\n",
        "\n",
        "        # Return the thought of the highest value node (from the last step):\n",
        "        node = queue.popleft()\n",
        "        return node.thought\n",
        "\n",
        "    # Reference: https://github.com/princeton-nlp/tree-of-thought-llm/blob/master/scripts/crosswords/search_crosswords-dfs.ipynb\n",
        "    def dfs(self, verbose: bool = True) -> str:\n",
        "        dfs_output = None\n",
        "\n",
        "        def dfs_func(node: TreeNode, step: int) -> bool:\n",
        "            nonlocal dfs_output\n",
        "\n",
        "            if step > self.n_steps: # Base case: successful search.\n",
        "                dfs_output = node.state # Record the last (output generation) step's output in the nonlocal variable `dfs_output`.\n",
        "                return True\n",
        "\n",
        "            if verbose:\n",
        "                print(f\"Step: {step}\\n---\")\n",
        "                if node.state != \"\":\n",
        "                    print(f\"State of current node:-\\n{node.state}\\n---\")\n",
        "                else:\n",
        "                    print(\"State of current node:-\\n<EMPTY STRING> (root node; no thoughts generated yet)\\n---\")\n",
        "\n",
        "            thoughts = self.thought_generator(state=node.state)\n",
        "            if len(thoughts) == 0:\n",
        "                if verbose:\n",
        "                    print(\"No thoughts were generated. It's a dead end. Backtracking to the parent node.\\n~~~\")\n",
        "                return False\n",
        "            if node.state == '':\n",
        "                updated_states = thoughts\n",
        "            else:\n",
        "                updated_states = [node.state + '\\n' + thought for thought in thoughts]\n",
        "            for j in range(len(thoughts)):\n",
        "                if verbose:\n",
        "                    print(f\"Thought candidate {j + 1}:-\\n{thoughts[j]}\\n---\")\n",
        "                child = TreeNode(state=updated_states[j], thought=thoughts[j])\n",
        "                node.children.append(child)\n",
        "            if verbose:\n",
        "                print(\"Each of the above thought candidates has been added as a child of the current node.\\n---\")\n",
        "\n",
        "            cnt_per_state = 0\n",
        "            for child in node.children:\n",
        "                if verbose:\n",
        "                    print(\"Reminder:-\")\n",
        "                    if node.state != \"\":\n",
        "                        print(f\"State of current node:-\\n{node.state}\\n---\")\n",
        "                    else:\n",
        "                        print(\"State of current node:-\\n<EMPTY STRING> (root node; no thoughts generated yet)\\n---\")\n",
        "                    print(f\"Currently traversing child number: {cnt_per_state + 1}\\n\")\n",
        "                    print(f\"State of current child:-\\n{child.state}\\n\")\n",
        "                    print(\"Using the state evaluator to obtain value...\\n\")\n",
        "                child.value = self.state_evaluator(state=child.state)\n",
        "                if verbose:\n",
        "                    print(f\"Value of current child: {child.value}\\n---\")\n",
        "                if child.value >= self.heuristic_threshold:\n",
        "                # Note: If this `if` condition isn't met, the child node is pruned, i.e., a subtree of the child isn't grown.\n",
        "                    if verbose:\n",
        "                        print(\"Value exceeds heuristic threshold. Searching subtree.\\n---\\n~~~\")\n",
        "                    end_search = dfs_func(child, step + 1)\n",
        "                    if end_search:\n",
        "                        if verbose:\n",
        "                            print(f\"Searching the subtree was successful! Backtracking all the way up.\\n~~~\")\n",
        "                        return True\n",
        "                    else:\n",
        "                        if verbose:\n",
        "                            print(f\"Back at step {step}. Searching the subtree was unsuccessful! Trying the next child.\\n---\")\n",
        "                cnt_per_state += 1\n",
        "                if cnt_per_state >= self.max_per_state:\n",
        "                    if verbose:\n",
        "                        print(f\"{self.max_per_state} children already searched for this node. Breaking the loop.\\n---\")\n",
        "                    break\n",
        "            if verbose:\n",
        "                print(f\"None of the child nodes led to success. Seems like a dead end. Backtracking to the parent node.\\n~~~\")\n",
        "            return False\n",
        "\n",
        "        dfs_func(node=self.root, step=1)\n",
        "        return dfs_output\n",
        "\n",
        "    def generate_html_tree(self, node: TreeNode) -> str:\n",
        "        if node is None:\n",
        "            return \"\"\n",
        "        else:\n",
        "            html = f\"\"\"<div class='node'>\n",
        "<p>State:<br>{node.state}</p>\n",
        "<hr>\n",
        "<p>Thought:<br>{node.thought}</p>\n",
        "<hr>\n",
        "<p>Value:<br>{node.value}</p>\"\"\"\n",
        "            for child in node.children:\n",
        "                html += f\"\"\"<div class='child'>{self.generate_html_tree(child)}</div>\"\"\"\n",
        "            html += \"\"\"</div>\"\"\"\n",
        "            return html\n",
        "\n",
        "    def render_html_tree(self):\n",
        "        html_tree = self.generate_html_tree(self.root)\n",
        "        wrapped_html = f\"\"\"<!DOCTYPE html>\n",
        "<html>\n",
        "<head>\n",
        "    <style>\n",
        "        .node {{\n",
        "            display: inline-block;\n",
        "            border: 1px solid blue;\n",
        "            padding: 10px;\n",
        "            margin: 5px;\n",
        "            text-align: center;\n",
        "        }}\n",
        "        .child {{\n",
        "            display: flex;\n",
        "        }}\n",
        "    </style>\n",
        "</head>\n",
        "<body>\n",
        "    {html_tree}\n",
        "</body>\n",
        "</html>\"\"\"\n",
        "        display(HTML(wrapped_html))"
      ],
      "metadata": {
        "id": "brNWiEjQZf5A"
      },
      "execution_count": 70,
      "outputs": []
    },
    {
      "cell_type": "markdown",
      "source": [
        "Let's instantiate our class, and run the BFS algorithm."
      ],
      "metadata": {
        "id": "uLZKuEcdXVr8"
      }
    },
    {
      "cell_type": "code",
      "source": [
        "tot = TreeOfThoughts(client, \"gpt-4\", input_seq, get_thought_gen_prompt, get_state_eval_prompt, heuristic_calculator)\n",
        "output = tot.bfs(verbose=True)\n",
        "print(output)"
      ],
      "metadata": {
        "colab": {
          "base_uri": "https://localhost:8080/"
        },
        "id": "6nI1vzG4XauO",
        "outputId": "e4ba894e-dca5-4443-89df-7c7f42f20f6c"
      },
      "execution_count": 71,
      "outputs": [
        {
          "output_type": "stream",
          "name": "stdout",
          "text": [
            "Step 1 (corresponding to level 1 of the tree):-\n",
            "---\n",
            "Node 1 in level 1:-\n",
            "State of current node:-\n",
            "<EMPTY STRING> (root node; no thoughts generated yet)\n",
            "---\n",
            "Thought candidate 1:-\n",
            "1 + 1 = 2 (left: 1 2 8)\n",
            "---\n",
            "Thought candidate 2:-\n",
            "1 * 1 = 1 (left: 1 1 8)\n",
            "---\n",
            "Thought candidate 3:-\n",
            "8 - 1 = 7 (left: 1 1 7)\n",
            "---\n",
            "Thought candidate 4:-\n",
            "8 / 1 = 8 (left: 1 1 8)\n",
            "---\n",
            "Thought candidate 5:-\n",
            "1 + 1 + 1 = 3 (left: 3 8)\n",
            "---\n",
            "Thought candidate 6:-\n",
            "8 - 1 - 1 = 6 (left: 1 6)\n",
            "---\n",
            "Thought candidate 7:-\n",
            "8 / 1 / 1 = 8 (left: 1 8)\n",
            "---\n",
            "Each of the above thought candidates has been added as a child of the current node.\n",
            "---\n",
            "Using the state evaluator to obtain values...\n",
            "---\n",
            "Element 1 in queue:-\n",
            "\n",
            "Value: 21.001\n",
            "---\n",
            "Element 2 in queue:-\n",
            "\n",
            "Value: 0.003\n",
            "---\n",
            "Element 3 in queue:-\n",
            "\n",
            "Value: 0.003\n",
            "---\n",
            "Element 4 in queue:-\n",
            "\n",
            "Value: 0.003\n",
            "---\n",
            "Element 5 in queue:-\n",
            "\n",
            "Value: 60.0\n",
            "---\n",
            "Element 6 in queue:-\n",
            "\n",
            "Value: 0.003\n",
            "---\n",
            "Element 7 in queue:-\n",
            "\n",
            "Value: 0.003\n",
            "---\n",
            "Initiating pruning (using the values obtained from the state evaluator).\n",
            "Number of elements in queue: 7\n",
            "Since this isn't the last step, leaving the breadth limit 5 unchanged.\n",
            "---\n",
            "Element 1 in queue:-\n",
            "\n",
            "Retaining this element as it's in the top 5 elements.\n",
            "---\n",
            "Element 2 in queue:-\n",
            "\n",
            "Retaining this element as it's in the top 5 elements.\n",
            "---\n",
            "Element 3 in queue:-\n",
            "\n",
            "Retaining this element as it's in the top 5 elements.\n",
            "---\n",
            "Element 4 in queue:-\n",
            "\n",
            "Retaining this element as it's in the top 5 elements.\n",
            "---\n",
            "Element 5 in queue:-\n",
            "\n",
            "Retaining this element as it's in the top 5 elements.\n",
            "---\n",
            "Element 6 in queue:-\n",
            "\n",
            "Dropping this element as it's not in the top 5 elements.\n",
            "---\n",
            "Element 7 in queue:-\n",
            "\n",
            "Dropping this element as it's not in the top 5 elements.\n",
            "---\n",
            "~~~\n",
            "Step 2 (corresponding to level 2 of the tree):-\n",
            "---\n",
            "Node 1 in level 2:-\n",
            "State of current node:-\n",
            "1 + 1 = 2 (left: 1 2 8)\n",
            "---\n",
            "Thought candidate 1:-\n",
            "1 + 2 = 3 (left: 3 8)\n",
            "---\n",
            "Thought candidate 2:-\n",
            "2 * 1 = 2 (left: 2 8)\n",
            "---\n",
            "Thought candidate 3:-\n",
            "8 - 1 = 7 (left: 2 7)\n",
            "---\n",
            "Thought candidate 4:-\n",
            "8 - 2 = 6 (left: 1 6)\n",
            "---\n",
            "Thought candidate 5:-\n",
            "8 / 1 = 8 (left: 2 8)\n",
            "---\n",
            "Thought candidate 6:-\n",
            "2 * 8 = 16 (left: 1 16)\n",
            "---\n",
            "Thought candidate 7:-\n",
            "8 / 2 = 4 (left: 1 4)\n",
            "---\n",
            "Each of the above thought candidates has been added as a child of the current node.\n",
            "---\n",
            "Node 2 in level 2:-\n",
            "State of current node:-\n",
            "1 * 1 = 1 (left: 1 1 8)\n",
            "---\n",
            "Thought candidate 1:-\n",
            "1 + 1 = 2 (left: 2 8)\n",
            "---\n",
            "Thought candidate 2:-\n",
            "1 * 1 = 1 (left: 1 8)\n",
            "---\n",
            "Thought candidate 3:-\n",
            "8 - 1 = 7 (left: 1 7)\n",
            "---\n",
            "Thought candidate 4:-\n",
            "8 / 1 = 8 (left: 1 8)\n",
            "---\n",
            "Each of the above thought candidates has been added as a child of the current node.\n",
            "---\n",
            "Node 3 in level 2:-\n",
            "State of current node:-\n",
            "8 - 1 = 7 (left: 1 1 7)\n",
            "---\n",
            "Thought candidate 1:-\n",
            "1 + 1 = 2 (left: 2 7)\n",
            "---\n",
            "Thought candidate 2:-\n",
            "7 - 1 = 6 (left: 1 6)\n",
            "---\n",
            "Thought candidate 3:-\n",
            "7 / 1 = 7 (left: 1 7)\n",
            "---\n",
            "Thought candidate 4:-\n",
            "1 * 1 = 1 (left: 1 7)\n",
            "---\n",
            "Each of the above thought candidates has been added as a child of the current node.\n",
            "---\n",
            "Node 4 in level 2:-\n",
            "State of current node:-\n",
            "8 / 1 = 8 (left: 1 1 8)\n",
            "---\n",
            "Thought candidate 1:-\n",
            "1 + 1 = 2 (left: 2 8)\n",
            "---\n",
            "Thought candidate 2:-\n",
            "1 * 1 = 1 (left: 1 8)\n",
            "---\n",
            "Thought candidate 3:-\n",
            "8 - 1 = 7 (left: 1 7)\n",
            "---\n",
            "Thought candidate 4:-\n",
            "8 / 1 = 8 (left: 1 8)\n",
            "---\n",
            "Each of the above thought candidates has been added as a child of the current node.\n",
            "---\n",
            "Node 5 in level 2:-\n",
            "State of current node:-\n",
            "1 + 1 + 1 = 3 (left: 3 8)\n",
            "---\n",
            "Thought candidate 1:-\n",
            "3 + 8 = 11 (left: 11)\n",
            "---\n",
            "Thought candidate 2:-\n",
            "8 / 3 = 2.67 (left: 2.67)\n",
            "---\n",
            "Thought candidate 3:-\n",
            "8 - 3 = 5 (left: 5)\n",
            "---\n",
            "Thought candidate 4:-\n",
            "3 * 8 = 24 (left: 24)\n",
            "---\n",
            "Each of the above thought candidates has been added as a child of the current node.\n",
            "---\n",
            "Using the state evaluator to obtain values...\n",
            "---\n",
            "Element 1 in queue:-\n",
            "\n",
            "Value: 60.0\n",
            "---\n",
            "Element 2 in queue:-\n",
            "\n",
            "Value: 0.003\n",
            "---\n",
            "Element 3 in queue:-\n",
            "\n",
            "Value: 0.003\n",
            "---\n",
            "Element 4 in queue:-\n",
            "\n",
            "Value: 0.003\n",
            "---\n",
            "Element 5 in queue:-\n",
            "\n",
            "Value: 0.003\n",
            "---\n",
            "Element 6 in queue:-\n",
            "\n",
            "Value: 0.003\n",
            "---\n",
            "Element 7 in queue:-\n",
            "\n",
            "Value: 0.003\n",
            "---\n",
            "Element 8 in queue:-\n",
            "\n",
            "Value: 0.003\n",
            "---\n",
            "Element 9 in queue:-\n",
            "\n",
            "Value: 0.003\n",
            "---\n",
            "Element 10 in queue:-\n",
            "\n",
            "Value: 0.003\n",
            "---\n",
            "Element 11 in queue:-\n",
            "\n",
            "Value: 0.003\n",
            "---\n",
            "Element 12 in queue:-\n",
            "\n",
            "Value: 0.003\n",
            "---\n",
            "Element 13 in queue:-\n",
            "\n",
            "Value: 0.003\n",
            "---\n",
            "Element 14 in queue:-\n",
            "\n",
            "Value: 0.003\n",
            "---\n",
            "Element 15 in queue:-\n",
            "\n",
            "Value: 0.003\n",
            "---\n",
            "Element 16 in queue:-\n",
            "\n",
            "Value: 0.003\n",
            "---\n",
            "Element 17 in queue:-\n",
            "\n",
            "Value: 0.003\n",
            "---\n",
            "Element 18 in queue:-\n",
            "\n",
            "Value: 0.003\n",
            "---\n",
            "Element 19 in queue:-\n",
            "\n",
            "Value: 0.003\n",
            "---\n",
            "Element 20 in queue:-\n",
            "\n",
            "Value: 0.003\n",
            "---\n",
            "Element 21 in queue:-\n",
            "\n",
            "Value: 0.002\n",
            "---\n",
            "Element 22 in queue:-\n",
            "\n",
            "Value: 0.003\n",
            "---\n",
            "Element 23 in queue:-\n",
            "\n",
            "Value: 60.0\n",
            "---\n",
            "Initiating pruning (using the values obtained from the state evaluator).\n",
            "Number of elements in queue: 23\n",
            "Since this isn't the last step, leaving the breadth limit 5 unchanged.\n",
            "---\n",
            "Element 1 in queue:-\n",
            "\n",
            "Retaining this element as it's in the top 5 elements.\n",
            "---\n",
            "Element 2 in queue:-\n",
            "\n",
            "Retaining this element as it's in the top 5 elements.\n",
            "---\n",
            "Element 3 in queue:-\n",
            "\n",
            "Retaining this element as it's in the top 5 elements.\n",
            "---\n",
            "Element 4 in queue:-\n",
            "\n",
            "Retaining this element as it's in the top 5 elements.\n",
            "---\n",
            "Element 5 in queue:-\n",
            "\n",
            "Dropping this element as it's not in the top 5 elements.\n",
            "---\n",
            "Element 6 in queue:-\n",
            "\n",
            "Dropping this element as it's not in the top 5 elements.\n",
            "---\n",
            "Element 7 in queue:-\n",
            "\n",
            "Dropping this element as it's not in the top 5 elements.\n",
            "---\n",
            "Element 8 in queue:-\n",
            "\n",
            "Dropping this element as it's not in the top 5 elements.\n",
            "---\n",
            "Element 9 in queue:-\n",
            "\n",
            "Dropping this element as it's not in the top 5 elements.\n",
            "---\n",
            "Element 10 in queue:-\n",
            "\n",
            "Dropping this element as it's not in the top 5 elements.\n",
            "---\n",
            "Element 11 in queue:-\n",
            "\n",
            "Dropping this element as it's not in the top 5 elements.\n",
            "---\n",
            "Element 12 in queue:-\n",
            "\n",
            "Dropping this element as it's not in the top 5 elements.\n",
            "---\n",
            "Element 13 in queue:-\n",
            "\n",
            "Dropping this element as it's not in the top 5 elements.\n",
            "---\n",
            "Element 14 in queue:-\n",
            "\n",
            "Dropping this element as it's not in the top 5 elements.\n",
            "---\n",
            "Element 15 in queue:-\n",
            "\n",
            "Dropping this element as it's not in the top 5 elements.\n",
            "---\n",
            "Element 16 in queue:-\n",
            "\n",
            "Dropping this element as it's not in the top 5 elements.\n",
            "---\n",
            "Element 17 in queue:-\n",
            "\n",
            "Dropping this element as it's not in the top 5 elements.\n",
            "---\n",
            "Element 18 in queue:-\n",
            "\n",
            "Dropping this element as it's not in the top 5 elements.\n",
            "---\n",
            "Element 19 in queue:-\n",
            "\n",
            "Dropping this element as it's not in the top 5 elements.\n",
            "---\n",
            "Element 20 in queue:-\n",
            "\n",
            "Dropping this element as it's not in the top 5 elements.\n",
            "---\n",
            "Element 21 in queue:-\n",
            "\n",
            "Dropping this element as it's not in the top 5 elements.\n",
            "---\n",
            "Element 22 in queue:-\n",
            "\n",
            "Dropping this element as it's not in the top 5 elements.\n",
            "---\n",
            "Element 23 in queue:-\n",
            "\n",
            "Retaining this element as it's in the top 5 elements.\n",
            "---\n",
            "~~~\n",
            "Step 3 (corresponding to level 3 of the tree):-\n",
            "---\n",
            "Node 1 in level 3:-\n",
            "State of current node:-\n",
            "1 + 1 = 2 (left: 1 2 8)\n",
            "1 + 2 = 3 (left: 3 8)\n",
            "---\n",
            "Thought candidate 1:-\n",
            "3 + 8 = 11 (left: 11)\n",
            "---\n",
            "Thought candidate 2:-\n",
            "8 - 3 = 5 (left: 5)\n",
            "---\n",
            "Thought candidate 3:-\n",
            "3 * 8 = 24 (left: 24)\n",
            "---\n",
            "Thought candidate 4:-\n",
            "8 / 3 = 2.67 (left: 2.67)\n",
            "---\n",
            "Each of the above thought candidates has been added as a child of the current node.\n",
            "---\n",
            "Node 2 in level 3:-\n",
            "State of current node:-\n",
            "1 + 1 = 2 (left: 1 2 8)\n",
            "2 * 1 = 2 (left: 2 8)\n",
            "---\n",
            "Thought candidate 1:-\n",
            "2 + 8 = 10 (left: 10)\n",
            "---\n",
            "Thought candidate 2:-\n",
            "2 * 8 = 16 (left: 16)\n",
            "---\n",
            "Thought candidate 3:-\n",
            "8 - 2 = 6 (left: 6)\n",
            "---\n",
            "Thought candidate 4:-\n",
            "8 / 2 = 4 (left: 4)\n",
            "---\n",
            "Each of the above thought candidates has been added as a child of the current node.\n",
            "---\n",
            "Node 3 in level 3:-\n",
            "State of current node:-\n",
            "1 + 1 = 2 (left: 1 2 8)\n",
            "8 - 1 = 7 (left: 2 7)\n",
            "---\n",
            "Thought candidate 1:-\n",
            "2 + 7 = 9 (left: 9)\n",
            "---\n",
            "Thought candidate 2:-\n",
            "7 - 2 = 5 (left: 5)\n",
            "---\n",
            "Thought candidate 3:-\n",
            "2 * 7 = 14 (left: 14)\n",
            "---\n",
            "Thought candidate 4:-\n",
            "7 / 2 = 3.5 (left: 3.5)\n",
            "---\n",
            "Each of the above thought candidates has been added as a child of the current node.\n",
            "---\n",
            "Node 4 in level 3:-\n",
            "State of current node:-\n",
            "1 + 1 = 2 (left: 1 2 8)\n",
            "8 - 2 = 6 (left: 1 6)\n",
            "---\n",
            "Thought candidate 1:-\n",
            "1 + 6 = 7 (left: 7)\n",
            "---\n",
            "Thought candidate 2:-\n",
            "6 - 1 = 5 (left: 5)\n",
            "---\n",
            "Thought candidate 3:-\n",
            "1 * 6 = 6 (left: 6)\n",
            "---\n",
            "Thought candidate 4:-\n",
            "6 / 1 = 6 (left: 6)\n",
            "---\n",
            "Each of the above thought candidates has been added as a child of the current node.\n",
            "---\n",
            "Node 5 in level 3:-\n",
            "State of current node:-\n",
            "1 + 1 + 1 = 3 (left: 3 8)\n",
            "3 * 8 = 24 (left: 24)\n",
            "---\n",
            "Thought candidate 1:-\n",
            "Answer: (1 + 1 + 1) * 8 = 24\n",
            "---\n",
            "Each of the above thought candidates has been added as a child of the current node.\n",
            "---\n",
            "Using the state evaluator to obtain values...\n",
            "---\n",
            "Element 1 in queue:-\n",
            "\n",
            "Value: 0.003\n",
            "---\n",
            "Element 2 in queue:-\n",
            "\n",
            "Value: 0.003\n",
            "---\n",
            "Element 3 in queue:-\n",
            "\n",
            "Value: 60.0\n",
            "---\n",
            "Element 4 in queue:-\n",
            "\n",
            "Value: 0.003\n",
            "---\n",
            "Element 5 in queue:-\n",
            "\n",
            "Value: 0.003\n",
            "---\n",
            "Element 6 in queue:-\n",
            "\n",
            "Value: 0.003\n",
            "---\n",
            "Element 7 in queue:-\n",
            "\n",
            "Value: 20.002\n",
            "---\n",
            "Element 8 in queue:-\n",
            "\n",
            "Value: 0.001\n",
            "---\n",
            "Element 9 in queue:-\n",
            "\n",
            "Value: 0.003\n",
            "---\n",
            "Element 10 in queue:-\n",
            "\n",
            "Value: 0.003\n",
            "---\n",
            "Element 11 in queue:-\n",
            "\n",
            "Value: 0.003\n",
            "---\n",
            "Element 12 in queue:-\n",
            "\n",
            "Value: 0.003\n",
            "---\n",
            "Element 13 in queue:-\n",
            "\n",
            "Value: 0.001\n",
            "---\n",
            "Element 14 in queue:-\n",
            "\n",
            "Value: 0.003\n",
            "---\n",
            "Element 15 in queue:-\n",
            "\n",
            "Value: 0.003\n",
            "---\n",
            "Element 16 in queue:-\n",
            "\n",
            "Value: 40.001\n",
            "---\n",
            "Element 17 in queue:-\n",
            "\n",
            "Value: 60.0\n",
            "---\n",
            "Initiating pruning (using the values obtained from the state evaluator).\n",
            "Number of elements in queue: 17\n",
            "Since this isn't the last step, leaving the breadth limit 5 unchanged.\n",
            "---\n",
            "Element 1 in queue:-\n",
            "\n",
            "Retaining this element as it's in the top 5 elements.\n",
            "---\n",
            "Element 2 in queue:-\n",
            "\n",
            "Dropping this element as it's not in the top 5 elements.\n",
            "---\n",
            "Element 3 in queue:-\n",
            "\n",
            "Retaining this element as it's in the top 5 elements.\n",
            "---\n",
            "Element 4 in queue:-\n",
            "\n",
            "Dropping this element as it's not in the top 5 elements.\n",
            "---\n",
            "Element 5 in queue:-\n",
            "\n",
            "Dropping this element as it's not in the top 5 elements.\n",
            "---\n",
            "Element 6 in queue:-\n",
            "\n",
            "Dropping this element as it's not in the top 5 elements.\n",
            "---\n",
            "Element 7 in queue:-\n",
            "\n",
            "Retaining this element as it's in the top 5 elements.\n",
            "---\n",
            "Element 8 in queue:-\n",
            "\n",
            "Dropping this element as it's not in the top 5 elements.\n",
            "---\n",
            "Element 9 in queue:-\n",
            "\n",
            "Dropping this element as it's not in the top 5 elements.\n",
            "---\n",
            "Element 10 in queue:-\n",
            "\n",
            "Dropping this element as it's not in the top 5 elements.\n",
            "---\n",
            "Element 11 in queue:-\n",
            "\n",
            "Dropping this element as it's not in the top 5 elements.\n",
            "---\n",
            "Element 12 in queue:-\n",
            "\n",
            "Dropping this element as it's not in the top 5 elements.\n",
            "---\n",
            "Element 13 in queue:-\n",
            "\n",
            "Dropping this element as it's not in the top 5 elements.\n",
            "---\n",
            "Element 14 in queue:-\n",
            "\n",
            "Dropping this element as it's not in the top 5 elements.\n",
            "---\n",
            "Element 15 in queue:-\n",
            "\n",
            "Dropping this element as it's not in the top 5 elements.\n",
            "---\n",
            "Element 16 in queue:-\n",
            "\n",
            "Retaining this element as it's in the top 5 elements.\n",
            "---\n",
            "Element 17 in queue:-\n",
            "\n",
            "Retaining this element as it's in the top 5 elements.\n",
            "---\n",
            "~~~\n",
            "Step 4 (corresponding to level 4 of the tree):-\n",
            "---\n",
            "Node 1 in level 4:-\n",
            "State of current node:-\n",
            "1 + 1 = 2 (left: 1 2 8)\n",
            "1 + 2 = 3 (left: 3 8)\n",
            "3 + 8 = 11 (left: 11)\n",
            "---\n",
            "Thought candidate 1:-\n",
            "There is no possible operation as there is only one number.\n",
            "---\n",
            "Each of the above thought candidates has been added as a child of the current node.\n",
            "---\n",
            "Node 2 in level 4:-\n",
            "State of current node:-\n",
            "1 + 1 = 2 (left: 1 2 8)\n",
            "1 + 2 = 3 (left: 3 8)\n",
            "3 * 8 = 24 (left: 24)\n",
            "---\n",
            "Thought candidate 1:-\n",
            "Answer: ((1 + 1) + 1) * 8 = 24\n",
            "---\n",
            "Each of the above thought candidates has been added as a child of the current node.\n",
            "---\n",
            "Node 3 in level 4:-\n",
            "State of current node:-\n",
            "1 + 1 = 2 (left: 1 2 8)\n",
            "2 * 1 = 2 (left: 2 8)\n",
            "8 - 2 = 6 (left: 6)\n",
            "---\n",
            "Thought candidate 1:-\n",
            "8 + 6 = 14 (left: 8 14 14)\n",
            "---\n",
            "Thought candidate 2:-\n",
            "8 - 6 = 2 (left: 2 8 14)\n",
            "---\n",
            "Thought candidate 3:-\n",
            "14 - 6 = 8 (left: 8 8 8)\n",
            "---\n",
            "Thought candidate 4:-\n",
            "14 + 6 = 20 (left: 8 8 20)\n",
            "---\n",
            "Thought candidate 5:-\n",
            "2 * 6 = 12 (left: 8 12 14)\n",
            "---\n",
            "Thought candidate 6:-\n",
            "14 / 6 = ~2.33 (left: ~2.33 8 8) (not a valid step, as we are only considering integer solutions)\n",
            "---\n",
            "Thought candidate 7:-\n",
            "8 / 6 = ~1.33 (left: ~1.33 8 14) (not a valid step, as we are only considering integer solutions)\n",
            "---\n",
            "Thought candidate 8:-\n",
            "6 * 8 = 48 (left: 8 14 48)\n",
            "---\n",
            "Each of the above thought candidates has been added as a child of the current node.\n",
            "---\n",
            "Node 4 in level 4:-\n",
            "State of current node:-\n",
            "1 + 1 = 2 (left: 1 2 8)\n",
            "8 - 2 = 6 (left: 1 6)\n",
            "6 / 1 = 6 (left: 6)\n",
            "---\n",
            "Thought candidate 1:-\n",
            "6 + 10 = 16 (left: 8 14 16)\n",
            "---\n",
            "Thought candidate 2:-\n",
            "6 + 4 = 10 (left: 8 10 14)\n",
            "---\n",
            "Thought candidate 3:-\n",
            "16 - 6 = 10 (left: 8 10 14)\n",
            "---\n",
            "Thought candidate 4:-\n",
            "16 / 6 = 2.67 (left: 2.67 8 14)\n",
            "---\n",
            "Thought candidate 5:-\n",
            "6 - 2 = 4 (left: 4 8 14)\n",
            "---\n",
            "Thought candidate 6:-\n",
            "6 / 2 = 3 (left: 3 8 14)\n",
            "---\n",
            "Thought candidate 7:-\n",
            "7 + 6 = 13 (left: 8 8 13)\n",
            "---\n",
            "Thought candidate 8:-\n",
            "12 - 6 = 6 (left: 6 8 8)\n",
            "---\n",
            "Each of the above thought candidates has been added as a child of the current node.\n",
            "---\n",
            "Node 5 in level 4:-\n",
            "State of current node:-\n",
            "1 + 1 + 1 = 3 (left: 3 8)\n",
            "3 * 8 = 24 (left: 24)\n",
            "Answer: (1 + 1 + 1) * 8 = 24\n",
            "---\n",
            "Thought candidate 1:-\n",
            "1 + 1 = 2 (left: 1 2)\n",
            "---\n",
            "Thought candidate 2:-\n",
            "1 - 1 = 0 (left: 0 1)\n",
            "---\n",
            "Thought candidate 3:-\n",
            "1 * 1 = 1 (left: 1 1)\n",
            "---\n",
            "Thought candidate 4:-\n",
            "This input is incomplete, it is not possible to define the next steps without knowing the remaining part of the expression.\n",
            "---\n",
            "Each of the above thought candidates has been added as a child of the current node.\n",
            "---\n",
            "Using the state evaluator to obtain values...\n",
            "---\n",
            "Element 1 in queue:-\n",
            "\n",
            "Value: 0\n",
            "---\n",
            "Element 2 in queue:-\n",
            "\n",
            "Value: 60.0\n",
            "---\n",
            "Element 3 in queue:-\n",
            "\n",
            "Value: 0\n",
            "---\n",
            "Element 4 in queue:-\n",
            "\n",
            "Value: 0\n",
            "---\n",
            "Element 5 in queue:-\n",
            "\n",
            "Value: 0\n",
            "---\n",
            "Element 6 in queue:-\n",
            "\n",
            "Value: 0\n",
            "---\n",
            "Element 7 in queue:-\n",
            "\n",
            "Value: 0\n",
            "---\n",
            "Element 8 in queue:-\n",
            "\n",
            "Value: 0\n",
            "---\n",
            "Element 9 in queue:-\n",
            "\n",
            "Value: 0\n",
            "---\n",
            "Element 10 in queue:-\n",
            "\n",
            "Value: 0\n",
            "---\n",
            "Element 11 in queue:-\n",
            "\n",
            "Value: 0\n",
            "---\n",
            "Element 12 in queue:-\n",
            "\n",
            "Value: 0\n",
            "---\n",
            "Element 13 in queue:-\n",
            "\n",
            "Value: 0\n",
            "---\n",
            "Element 14 in queue:-\n",
            "\n",
            "Value: 0\n",
            "---\n",
            "Element 15 in queue:-\n",
            "\n",
            "Value: 0\n",
            "---\n",
            "Element 16 in queue:-\n",
            "\n",
            "Value: 0\n",
            "---\n",
            "Element 17 in queue:-\n",
            "\n",
            "Value: 0\n",
            "---\n",
            "Element 18 in queue:-\n",
            "\n",
            "Value: 0\n",
            "---\n",
            "Element 19 in queue:-\n",
            "\n",
            "Value: 0.003\n",
            "---\n",
            "Element 20 in queue:-\n",
            "\n",
            "Value: 0.003\n",
            "---\n",
            "Element 21 in queue:-\n",
            "\n",
            "Value: 0.003\n",
            "---\n",
            "Element 22 in queue:-\n",
            "\n",
            "Value: 0.003\n",
            "---\n",
            "Initiating pruning (using the values obtained from the state evaluator).\n",
            "Number of elements in queue: 22\n",
            "Since this is the last step, setting the breadth limit to 1.\n",
            "In other words, retaining only the highest value element (in this last step).\n",
            "---\n",
            "Element 1 in queue:-\n",
            "\n",
            "Dropping this element as it's not in the top 1 elements.\n",
            "---\n",
            "Element 2 in queue:-\n",
            "\n",
            "Retaining this element as it's in the top 1 elements.\n",
            "---\n",
            "Element 3 in queue:-\n",
            "\n",
            "Dropping this element as it's not in the top 1 elements.\n",
            "---\n",
            "Element 4 in queue:-\n",
            "\n",
            "Dropping this element as it's not in the top 1 elements.\n",
            "---\n",
            "Element 5 in queue:-\n",
            "\n",
            "Dropping this element as it's not in the top 1 elements.\n",
            "---\n",
            "Element 6 in queue:-\n",
            "\n",
            "Dropping this element as it's not in the top 1 elements.\n",
            "---\n",
            "Element 7 in queue:-\n",
            "\n",
            "Dropping this element as it's not in the top 1 elements.\n",
            "---\n",
            "Element 8 in queue:-\n",
            "\n",
            "Dropping this element as it's not in the top 1 elements.\n",
            "---\n",
            "Element 9 in queue:-\n",
            "\n",
            "Dropping this element as it's not in the top 1 elements.\n",
            "---\n",
            "Element 10 in queue:-\n",
            "\n",
            "Dropping this element as it's not in the top 1 elements.\n",
            "---\n",
            "Element 11 in queue:-\n",
            "\n",
            "Dropping this element as it's not in the top 1 elements.\n",
            "---\n",
            "Element 12 in queue:-\n",
            "\n",
            "Dropping this element as it's not in the top 1 elements.\n",
            "---\n",
            "Element 13 in queue:-\n",
            "\n",
            "Dropping this element as it's not in the top 1 elements.\n",
            "---\n",
            "Element 14 in queue:-\n",
            "\n",
            "Dropping this element as it's not in the top 1 elements.\n",
            "---\n",
            "Element 15 in queue:-\n",
            "\n",
            "Dropping this element as it's not in the top 1 elements.\n",
            "---\n",
            "Element 16 in queue:-\n",
            "\n",
            "Dropping this element as it's not in the top 1 elements.\n",
            "---\n",
            "Element 17 in queue:-\n",
            "\n",
            "Dropping this element as it's not in the top 1 elements.\n",
            "---\n",
            "Element 18 in queue:-\n",
            "\n",
            "Dropping this element as it's not in the top 1 elements.\n",
            "---\n",
            "Element 19 in queue:-\n",
            "\n",
            "Dropping this element as it's not in the top 1 elements.\n",
            "---\n",
            "Element 20 in queue:-\n",
            "\n",
            "Dropping this element as it's not in the top 1 elements.\n",
            "---\n",
            "Element 21 in queue:-\n",
            "\n",
            "Dropping this element as it's not in the top 1 elements.\n",
            "---\n",
            "Element 22 in queue:-\n",
            "\n",
            "Dropping this element as it's not in the top 1 elements.\n",
            "---\n",
            "~~~\n",
            "Answer: ((1 + 1) + 1) * 8 = 24\n"
          ]
        }
      ]
    },
    {
      "cell_type": "markdown",
      "source": [
        "Time to visualize the tree."
      ],
      "metadata": {
        "id": "eVrNlHs7Xlgb"
      }
    },
    {
      "cell_type": "code",
      "source": [
        "tot.render_html_tree()"
      ],
      "metadata": {
        "colab": {
          "base_uri": "https://localhost:8080/",
          "height": 1000
        },
        "id": "FNuxhjNdXmKM",
        "outputId": "099ec75b-c9a1-4292-9bba-f4c3fd547a15"
      },
      "execution_count": 72,
      "outputs": [
        {
          "output_type": "display_data",
          "data": {
            "text/plain": [
              "<IPython.core.display.HTML object>"
            ],
            "text/html": [
              "<!DOCTYPE html>\n",
              "<html>\n",
              "<head>\n",
              "    <style>\n",
              "        .node {\n",
              "            display: inline-block;\n",
              "            border: 1px solid blue;\n",
              "            padding: 10px;\n",
              "            margin: 5px;\n",
              "            text-align: center;\n",
              "        }\n",
              "        .child {\n",
              "            display: flex;\n",
              "        }\n",
              "    </style>\n",
              "</head>\n",
              "<body>\n",
              "    <div class='node'>\n",
              "<p>State:<br></p>\n",
              "<hr>\n",
              "<p>Thought:<br></p>\n",
              "<hr>\n",
              "<p>Value:<br>None</p><div class='child'><div class='node'>\n",
              "<p>State:<br>1 + 1 = 2 (left: 1 2 8)</p>\n",
              "<hr>\n",
              "<p>Thought:<br>1 + 1 = 2 (left: 1 2 8)</p>\n",
              "<hr>\n",
              "<p>Value:<br>21.001</p><div class='child'><div class='node'>\n",
              "<p>State:<br>1 + 1 = 2 (left: 1 2 8)\n",
              "1 + 2 = 3 (left: 3 8)</p>\n",
              "<hr>\n",
              "<p>Thought:<br>1 + 2 = 3 (left: 3 8)</p>\n",
              "<hr>\n",
              "<p>Value:<br>60.0</p><div class='child'><div class='node'>\n",
              "<p>State:<br>1 + 1 = 2 (left: 1 2 8)\n",
              "1 + 2 = 3 (left: 3 8)\n",
              "3 + 8 = 11 (left: 11)</p>\n",
              "<hr>\n",
              "<p>Thought:<br>3 + 8 = 11 (left: 11)</p>\n",
              "<hr>\n",
              "<p>Value:<br>0.003</p><div class='child'><div class='node'>\n",
              "<p>State:<br>1 + 1 = 2 (left: 1 2 8)\n",
              "1 + 2 = 3 (left: 3 8)\n",
              "3 + 8 = 11 (left: 11)\n",
              "There is no possible operation as there is only one number.</p>\n",
              "<hr>\n",
              "<p>Thought:<br>There is no possible operation as there is only one number.</p>\n",
              "<hr>\n",
              "<p>Value:<br>0</p></div></div></div></div><div class='child'><div class='node'>\n",
              "<p>State:<br>1 + 1 = 2 (left: 1 2 8)\n",
              "1 + 2 = 3 (left: 3 8)\n",
              "8 - 3 = 5 (left: 5)</p>\n",
              "<hr>\n",
              "<p>Thought:<br>8 - 3 = 5 (left: 5)</p>\n",
              "<hr>\n",
              "<p>Value:<br>0.003</p></div></div><div class='child'><div class='node'>\n",
              "<p>State:<br>1 + 1 = 2 (left: 1 2 8)\n",
              "1 + 2 = 3 (left: 3 8)\n",
              "3 * 8 = 24 (left: 24)</p>\n",
              "<hr>\n",
              "<p>Thought:<br>3 * 8 = 24 (left: 24)</p>\n",
              "<hr>\n",
              "<p>Value:<br>60.0</p><div class='child'><div class='node'>\n",
              "<p>State:<br>1 + 1 = 2 (left: 1 2 8)\n",
              "1 + 2 = 3 (left: 3 8)\n",
              "3 * 8 = 24 (left: 24)\n",
              "Answer: ((1 + 1) + 1) * 8 = 24</p>\n",
              "<hr>\n",
              "<p>Thought:<br>Answer: ((1 + 1) + 1) * 8 = 24</p>\n",
              "<hr>\n",
              "<p>Value:<br>60.0</p></div></div></div></div><div class='child'><div class='node'>\n",
              "<p>State:<br>1 + 1 = 2 (left: 1 2 8)\n",
              "1 + 2 = 3 (left: 3 8)\n",
              "8 / 3 = 2.67 (left: 2.67)</p>\n",
              "<hr>\n",
              "<p>Thought:<br>8 / 3 = 2.67 (left: 2.67)</p>\n",
              "<hr>\n",
              "<p>Value:<br>0.003</p></div></div></div></div><div class='child'><div class='node'>\n",
              "<p>State:<br>1 + 1 = 2 (left: 1 2 8)\n",
              "2 * 1 = 2 (left: 2 8)</p>\n",
              "<hr>\n",
              "<p>Thought:<br>2 * 1 = 2 (left: 2 8)</p>\n",
              "<hr>\n",
              "<p>Value:<br>0.003</p><div class='child'><div class='node'>\n",
              "<p>State:<br>1 + 1 = 2 (left: 1 2 8)\n",
              "2 * 1 = 2 (left: 2 8)\n",
              "2 + 8 = 10 (left: 10)</p>\n",
              "<hr>\n",
              "<p>Thought:<br>2 + 8 = 10 (left: 10)</p>\n",
              "<hr>\n",
              "<p>Value:<br>0.003</p></div></div><div class='child'><div class='node'>\n",
              "<p>State:<br>1 + 1 = 2 (left: 1 2 8)\n",
              "2 * 1 = 2 (left: 2 8)\n",
              "2 * 8 = 16 (left: 16)</p>\n",
              "<hr>\n",
              "<p>Thought:<br>2 * 8 = 16 (left: 16)</p>\n",
              "<hr>\n",
              "<p>Value:<br>0.003</p></div></div><div class='child'><div class='node'>\n",
              "<p>State:<br>1 + 1 = 2 (left: 1 2 8)\n",
              "2 * 1 = 2 (left: 2 8)\n",
              "8 - 2 = 6 (left: 6)</p>\n",
              "<hr>\n",
              "<p>Thought:<br>8 - 2 = 6 (left: 6)</p>\n",
              "<hr>\n",
              "<p>Value:<br>20.002</p><div class='child'><div class='node'>\n",
              "<p>State:<br>1 + 1 = 2 (left: 1 2 8)\n",
              "2 * 1 = 2 (left: 2 8)\n",
              "8 - 2 = 6 (left: 6)\n",
              "8 + 6 = 14 (left: 8 14 14)</p>\n",
              "<hr>\n",
              "<p>Thought:<br>8 + 6 = 14 (left: 8 14 14)</p>\n",
              "<hr>\n",
              "<p>Value:<br>0</p></div></div><div class='child'><div class='node'>\n",
              "<p>State:<br>1 + 1 = 2 (left: 1 2 8)\n",
              "2 * 1 = 2 (left: 2 8)\n",
              "8 - 2 = 6 (left: 6)\n",
              "8 - 6 = 2 (left: 2 8 14)</p>\n",
              "<hr>\n",
              "<p>Thought:<br>8 - 6 = 2 (left: 2 8 14)</p>\n",
              "<hr>\n",
              "<p>Value:<br>0</p></div></div><div class='child'><div class='node'>\n",
              "<p>State:<br>1 + 1 = 2 (left: 1 2 8)\n",
              "2 * 1 = 2 (left: 2 8)\n",
              "8 - 2 = 6 (left: 6)\n",
              "14 - 6 = 8 (left: 8 8 8)</p>\n",
              "<hr>\n",
              "<p>Thought:<br>14 - 6 = 8 (left: 8 8 8)</p>\n",
              "<hr>\n",
              "<p>Value:<br>0</p></div></div><div class='child'><div class='node'>\n",
              "<p>State:<br>1 + 1 = 2 (left: 1 2 8)\n",
              "2 * 1 = 2 (left: 2 8)\n",
              "8 - 2 = 6 (left: 6)\n",
              "14 + 6 = 20 (left: 8 8 20)</p>\n",
              "<hr>\n",
              "<p>Thought:<br>14 + 6 = 20 (left: 8 8 20)</p>\n",
              "<hr>\n",
              "<p>Value:<br>0</p></div></div><div class='child'><div class='node'>\n",
              "<p>State:<br>1 + 1 = 2 (left: 1 2 8)\n",
              "2 * 1 = 2 (left: 2 8)\n",
              "8 - 2 = 6 (left: 6)\n",
              "2 * 6 = 12 (left: 8 12 14)</p>\n",
              "<hr>\n",
              "<p>Thought:<br>2 * 6 = 12 (left: 8 12 14)</p>\n",
              "<hr>\n",
              "<p>Value:<br>0</p></div></div><div class='child'><div class='node'>\n",
              "<p>State:<br>1 + 1 = 2 (left: 1 2 8)\n",
              "2 * 1 = 2 (left: 2 8)\n",
              "8 - 2 = 6 (left: 6)\n",
              "14 / 6 = ~2.33 (left: ~2.33 8 8) (not a valid step, as we are only considering integer solutions)</p>\n",
              "<hr>\n",
              "<p>Thought:<br>14 / 6 = ~2.33 (left: ~2.33 8 8) (not a valid step, as we are only considering integer solutions)</p>\n",
              "<hr>\n",
              "<p>Value:<br>0</p></div></div><div class='child'><div class='node'>\n",
              "<p>State:<br>1 + 1 = 2 (left: 1 2 8)\n",
              "2 * 1 = 2 (left: 2 8)\n",
              "8 - 2 = 6 (left: 6)\n",
              "8 / 6 = ~1.33 (left: ~1.33 8 14) (not a valid step, as we are only considering integer solutions)</p>\n",
              "<hr>\n",
              "<p>Thought:<br>8 / 6 = ~1.33 (left: ~1.33 8 14) (not a valid step, as we are only considering integer solutions)</p>\n",
              "<hr>\n",
              "<p>Value:<br>0</p></div></div><div class='child'><div class='node'>\n",
              "<p>State:<br>1 + 1 = 2 (left: 1 2 8)\n",
              "2 * 1 = 2 (left: 2 8)\n",
              "8 - 2 = 6 (left: 6)\n",
              "6 * 8 = 48 (left: 8 14 48)</p>\n",
              "<hr>\n",
              "<p>Thought:<br>6 * 8 = 48 (left: 8 14 48)</p>\n",
              "<hr>\n",
              "<p>Value:<br>0</p></div></div></div></div><div class='child'><div class='node'>\n",
              "<p>State:<br>1 + 1 = 2 (left: 1 2 8)\n",
              "2 * 1 = 2 (left: 2 8)\n",
              "8 / 2 = 4 (left: 4)</p>\n",
              "<hr>\n",
              "<p>Thought:<br>8 / 2 = 4 (left: 4)</p>\n",
              "<hr>\n",
              "<p>Value:<br>0.001</p></div></div></div></div><div class='child'><div class='node'>\n",
              "<p>State:<br>1 + 1 = 2 (left: 1 2 8)\n",
              "8 - 1 = 7 (left: 2 7)</p>\n",
              "<hr>\n",
              "<p>Thought:<br>8 - 1 = 7 (left: 2 7)</p>\n",
              "<hr>\n",
              "<p>Value:<br>0.003</p><div class='child'><div class='node'>\n",
              "<p>State:<br>1 + 1 = 2 (left: 1 2 8)\n",
              "8 - 1 = 7 (left: 2 7)\n",
              "2 + 7 = 9 (left: 9)</p>\n",
              "<hr>\n",
              "<p>Thought:<br>2 + 7 = 9 (left: 9)</p>\n",
              "<hr>\n",
              "<p>Value:<br>0.003</p></div></div><div class='child'><div class='node'>\n",
              "<p>State:<br>1 + 1 = 2 (left: 1 2 8)\n",
              "8 - 1 = 7 (left: 2 7)\n",
              "7 - 2 = 5 (left: 5)</p>\n",
              "<hr>\n",
              "<p>Thought:<br>7 - 2 = 5 (left: 5)</p>\n",
              "<hr>\n",
              "<p>Value:<br>0.003</p></div></div><div class='child'><div class='node'>\n",
              "<p>State:<br>1 + 1 = 2 (left: 1 2 8)\n",
              "8 - 1 = 7 (left: 2 7)\n",
              "2 * 7 = 14 (left: 14)</p>\n",
              "<hr>\n",
              "<p>Thought:<br>2 * 7 = 14 (left: 14)</p>\n",
              "<hr>\n",
              "<p>Value:<br>0.003</p></div></div><div class='child'><div class='node'>\n",
              "<p>State:<br>1 + 1 = 2 (left: 1 2 8)\n",
              "8 - 1 = 7 (left: 2 7)\n",
              "7 / 2 = 3.5 (left: 3.5)</p>\n",
              "<hr>\n",
              "<p>Thought:<br>7 / 2 = 3.5 (left: 3.5)</p>\n",
              "<hr>\n",
              "<p>Value:<br>0.003</p></div></div></div></div><div class='child'><div class='node'>\n",
              "<p>State:<br>1 + 1 = 2 (left: 1 2 8)\n",
              "8 - 2 = 6 (left: 1 6)</p>\n",
              "<hr>\n",
              "<p>Thought:<br>8 - 2 = 6 (left: 1 6)</p>\n",
              "<hr>\n",
              "<p>Value:<br>0.003</p><div class='child'><div class='node'>\n",
              "<p>State:<br>1 + 1 = 2 (left: 1 2 8)\n",
              "8 - 2 = 6 (left: 1 6)\n",
              "1 + 6 = 7 (left: 7)</p>\n",
              "<hr>\n",
              "<p>Thought:<br>1 + 6 = 7 (left: 7)</p>\n",
              "<hr>\n",
              "<p>Value:<br>0.001</p></div></div><div class='child'><div class='node'>\n",
              "<p>State:<br>1 + 1 = 2 (left: 1 2 8)\n",
              "8 - 2 = 6 (left: 1 6)\n",
              "6 - 1 = 5 (left: 5)</p>\n",
              "<hr>\n",
              "<p>Thought:<br>6 - 1 = 5 (left: 5)</p>\n",
              "<hr>\n",
              "<p>Value:<br>0.003</p></div></div><div class='child'><div class='node'>\n",
              "<p>State:<br>1 + 1 = 2 (left: 1 2 8)\n",
              "8 - 2 = 6 (left: 1 6)\n",
              "1 * 6 = 6 (left: 6)</p>\n",
              "<hr>\n",
              "<p>Thought:<br>1 * 6 = 6 (left: 6)</p>\n",
              "<hr>\n",
              "<p>Value:<br>0.003</p></div></div><div class='child'><div class='node'>\n",
              "<p>State:<br>1 + 1 = 2 (left: 1 2 8)\n",
              "8 - 2 = 6 (left: 1 6)\n",
              "6 / 1 = 6 (left: 6)</p>\n",
              "<hr>\n",
              "<p>Thought:<br>6 / 1 = 6 (left: 6)</p>\n",
              "<hr>\n",
              "<p>Value:<br>40.001</p><div class='child'><div class='node'>\n",
              "<p>State:<br>1 + 1 = 2 (left: 1 2 8)\n",
              "8 - 2 = 6 (left: 1 6)\n",
              "6 / 1 = 6 (left: 6)\n",
              "6 + 10 = 16 (left: 8 14 16)</p>\n",
              "<hr>\n",
              "<p>Thought:<br>6 + 10 = 16 (left: 8 14 16)</p>\n",
              "<hr>\n",
              "<p>Value:<br>0</p></div></div><div class='child'><div class='node'>\n",
              "<p>State:<br>1 + 1 = 2 (left: 1 2 8)\n",
              "8 - 2 = 6 (left: 1 6)\n",
              "6 / 1 = 6 (left: 6)\n",
              "6 + 4 = 10 (left: 8 10 14)</p>\n",
              "<hr>\n",
              "<p>Thought:<br>6 + 4 = 10 (left: 8 10 14)</p>\n",
              "<hr>\n",
              "<p>Value:<br>0</p></div></div><div class='child'><div class='node'>\n",
              "<p>State:<br>1 + 1 = 2 (left: 1 2 8)\n",
              "8 - 2 = 6 (left: 1 6)\n",
              "6 / 1 = 6 (left: 6)\n",
              "16 - 6 = 10 (left: 8 10 14)</p>\n",
              "<hr>\n",
              "<p>Thought:<br>16 - 6 = 10 (left: 8 10 14)</p>\n",
              "<hr>\n",
              "<p>Value:<br>0</p></div></div><div class='child'><div class='node'>\n",
              "<p>State:<br>1 + 1 = 2 (left: 1 2 8)\n",
              "8 - 2 = 6 (left: 1 6)\n",
              "6 / 1 = 6 (left: 6)\n",
              "16 / 6 = 2.67 (left: 2.67 8 14)</p>\n",
              "<hr>\n",
              "<p>Thought:<br>16 / 6 = 2.67 (left: 2.67 8 14)</p>\n",
              "<hr>\n",
              "<p>Value:<br>0</p></div></div><div class='child'><div class='node'>\n",
              "<p>State:<br>1 + 1 = 2 (left: 1 2 8)\n",
              "8 - 2 = 6 (left: 1 6)\n",
              "6 / 1 = 6 (left: 6)\n",
              "6 - 2 = 4 (left: 4 8 14)</p>\n",
              "<hr>\n",
              "<p>Thought:<br>6 - 2 = 4 (left: 4 8 14)</p>\n",
              "<hr>\n",
              "<p>Value:<br>0</p></div></div><div class='child'><div class='node'>\n",
              "<p>State:<br>1 + 1 = 2 (left: 1 2 8)\n",
              "8 - 2 = 6 (left: 1 6)\n",
              "6 / 1 = 6 (left: 6)\n",
              "6 / 2 = 3 (left: 3 8 14)</p>\n",
              "<hr>\n",
              "<p>Thought:<br>6 / 2 = 3 (left: 3 8 14)</p>\n",
              "<hr>\n",
              "<p>Value:<br>0</p></div></div><div class='child'><div class='node'>\n",
              "<p>State:<br>1 + 1 = 2 (left: 1 2 8)\n",
              "8 - 2 = 6 (left: 1 6)\n",
              "6 / 1 = 6 (left: 6)\n",
              "7 + 6 = 13 (left: 8 8 13)</p>\n",
              "<hr>\n",
              "<p>Thought:<br>7 + 6 = 13 (left: 8 8 13)</p>\n",
              "<hr>\n",
              "<p>Value:<br>0</p></div></div><div class='child'><div class='node'>\n",
              "<p>State:<br>1 + 1 = 2 (left: 1 2 8)\n",
              "8 - 2 = 6 (left: 1 6)\n",
              "6 / 1 = 6 (left: 6)\n",
              "12 - 6 = 6 (left: 6 8 8)</p>\n",
              "<hr>\n",
              "<p>Thought:<br>12 - 6 = 6 (left: 6 8 8)</p>\n",
              "<hr>\n",
              "<p>Value:<br>0</p></div></div></div></div></div></div><div class='child'><div class='node'>\n",
              "<p>State:<br>1 + 1 = 2 (left: 1 2 8)\n",
              "8 / 1 = 8 (left: 2 8)</p>\n",
              "<hr>\n",
              "<p>Thought:<br>8 / 1 = 8 (left: 2 8)</p>\n",
              "<hr>\n",
              "<p>Value:<br>0.003</p></div></div><div class='child'><div class='node'>\n",
              "<p>State:<br>1 + 1 = 2 (left: 1 2 8)\n",
              "2 * 8 = 16 (left: 1 16)</p>\n",
              "<hr>\n",
              "<p>Thought:<br>2 * 8 = 16 (left: 1 16)</p>\n",
              "<hr>\n",
              "<p>Value:<br>0.003</p></div></div><div class='child'><div class='node'>\n",
              "<p>State:<br>1 + 1 = 2 (left: 1 2 8)\n",
              "8 / 2 = 4 (left: 1 4)</p>\n",
              "<hr>\n",
              "<p>Thought:<br>8 / 2 = 4 (left: 1 4)</p>\n",
              "<hr>\n",
              "<p>Value:<br>0.003</p></div></div></div></div><div class='child'><div class='node'>\n",
              "<p>State:<br>1 * 1 = 1 (left: 1 1 8)</p>\n",
              "<hr>\n",
              "<p>Thought:<br>1 * 1 = 1 (left: 1 1 8)</p>\n",
              "<hr>\n",
              "<p>Value:<br>0.003</p><div class='child'><div class='node'>\n",
              "<p>State:<br>1 * 1 = 1 (left: 1 1 8)\n",
              "1 + 1 = 2 (left: 2 8)</p>\n",
              "<hr>\n",
              "<p>Thought:<br>1 + 1 = 2 (left: 2 8)</p>\n",
              "<hr>\n",
              "<p>Value:<br>0.003</p></div></div><div class='child'><div class='node'>\n",
              "<p>State:<br>1 * 1 = 1 (left: 1 1 8)\n",
              "1 * 1 = 1 (left: 1 8)</p>\n",
              "<hr>\n",
              "<p>Thought:<br>1 * 1 = 1 (left: 1 8)</p>\n",
              "<hr>\n",
              "<p>Value:<br>0.003</p></div></div><div class='child'><div class='node'>\n",
              "<p>State:<br>1 * 1 = 1 (left: 1 1 8)\n",
              "8 - 1 = 7 (left: 1 7)</p>\n",
              "<hr>\n",
              "<p>Thought:<br>8 - 1 = 7 (left: 1 7)</p>\n",
              "<hr>\n",
              "<p>Value:<br>0.003</p></div></div><div class='child'><div class='node'>\n",
              "<p>State:<br>1 * 1 = 1 (left: 1 1 8)\n",
              "8 / 1 = 8 (left: 1 8)</p>\n",
              "<hr>\n",
              "<p>Thought:<br>8 / 1 = 8 (left: 1 8)</p>\n",
              "<hr>\n",
              "<p>Value:<br>0.003</p></div></div></div></div><div class='child'><div class='node'>\n",
              "<p>State:<br>8 - 1 = 7 (left: 1 1 7)</p>\n",
              "<hr>\n",
              "<p>Thought:<br>8 - 1 = 7 (left: 1 1 7)</p>\n",
              "<hr>\n",
              "<p>Value:<br>0.003</p><div class='child'><div class='node'>\n",
              "<p>State:<br>8 - 1 = 7 (left: 1 1 7)\n",
              "1 + 1 = 2 (left: 2 7)</p>\n",
              "<hr>\n",
              "<p>Thought:<br>1 + 1 = 2 (left: 2 7)</p>\n",
              "<hr>\n",
              "<p>Value:<br>0.003</p></div></div><div class='child'><div class='node'>\n",
              "<p>State:<br>8 - 1 = 7 (left: 1 1 7)\n",
              "7 - 1 = 6 (left: 1 6)</p>\n",
              "<hr>\n",
              "<p>Thought:<br>7 - 1 = 6 (left: 1 6)</p>\n",
              "<hr>\n",
              "<p>Value:<br>0.003</p></div></div><div class='child'><div class='node'>\n",
              "<p>State:<br>8 - 1 = 7 (left: 1 1 7)\n",
              "7 / 1 = 7 (left: 1 7)</p>\n",
              "<hr>\n",
              "<p>Thought:<br>7 / 1 = 7 (left: 1 7)</p>\n",
              "<hr>\n",
              "<p>Value:<br>0.003</p></div></div><div class='child'><div class='node'>\n",
              "<p>State:<br>8 - 1 = 7 (left: 1 1 7)\n",
              "1 * 1 = 1 (left: 1 7)</p>\n",
              "<hr>\n",
              "<p>Thought:<br>1 * 1 = 1 (left: 1 7)</p>\n",
              "<hr>\n",
              "<p>Value:<br>0.003</p></div></div></div></div><div class='child'><div class='node'>\n",
              "<p>State:<br>8 / 1 = 8 (left: 1 1 8)</p>\n",
              "<hr>\n",
              "<p>Thought:<br>8 / 1 = 8 (left: 1 1 8)</p>\n",
              "<hr>\n",
              "<p>Value:<br>0.003</p><div class='child'><div class='node'>\n",
              "<p>State:<br>8 / 1 = 8 (left: 1 1 8)\n",
              "1 + 1 = 2 (left: 2 8)</p>\n",
              "<hr>\n",
              "<p>Thought:<br>1 + 1 = 2 (left: 2 8)</p>\n",
              "<hr>\n",
              "<p>Value:<br>0.003</p></div></div><div class='child'><div class='node'>\n",
              "<p>State:<br>8 / 1 = 8 (left: 1 1 8)\n",
              "1 * 1 = 1 (left: 1 8)</p>\n",
              "<hr>\n",
              "<p>Thought:<br>1 * 1 = 1 (left: 1 8)</p>\n",
              "<hr>\n",
              "<p>Value:<br>0.003</p></div></div><div class='child'><div class='node'>\n",
              "<p>State:<br>8 / 1 = 8 (left: 1 1 8)\n",
              "8 - 1 = 7 (left: 1 7)</p>\n",
              "<hr>\n",
              "<p>Thought:<br>8 - 1 = 7 (left: 1 7)</p>\n",
              "<hr>\n",
              "<p>Value:<br>0.003</p></div></div><div class='child'><div class='node'>\n",
              "<p>State:<br>8 / 1 = 8 (left: 1 1 8)\n",
              "8 / 1 = 8 (left: 1 8)</p>\n",
              "<hr>\n",
              "<p>Thought:<br>8 / 1 = 8 (left: 1 8)</p>\n",
              "<hr>\n",
              "<p>Value:<br>0.003</p></div></div></div></div><div class='child'><div class='node'>\n",
              "<p>State:<br>1 + 1 + 1 = 3 (left: 3 8)</p>\n",
              "<hr>\n",
              "<p>Thought:<br>1 + 1 + 1 = 3 (left: 3 8)</p>\n",
              "<hr>\n",
              "<p>Value:<br>60.0</p><div class='child'><div class='node'>\n",
              "<p>State:<br>1 + 1 + 1 = 3 (left: 3 8)\n",
              "3 + 8 = 11 (left: 11)</p>\n",
              "<hr>\n",
              "<p>Thought:<br>3 + 8 = 11 (left: 11)</p>\n",
              "<hr>\n",
              "<p>Value:<br>0.003</p></div></div><div class='child'><div class='node'>\n",
              "<p>State:<br>1 + 1 + 1 = 3 (left: 3 8)\n",
              "8 / 3 = 2.67 (left: 2.67)</p>\n",
              "<hr>\n",
              "<p>Thought:<br>8 / 3 = 2.67 (left: 2.67)</p>\n",
              "<hr>\n",
              "<p>Value:<br>0.002</p></div></div><div class='child'><div class='node'>\n",
              "<p>State:<br>1 + 1 + 1 = 3 (left: 3 8)\n",
              "8 - 3 = 5 (left: 5)</p>\n",
              "<hr>\n",
              "<p>Thought:<br>8 - 3 = 5 (left: 5)</p>\n",
              "<hr>\n",
              "<p>Value:<br>0.003</p></div></div><div class='child'><div class='node'>\n",
              "<p>State:<br>1 + 1 + 1 = 3 (left: 3 8)\n",
              "3 * 8 = 24 (left: 24)</p>\n",
              "<hr>\n",
              "<p>Thought:<br>3 * 8 = 24 (left: 24)</p>\n",
              "<hr>\n",
              "<p>Value:<br>60.0</p><div class='child'><div class='node'>\n",
              "<p>State:<br>1 + 1 + 1 = 3 (left: 3 8)\n",
              "3 * 8 = 24 (left: 24)\n",
              "Answer: (1 + 1 + 1) * 8 = 24</p>\n",
              "<hr>\n",
              "<p>Thought:<br>Answer: (1 + 1 + 1) * 8 = 24</p>\n",
              "<hr>\n",
              "<p>Value:<br>60.0</p><div class='child'><div class='node'>\n",
              "<p>State:<br>1 + 1 + 1 = 3 (left: 3 8)\n",
              "3 * 8 = 24 (left: 24)\n",
              "Answer: (1 + 1 + 1) * 8 = 24\n",
              "1 + 1 = 2 (left: 1 2)</p>\n",
              "<hr>\n",
              "<p>Thought:<br>1 + 1 = 2 (left: 1 2)</p>\n",
              "<hr>\n",
              "<p>Value:<br>0.003</p></div></div><div class='child'><div class='node'>\n",
              "<p>State:<br>1 + 1 + 1 = 3 (left: 3 8)\n",
              "3 * 8 = 24 (left: 24)\n",
              "Answer: (1 + 1 + 1) * 8 = 24\n",
              "1 - 1 = 0 (left: 0 1)</p>\n",
              "<hr>\n",
              "<p>Thought:<br>1 - 1 = 0 (left: 0 1)</p>\n",
              "<hr>\n",
              "<p>Value:<br>0.003</p></div></div><div class='child'><div class='node'>\n",
              "<p>State:<br>1 + 1 + 1 = 3 (left: 3 8)\n",
              "3 * 8 = 24 (left: 24)\n",
              "Answer: (1 + 1 + 1) * 8 = 24\n",
              "1 * 1 = 1 (left: 1 1)</p>\n",
              "<hr>\n",
              "<p>Thought:<br>1 * 1 = 1 (left: 1 1)</p>\n",
              "<hr>\n",
              "<p>Value:<br>0.003</p></div></div><div class='child'><div class='node'>\n",
              "<p>State:<br>1 + 1 + 1 = 3 (left: 3 8)\n",
              "3 * 8 = 24 (left: 24)\n",
              "Answer: (1 + 1 + 1) * 8 = 24\n",
              "This input is incomplete, it is not possible to define the next steps without knowing the remaining part of the expression.</p>\n",
              "<hr>\n",
              "<p>Thought:<br>This input is incomplete, it is not possible to define the next steps without knowing the remaining part of the expression.</p>\n",
              "<hr>\n",
              "<p>Value:<br>0.003</p></div></div></div></div></div></div></div></div><div class='child'><div class='node'>\n",
              "<p>State:<br>8 - 1 - 1 = 6 (left: 1 6)</p>\n",
              "<hr>\n",
              "<p>Thought:<br>8 - 1 - 1 = 6 (left: 1 6)</p>\n",
              "<hr>\n",
              "<p>Value:<br>0.003</p></div></div><div class='child'><div class='node'>\n",
              "<p>State:<br>8 / 1 / 1 = 8 (left: 1 8)</p>\n",
              "<hr>\n",
              "<p>Thought:<br>8 / 1 / 1 = 8 (left: 1 8)</p>\n",
              "<hr>\n",
              "<p>Value:<br>0.003</p></div></div></div>\n",
              "</body>\n",
              "</html>"
            ]
          },
          "metadata": {}
        }
      ]
    },
    {
      "cell_type": "markdown",
      "source": [
        "Ok. It's time to take a look at the `dfs` method.\n",
        "\n",
        "**Note:** The ToT paper didn't demonstrate DFS on the *Creative Writing* task. (It only demonstrated BFS.) But we shall demonstrate it nonetheless.\n",
        "\n",
        "The `dfs` method is a customized version of the Depth-First Search (DFS) algorithm. Here's how it works:\n",
        "\n",
        "1. Inside the `dfs` method, there is a variable called `dfs_output` (with an initial value of `None`). In case of a successful search, the output of the search will be recorded in this variable. In case of an unsuccessful search, the value of this variable will remain `None`.\n",
        "2. DFS is best executed using recursion. Hence, we've utilized a nested recursive function - `dfs_func` - inside the `dfs` method. This nested function returns a Boolean: `True` if the search is successful, and `False` otherwise.\n",
        "3. The base case is the following: `if step > self.n_steps`. But why? Well, it is assumed that if the current step has exceeded the number of steps required to solve the problem, then the search is successful. For example, in the *Game of 24* task, `self.n_steps` is always equal to `4` (`3` intermediate steps + `1` output generation step). Hence, if the current step exceeds `4`, we record the output in the `nonlocal` variable `dfs_output`, and then backtrack all the way up by returning `True`.\n",
        "4. In the recursive case, we generate thought candidates from the current node. Each of these thought candidates is added as a child of the current node.\n",
        "5. Now, it's time to loop through the children. For each child, we obtain a value from the state evaluator.\n",
        "6. We use a *heuristic threshold* to decide whether to grow a subtree (starting at this child) or prune it. After a bit of experimentation, we found that a heuristic threshold of `3.0` works well for this task.\n",
        "7. If the value of a child fails to exceed the heuristic threshold, then the child node is pruned, i.e., a subtree of the child isn't grown.\n",
        "8. Otherwise, we grow and search the subtree using the following recursive call: `end_search = dfs_func(child, step + 1)`.\n",
        "9. If `end_search` happens to be `True`, it means that the search was successful. In that case, we backtrack all the way up by returning `True`.\n",
        "10. If `end_search` happens to be `False`, we don't return anything. Rather, we move on to the next child.\n",
        "11. To provide more control over the search, an additional hyperparameter `max_per_state` is used. This hyperparameter specifies the maximum number of children to explore for a particular node. If the number of children explored touches `max_per_state`, we break the loop.\n",
        "12. If looping through the children didn't lead to a successful search, then the current node seems like a dead end. In that case, we backtrack to the parent node. The search will continue...\n",
        "\n",
        "All right, let's actually call the `dfs` method. By passing `verbose=True`, we can watch the DFS algorithm in action.\n",
        "\n",
        "To get a feel for the algorithm, let's initially set `max_per_state` to an unreasonably low value: `2`. (Since we're not allowing enough children to be explored at each node, the search will fail. This is deliberate. We want to see the backtracking in action in the search trace.)"
      ],
      "metadata": {
        "id": "NseMa4mAYAra"
      }
    },
    {
      "cell_type": "code",
      "source": [
        "tot = TreeOfThoughts(client, \"gpt-4\", input_seq, get_thought_gen_prompt, get_state_eval_prompt, heuristic_calculator, max_per_state=2)\n",
        "output = tot.dfs(verbose=True)\n",
        "print(\"None\" if output is None else output)"
      ],
      "metadata": {
        "colab": {
          "base_uri": "https://localhost:8080/"
        },
        "id": "vehFSOxviXjR",
        "outputId": "2236989e-4b91-4b65-f1ab-1057d674b696"
      },
      "execution_count": 73,
      "outputs": [
        {
          "output_type": "stream",
          "name": "stdout",
          "text": [
            "Step: 1\n",
            "---\n",
            "State of current node:-\n",
            "<EMPTY STRING> (root node; no thoughts generated yet)\n",
            "---\n",
            "Thought candidate 1:-\n",
            "1 + 1 = 2 (left: 1 2 8)\n",
            "---\n",
            "Thought candidate 2:-\n",
            "1 * 1 = 1 (left: 1 1 8)\n",
            "---\n",
            "Thought candidate 3:-\n",
            "8 - 1 = 7 (left: 1 1 7)\n",
            "---\n",
            "Thought candidate 4:-\n",
            "8 / 1 = 8 (left: 1 1 8)\n",
            "---\n",
            "Thought candidate 5:-\n",
            "1 * 8 = 8 (left: 1 1 8)\n",
            "---\n",
            "Thought candidate 6:-\n",
            "8 - 1 = 7 (left: 1 7 1)\n",
            "---\n",
            "Thought candidate 7:-\n",
            "8 / 1 = 8 (left: 1 8 1)\n",
            "---\n",
            "Each of the above thought candidates has been added as a child of the current node.\n",
            "---\n",
            "Reminder:-\n",
            "State of current node:-\n",
            "<EMPTY STRING> (root node; no thoughts generated yet)\n",
            "---\n",
            "Currently traversing child number: 1\n",
            "\n",
            "State of current child:-\n",
            "1 + 1 = 2 (left: 1 2 8)\n",
            "\n",
            "Using the state evaluator to obtain value...\n",
            "\n",
            "Value of current child: 22.0\n",
            "---\n",
            "Value exceeds heuristic threshold. Searching subtree.\n",
            "---\n",
            "~~~\n",
            "Step: 2\n",
            "---\n",
            "State of current node:-\n",
            "1 + 1 = 2 (left: 1 2 8)\n",
            "---\n",
            "Thought candidate 1:-\n",
            "1 + 2 = 3 (left: 3 8)\n",
            "---\n",
            "Thought candidate 2:-\n",
            "2 * 1 = 2 (left: 2 8)\n",
            "---\n",
            "Thought candidate 3:-\n",
            "8 - 1 = 7 (left: 2 7)\n",
            "---\n",
            "Thought candidate 4:-\n",
            "8 / 1 = 8 (left: 2 8)\n",
            "---\n",
            "Thought candidate 5:-\n",
            "8 - 2 = 6 (left: 1 6)\n",
            "---\n",
            "Thought candidate 6:-\n",
            "2 * 8 = 16 (left: 1 16)\n",
            "---\n",
            "Thought candidate 7:-\n",
            "1 * 2 = 2 (left: 2 8)\n",
            "---\n",
            "Each of the above thought candidates has been added as a child of the current node.\n",
            "---\n",
            "Reminder:-\n",
            "State of current node:-\n",
            "1 + 1 = 2 (left: 1 2 8)\n",
            "---\n",
            "Currently traversing child number: 1\n",
            "\n",
            "State of current child:-\n",
            "1 + 1 = 2 (left: 1 2 8)\n",
            "1 + 2 = 3 (left: 3 8)\n",
            "\n",
            "Using the state evaluator to obtain value...\n",
            "\n",
            "Value of current child: 60.0\n",
            "---\n",
            "Value exceeds heuristic threshold. Searching subtree.\n",
            "---\n",
            "~~~\n",
            "Step: 3\n",
            "---\n",
            "State of current node:-\n",
            "1 + 1 = 2 (left: 1 2 8)\n",
            "1 + 2 = 3 (left: 3 8)\n",
            "---\n",
            "Thought candidate 1:-\n",
            "3 + 8 = 11 (left: 11)\n",
            "---\n",
            "Thought candidate 2:-\n",
            "8 - 3 = 5 (left: 5)\n",
            "---\n",
            "Thought candidate 3:-\n",
            "8 / 3 = 2.67 (left: 2.67)\n",
            "---\n",
            "Thought candidate 4:-\n",
            "3 * 8 = 24 (left: 24)\n",
            "---\n",
            "Each of the above thought candidates has been added as a child of the current node.\n",
            "---\n",
            "Reminder:-\n",
            "State of current node:-\n",
            "1 + 1 = 2 (left: 1 2 8)\n",
            "1 + 2 = 3 (left: 3 8)\n",
            "---\n",
            "Currently traversing child number: 1\n",
            "\n",
            "State of current child:-\n",
            "1 + 1 = 2 (left: 1 2 8)\n",
            "1 + 2 = 3 (left: 3 8)\n",
            "3 + 8 = 11 (left: 11)\n",
            "\n",
            "Using the state evaluator to obtain value...\n",
            "\n",
            "Value of current child: 0.003\n",
            "---\n",
            "Reminder:-\n",
            "State of current node:-\n",
            "1 + 1 = 2 (left: 1 2 8)\n",
            "1 + 2 = 3 (left: 3 8)\n",
            "---\n",
            "Currently traversing child number: 2\n",
            "\n",
            "State of current child:-\n",
            "1 + 1 = 2 (left: 1 2 8)\n",
            "1 + 2 = 3 (left: 3 8)\n",
            "8 - 3 = 5 (left: 5)\n",
            "\n",
            "Using the state evaluator to obtain value...\n",
            "\n",
            "Value of current child: 0.003\n",
            "---\n",
            "2 children already searched for this node. Breaking the loop.\n",
            "---\n",
            "None of the child nodes led to success. Seems like a dead end. Backtracking to the parent node.\n",
            "~~~\n",
            "Back at step 2. Searching the subtree was unsuccessful! Trying the next child.\n",
            "---\n",
            "Reminder:-\n",
            "State of current node:-\n",
            "1 + 1 = 2 (left: 1 2 8)\n",
            "---\n",
            "Currently traversing child number: 2\n",
            "\n",
            "State of current child:-\n",
            "1 + 1 = 2 (left: 1 2 8)\n",
            "2 * 1 = 2 (left: 2 8)\n",
            "\n",
            "Using the state evaluator to obtain value...\n",
            "\n",
            "Value of current child: 0.003\n",
            "---\n",
            "2 children already searched for this node. Breaking the loop.\n",
            "---\n",
            "None of the child nodes led to success. Seems like a dead end. Backtracking to the parent node.\n",
            "~~~\n",
            "Back at step 1. Searching the subtree was unsuccessful! Trying the next child.\n",
            "---\n",
            "Reminder:-\n",
            "State of current node:-\n",
            "<EMPTY STRING> (root node; no thoughts generated yet)\n",
            "---\n",
            "Currently traversing child number: 2\n",
            "\n",
            "State of current child:-\n",
            "1 * 1 = 1 (left: 1 1 8)\n",
            "\n",
            "Using the state evaluator to obtain value...\n",
            "\n",
            "Value of current child: 0.003\n",
            "---\n",
            "2 children already searched for this node. Breaking the loop.\n",
            "---\n",
            "None of the child nodes led to success. Seems like a dead end. Backtracking to the parent node.\n",
            "~~~\n",
            "None\n"
          ]
        }
      ]
    },
    {
      "cell_type": "markdown",
      "source": [
        "Next, let's increase `max_per_state` to `10` (to increase the probability of a successful search), and see what happens."
      ],
      "metadata": {
        "id": "MRbDxpWZieAk"
      }
    },
    {
      "cell_type": "code",
      "source": [
        "tot = TreeOfThoughts(client, \"gpt-4\", input_seq, get_thought_gen_prompt, get_state_eval_prompt, heuristic_calculator, max_per_state=10)\n",
        "output = tot.dfs(verbose=True)\n",
        "print(\"None\" if output is None else output)"
      ],
      "metadata": {
        "colab": {
          "base_uri": "https://localhost:8080/"
        },
        "id": "CjmtZX1dipyW",
        "outputId": "04ae3868-34b7-4249-a8b9-e5dac40b078c"
      },
      "execution_count": 74,
      "outputs": [
        {
          "output_type": "stream",
          "name": "stdout",
          "text": [
            "Step: 1\n",
            "---\n",
            "State of current node:-\n",
            "<EMPTY STRING> (root node; no thoughts generated yet)\n",
            "---\n",
            "Thought candidate 1:-\n",
            "1 + 1 = 2 (left: 1 2 8)\n",
            "---\n",
            "Thought candidate 2:-\n",
            "1 * 1 = 1 (left: 1 1 8)\n",
            "---\n",
            "Thought candidate 3:-\n",
            "8 - 1 = 7 (left: 1 1 7)\n",
            "---\n",
            "Thought candidate 4:-\n",
            "8 / 1 = 8 (left: 1 1 8)\n",
            "---\n",
            "Thought candidate 5:-\n",
            "8 - 1 = 7 (left: 1 7 1)\n",
            "---\n",
            "Thought candidate 6:-\n",
            "1 + 1 = 2 (left: 2 1 8)\n",
            "---\n",
            "Thought candidate 7:-\n",
            "8 / 1 = 8 (left: 1 8 1)\n",
            "---\n",
            "Thought candidate 8:-\n",
            "1 * 1 = 1 (left: 1 8 1)\n",
            "---\n",
            "Each of the above thought candidates has been added as a child of the current node.\n",
            "---\n",
            "Reminder:-\n",
            "State of current node:-\n",
            "<EMPTY STRING> (root node; no thoughts generated yet)\n",
            "---\n",
            "Currently traversing child number: 1\n",
            "\n",
            "State of current child:-\n",
            "1 + 1 = 2 (left: 1 2 8)\n",
            "\n",
            "Using the state evaluator to obtain value...\n",
            "\n",
            "Value of current child: 2.001\n",
            "---\n",
            "Reminder:-\n",
            "State of current node:-\n",
            "<EMPTY STRING> (root node; no thoughts generated yet)\n",
            "---\n",
            "Currently traversing child number: 2\n",
            "\n",
            "State of current child:-\n",
            "1 * 1 = 1 (left: 1 1 8)\n",
            "\n",
            "Using the state evaluator to obtain value...\n",
            "\n",
            "Value of current child: 0.003\n",
            "---\n",
            "Reminder:-\n",
            "State of current node:-\n",
            "<EMPTY STRING> (root node; no thoughts generated yet)\n",
            "---\n",
            "Currently traversing child number: 3\n",
            "\n",
            "State of current child:-\n",
            "8 - 1 = 7 (left: 1 1 7)\n",
            "\n",
            "Using the state evaluator to obtain value...\n",
            "\n",
            "Value of current child: 0.003\n",
            "---\n",
            "Reminder:-\n",
            "State of current node:-\n",
            "<EMPTY STRING> (root node; no thoughts generated yet)\n",
            "---\n",
            "Currently traversing child number: 4\n",
            "\n",
            "State of current child:-\n",
            "8 / 1 = 8 (left: 1 1 8)\n",
            "\n",
            "Using the state evaluator to obtain value...\n",
            "\n",
            "Value of current child: 0.003\n",
            "---\n",
            "Reminder:-\n",
            "State of current node:-\n",
            "<EMPTY STRING> (root node; no thoughts generated yet)\n",
            "---\n",
            "Currently traversing child number: 5\n",
            "\n",
            "State of current child:-\n",
            "8 - 1 = 7 (left: 1 7 1)\n",
            "\n",
            "Using the state evaluator to obtain value...\n",
            "\n",
            "Value of current child: 0.003\n",
            "---\n",
            "Reminder:-\n",
            "State of current node:-\n",
            "<EMPTY STRING> (root node; no thoughts generated yet)\n",
            "---\n",
            "Currently traversing child number: 6\n",
            "\n",
            "State of current child:-\n",
            "1 + 1 = 2 (left: 2 1 8)\n",
            "\n",
            "Using the state evaluator to obtain value...\n",
            "\n",
            "Value of current child: 21.001\n",
            "---\n",
            "Value exceeds heuristic threshold. Searching subtree.\n",
            "---\n",
            "~~~\n",
            "Step: 2\n",
            "---\n",
            "State of current node:-\n",
            "1 + 1 = 2 (left: 2 1 8)\n",
            "---\n",
            "Thought candidate 1:-\n",
            "2 + 1 = 3 (left: 3 8)\n",
            "---\n",
            "Thought candidate 2:-\n",
            "2 * 1 = 2 (left: 2 8)\n",
            "---\n",
            "Thought candidate 3:-\n",
            "8 - 2 = 6 (left: 1 6)\n",
            "---\n",
            "Thought candidate 4:-\n",
            "8 - 1 = 7 (left: 2 7)\n",
            "---\n",
            "Thought candidate 5:-\n",
            "8 / 2 = 4 (left: 1 4)\n",
            "---\n",
            "Thought candidate 6:-\n",
            "8 / 1 = 8 (left: 2 8)\n",
            "---\n",
            "Thought candidate 7:-\n",
            "2 * 8 = 16 (left: 1 16)\n",
            "---\n",
            "Thought candidate 8:-\n",
            "1 * 8 = 8 (left: 2 8)\n",
            "---\n",
            "Each of the above thought candidates has been added as a child of the current node.\n",
            "---\n",
            "Reminder:-\n",
            "State of current node:-\n",
            "1 + 1 = 2 (left: 2 1 8)\n",
            "---\n",
            "Currently traversing child number: 1\n",
            "\n",
            "State of current child:-\n",
            "1 + 1 = 2 (left: 2 1 8)\n",
            "2 + 1 = 3 (left: 3 8)\n",
            "\n",
            "Using the state evaluator to obtain value...\n",
            "\n",
            "Value of current child: 60.0\n",
            "---\n",
            "Value exceeds heuristic threshold. Searching subtree.\n",
            "---\n",
            "~~~\n",
            "Step: 3\n",
            "---\n",
            "State of current node:-\n",
            "1 + 1 = 2 (left: 2 1 8)\n",
            "2 + 1 = 3 (left: 3 8)\n",
            "---\n",
            "Thought candidate 1:-\n",
            "3 + 8 = 11 (left: 11)\n",
            "---\n",
            "Thought candidate 2:-\n",
            "8 - 3 = 5 (left: 5)\n",
            "---\n",
            "Thought candidate 3:-\n",
            "8 / 3 = 2.666667 (left: 2.666667)\n",
            "---\n",
            "Thought candidate 4:-\n",
            "8 * 3 = 24 (left: 24)\n",
            "---\n",
            "Thought candidate 5:-\n",
            "3 - 8 = -5 (left: -5)\n",
            "---\n",
            "Each of the above thought candidates has been added as a child of the current node.\n",
            "---\n",
            "Reminder:-\n",
            "State of current node:-\n",
            "1 + 1 = 2 (left: 2 1 8)\n",
            "2 + 1 = 3 (left: 3 8)\n",
            "---\n",
            "Currently traversing child number: 1\n",
            "\n",
            "State of current child:-\n",
            "1 + 1 = 2 (left: 2 1 8)\n",
            "2 + 1 = 3 (left: 3 8)\n",
            "3 + 8 = 11 (left: 11)\n",
            "\n",
            "Using the state evaluator to obtain value...\n",
            "\n",
            "Value of current child: 0.002\n",
            "---\n",
            "Reminder:-\n",
            "State of current node:-\n",
            "1 + 1 = 2 (left: 2 1 8)\n",
            "2 + 1 = 3 (left: 3 8)\n",
            "---\n",
            "Currently traversing child number: 2\n",
            "\n",
            "State of current child:-\n",
            "1 + 1 = 2 (left: 2 1 8)\n",
            "2 + 1 = 3 (left: 3 8)\n",
            "8 - 3 = 5 (left: 5)\n",
            "\n",
            "Using the state evaluator to obtain value...\n",
            "\n",
            "Value of current child: 0.002\n",
            "---\n",
            "Reminder:-\n",
            "State of current node:-\n",
            "1 + 1 = 2 (left: 2 1 8)\n",
            "2 + 1 = 3 (left: 3 8)\n",
            "---\n",
            "Currently traversing child number: 3\n",
            "\n",
            "State of current child:-\n",
            "1 + 1 = 2 (left: 2 1 8)\n",
            "2 + 1 = 3 (left: 3 8)\n",
            "8 / 3 = 2.666667 (left: 2.666667)\n",
            "\n",
            "Using the state evaluator to obtain value...\n",
            "\n",
            "Value of current child: 0.002\n",
            "---\n",
            "Reminder:-\n",
            "State of current node:-\n",
            "1 + 1 = 2 (left: 2 1 8)\n",
            "2 + 1 = 3 (left: 3 8)\n",
            "---\n",
            "Currently traversing child number: 4\n",
            "\n",
            "State of current child:-\n",
            "1 + 1 = 2 (left: 2 1 8)\n",
            "2 + 1 = 3 (left: 3 8)\n",
            "8 * 3 = 24 (left: 24)\n",
            "\n",
            "Using the state evaluator to obtain value...\n",
            "\n",
            "Value of current child: 60.0\n",
            "---\n",
            "Value exceeds heuristic threshold. Searching subtree.\n",
            "---\n",
            "~~~\n",
            "Step: 4\n",
            "---\n",
            "State of current node:-\n",
            "1 + 1 = 2 (left: 2 1 8)\n",
            "2 + 1 = 3 (left: 3 8)\n",
            "8 * 3 = 24 (left: 24)\n",
            "---\n",
            "Thought candidate 1:-\n",
            "Answer: (1 + 1 + 1) * 8 = 24\n",
            "---\n",
            "Each of the above thought candidates has been added as a child of the current node.\n",
            "---\n",
            "Reminder:-\n",
            "State of current node:-\n",
            "1 + 1 = 2 (left: 2 1 8)\n",
            "2 + 1 = 3 (left: 3 8)\n",
            "8 * 3 = 24 (left: 24)\n",
            "---\n",
            "Currently traversing child number: 1\n",
            "\n",
            "State of current child:-\n",
            "1 + 1 = 2 (left: 2 1 8)\n",
            "2 + 1 = 3 (left: 3 8)\n",
            "8 * 3 = 24 (left: 24)\n",
            "Answer: (1 + 1 + 1) * 8 = 24\n",
            "\n",
            "Using the state evaluator to obtain value...\n",
            "\n",
            "Value of current child: 60.0\n",
            "---\n",
            "Value exceeds heuristic threshold. Searching subtree.\n",
            "---\n",
            "~~~\n",
            "Searching the subtree was successful! Backtracking all the way up.\n",
            "~~~\n",
            "Searching the subtree was successful! Backtracking all the way up.\n",
            "~~~\n",
            "Searching the subtree was successful! Backtracking all the way up.\n",
            "~~~\n",
            "Searching the subtree was successful! Backtracking all the way up.\n",
            "~~~\n",
            "1 + 1 = 2 (left: 2 1 8)\n",
            "2 + 1 = 3 (left: 3 8)\n",
            "8 * 3 = 24 (left: 24)\n",
            "Answer: (1 + 1 + 1) * 8 = 24\n"
          ]
        }
      ]
    },
    {
      "cell_type": "markdown",
      "source": [
        "The search was successful! The above search trace is awesome, right?\n",
        "\n",
        "Ok. Let's visualize the tree."
      ],
      "metadata": {
        "id": "q8z59-fFi8a5"
      }
    },
    {
      "cell_type": "code",
      "source": [
        "tot.render_html_tree()"
      ],
      "metadata": {
        "colab": {
          "base_uri": "https://localhost:8080/",
          "height": 1000
        },
        "id": "-tVDVrSpjCkB",
        "outputId": "6d2afd6e-25fc-4b57-ccf9-4e2254de4e33"
      },
      "execution_count": 75,
      "outputs": [
        {
          "output_type": "display_data",
          "data": {
            "text/plain": [
              "<IPython.core.display.HTML object>"
            ],
            "text/html": [
              "<!DOCTYPE html>\n",
              "<html>\n",
              "<head>\n",
              "    <style>\n",
              "        .node {\n",
              "            display: inline-block;\n",
              "            border: 1px solid blue;\n",
              "            padding: 10px;\n",
              "            margin: 5px;\n",
              "            text-align: center;\n",
              "        }\n",
              "        .child {\n",
              "            display: flex;\n",
              "        }\n",
              "    </style>\n",
              "</head>\n",
              "<body>\n",
              "    <div class='node'>\n",
              "<p>State:<br></p>\n",
              "<hr>\n",
              "<p>Thought:<br></p>\n",
              "<hr>\n",
              "<p>Value:<br>None</p><div class='child'><div class='node'>\n",
              "<p>State:<br>1 + 1 = 2 (left: 1 2 8)</p>\n",
              "<hr>\n",
              "<p>Thought:<br>1 + 1 = 2 (left: 1 2 8)</p>\n",
              "<hr>\n",
              "<p>Value:<br>2.001</p></div></div><div class='child'><div class='node'>\n",
              "<p>State:<br>1 * 1 = 1 (left: 1 1 8)</p>\n",
              "<hr>\n",
              "<p>Thought:<br>1 * 1 = 1 (left: 1 1 8)</p>\n",
              "<hr>\n",
              "<p>Value:<br>0.003</p></div></div><div class='child'><div class='node'>\n",
              "<p>State:<br>8 - 1 = 7 (left: 1 1 7)</p>\n",
              "<hr>\n",
              "<p>Thought:<br>8 - 1 = 7 (left: 1 1 7)</p>\n",
              "<hr>\n",
              "<p>Value:<br>0.003</p></div></div><div class='child'><div class='node'>\n",
              "<p>State:<br>8 / 1 = 8 (left: 1 1 8)</p>\n",
              "<hr>\n",
              "<p>Thought:<br>8 / 1 = 8 (left: 1 1 8)</p>\n",
              "<hr>\n",
              "<p>Value:<br>0.003</p></div></div><div class='child'><div class='node'>\n",
              "<p>State:<br>8 - 1 = 7 (left: 1 7 1)</p>\n",
              "<hr>\n",
              "<p>Thought:<br>8 - 1 = 7 (left: 1 7 1)</p>\n",
              "<hr>\n",
              "<p>Value:<br>0.003</p></div></div><div class='child'><div class='node'>\n",
              "<p>State:<br>1 + 1 = 2 (left: 2 1 8)</p>\n",
              "<hr>\n",
              "<p>Thought:<br>1 + 1 = 2 (left: 2 1 8)</p>\n",
              "<hr>\n",
              "<p>Value:<br>21.001</p><div class='child'><div class='node'>\n",
              "<p>State:<br>1 + 1 = 2 (left: 2 1 8)\n",
              "2 + 1 = 3 (left: 3 8)</p>\n",
              "<hr>\n",
              "<p>Thought:<br>2 + 1 = 3 (left: 3 8)</p>\n",
              "<hr>\n",
              "<p>Value:<br>60.0</p><div class='child'><div class='node'>\n",
              "<p>State:<br>1 + 1 = 2 (left: 2 1 8)\n",
              "2 + 1 = 3 (left: 3 8)\n",
              "3 + 8 = 11 (left: 11)</p>\n",
              "<hr>\n",
              "<p>Thought:<br>3 + 8 = 11 (left: 11)</p>\n",
              "<hr>\n",
              "<p>Value:<br>0.002</p></div></div><div class='child'><div class='node'>\n",
              "<p>State:<br>1 + 1 = 2 (left: 2 1 8)\n",
              "2 + 1 = 3 (left: 3 8)\n",
              "8 - 3 = 5 (left: 5)</p>\n",
              "<hr>\n",
              "<p>Thought:<br>8 - 3 = 5 (left: 5)</p>\n",
              "<hr>\n",
              "<p>Value:<br>0.002</p></div></div><div class='child'><div class='node'>\n",
              "<p>State:<br>1 + 1 = 2 (left: 2 1 8)\n",
              "2 + 1 = 3 (left: 3 8)\n",
              "8 / 3 = 2.666667 (left: 2.666667)</p>\n",
              "<hr>\n",
              "<p>Thought:<br>8 / 3 = 2.666667 (left: 2.666667)</p>\n",
              "<hr>\n",
              "<p>Value:<br>0.002</p></div></div><div class='child'><div class='node'>\n",
              "<p>State:<br>1 + 1 = 2 (left: 2 1 8)\n",
              "2 + 1 = 3 (left: 3 8)\n",
              "8 * 3 = 24 (left: 24)</p>\n",
              "<hr>\n",
              "<p>Thought:<br>8 * 3 = 24 (left: 24)</p>\n",
              "<hr>\n",
              "<p>Value:<br>60.0</p><div class='child'><div class='node'>\n",
              "<p>State:<br>1 + 1 = 2 (left: 2 1 8)\n",
              "2 + 1 = 3 (left: 3 8)\n",
              "8 * 3 = 24 (left: 24)\n",
              "Answer: (1 + 1 + 1) * 8 = 24</p>\n",
              "<hr>\n",
              "<p>Thought:<br>Answer: (1 + 1 + 1) * 8 = 24</p>\n",
              "<hr>\n",
              "<p>Value:<br>60.0</p></div></div></div></div><div class='child'><div class='node'>\n",
              "<p>State:<br>1 + 1 = 2 (left: 2 1 8)\n",
              "2 + 1 = 3 (left: 3 8)\n",
              "3 - 8 = -5 (left: -5)</p>\n",
              "<hr>\n",
              "<p>Thought:<br>3 - 8 = -5 (left: -5)</p>\n",
              "<hr>\n",
              "<p>Value:<br>None</p></div></div></div></div><div class='child'><div class='node'>\n",
              "<p>State:<br>1 + 1 = 2 (left: 2 1 8)\n",
              "2 * 1 = 2 (left: 2 8)</p>\n",
              "<hr>\n",
              "<p>Thought:<br>2 * 1 = 2 (left: 2 8)</p>\n",
              "<hr>\n",
              "<p>Value:<br>None</p></div></div><div class='child'><div class='node'>\n",
              "<p>State:<br>1 + 1 = 2 (left: 2 1 8)\n",
              "8 - 2 = 6 (left: 1 6)</p>\n",
              "<hr>\n",
              "<p>Thought:<br>8 - 2 = 6 (left: 1 6)</p>\n",
              "<hr>\n",
              "<p>Value:<br>None</p></div></div><div class='child'><div class='node'>\n",
              "<p>State:<br>1 + 1 = 2 (left: 2 1 8)\n",
              "8 - 1 = 7 (left: 2 7)</p>\n",
              "<hr>\n",
              "<p>Thought:<br>8 - 1 = 7 (left: 2 7)</p>\n",
              "<hr>\n",
              "<p>Value:<br>None</p></div></div><div class='child'><div class='node'>\n",
              "<p>State:<br>1 + 1 = 2 (left: 2 1 8)\n",
              "8 / 2 = 4 (left: 1 4)</p>\n",
              "<hr>\n",
              "<p>Thought:<br>8 / 2 = 4 (left: 1 4)</p>\n",
              "<hr>\n",
              "<p>Value:<br>None</p></div></div><div class='child'><div class='node'>\n",
              "<p>State:<br>1 + 1 = 2 (left: 2 1 8)\n",
              "8 / 1 = 8 (left: 2 8)</p>\n",
              "<hr>\n",
              "<p>Thought:<br>8 / 1 = 8 (left: 2 8)</p>\n",
              "<hr>\n",
              "<p>Value:<br>None</p></div></div><div class='child'><div class='node'>\n",
              "<p>State:<br>1 + 1 = 2 (left: 2 1 8)\n",
              "2 * 8 = 16 (left: 1 16)</p>\n",
              "<hr>\n",
              "<p>Thought:<br>2 * 8 = 16 (left: 1 16)</p>\n",
              "<hr>\n",
              "<p>Value:<br>None</p></div></div><div class='child'><div class='node'>\n",
              "<p>State:<br>1 + 1 = 2 (left: 2 1 8)\n",
              "1 * 8 = 8 (left: 2 8)</p>\n",
              "<hr>\n",
              "<p>Thought:<br>1 * 8 = 8 (left: 2 8)</p>\n",
              "<hr>\n",
              "<p>Value:<br>None</p></div></div></div></div><div class='child'><div class='node'>\n",
              "<p>State:<br>8 / 1 = 8 (left: 1 8 1)</p>\n",
              "<hr>\n",
              "<p>Thought:<br>8 / 1 = 8 (left: 1 8 1)</p>\n",
              "<hr>\n",
              "<p>Value:<br>None</p></div></div><div class='child'><div class='node'>\n",
              "<p>State:<br>1 * 1 = 1 (left: 1 8 1)</p>\n",
              "<hr>\n",
              "<p>Thought:<br>1 * 1 = 1 (left: 1 8 1)</p>\n",
              "<hr>\n",
              "<p>Value:<br>None</p></div></div></div>\n",
              "</body>\n",
              "</html>"
            ]
          },
          "metadata": {}
        }
      ]
    },
    {
      "cell_type": "markdown",
      "source": [
        "## A Reusable `TreeOfThoughts` Class"
      ],
      "metadata": {
        "id": "nH8dIEaYEPVN"
      }
    },
    {
      "cell_type": "markdown",
      "source": [
        "In the above sections, the hyperparameters of ToT were hardcoded (mirroring the values used in the paper for *Creative Writing* and *Game of 24*, respectively). However, to make the class reusable, we need to accept the hyperparameters as arguments in the constructor.\n",
        "\n",
        "Here's a reusable `TreeOfThoughts` class:"
      ],
      "metadata": {
        "id": "T-DVyvh6EYmu"
      }
    },
    {
      "cell_type": "code",
      "source": [
        "class TreeOfThoughts:\n",
        "    def __init__(\n",
        "            self,\n",
        "            client: Union[OpenAI, InferenceClient],\n",
        "            model: str,\n",
        "            input_seq: str,\n",
        "            n_steps: int,\n",
        "            thought_gen_strategy: str,\n",
        "            get_thought_gen_prompt: Callable,\n",
        "            state_eval_strategy: str,\n",
        "            get_state_eval_prompt: Callable,\n",
        "            n_evals: int,\n",
        "            heuristic_calculator: Callable,\n",
        "            n_candidates: Optional[int] = None,\n",
        "            stop_string: Optional[str] = None,\n",
        "            breadth_limit: Optional[int] = None,\n",
        "            heuristic_threshold: Optional[float] = None,\n",
        "            max_per_state: Optional[int] = None\n",
        "    ):\n",
        "        self.client = client\n",
        "        self.model = model # e.g., \"gpt-4\" if using `OpenAI` and \"meta-llama/Meta-Llama-3.1-8B-Instruct\" if using `InferenceClient`.\n",
        "        self.input_seq = input_seq\n",
        "        self.root = TreeNode(state='', thought='')\n",
        "        self.n_steps = n_steps # Equal to the number of intermediate steps + 1 output generation step.\n",
        "        # Note: The tree height is equal to `n_steps + 1`. That is, we include the root node when calculating the tree height.\n",
        "        if thought_gen_strategy in ['sample', 'propose']:\n",
        "            self.thought_gen_strategy = thought_gen_strategy\n",
        "        else:\n",
        "            raise ValueError(f\"The `thought_gen_strategy` argument must be either 'sample' or 'propose'. Couldn't recognize the following: '{thought_gen_strategy}'\")\n",
        "        self.get_thought_gen_prompt = get_thought_gen_prompt\n",
        "        if state_eval_strategy in ['vote', 'value']:\n",
        "            self.state_eval_strategy = state_eval_strategy\n",
        "        else:\n",
        "            raise ValueError(f\"The `state_eval_strategy` argument must be either 'vote' or 'value'. Couldn't recognize the following: '{state_eval_strategy}'\")\n",
        "        self.get_state_eval_prompt = get_state_eval_prompt\n",
        "        self.n_evals = n_evals # The number of times to either (i) vote on the states, or (ii) sample values for each state (depending on `state_eval_strategy`).\n",
        "        self.heuristic_calculator = heuristic_calculator\n",
        "        self.n_candidates = n_candidates # The number of thoughts to generate from a particular node. Relevant only for the 'sample' thought generation strategy.\n",
        "        self.stop_string = stop_string # Relevant only for the 'sample' thought generation strategy.\n",
        "        if self.thought_gen_strategy == 'sample':\n",
        "            assert self.stop_string is not None, \"For the 'sample' thought generation strategy, `stop_string` can't be `None` (due to the zero-shot CoT prompt template).\"\n",
        "            assert self.n_steps == 2, \"For the 'sample' thought generation strategy, `n_steps` must be equal to 2 (due to the zero-shot CoT prompt template).\"\n",
        "        self.breadth_limit = breadth_limit # The number of most promising states to retain (after pruning) - at each level of the tree. Relevant only for BFS.\n",
        "        self.heuristic_threshold = heuristic_threshold # Used to decide whether to grow/prune a subtree (starting at a particular child). Relevant only for DFS.\n",
        "        self.max_per_state = max_per_state # The maximum number of children to explore for a particular node. Relevant only for DFS.\n",
        "\n",
        "    # Reference: https://github.com/princeton-nlp/tree-of-thought-llm/blob/master/src/tot/models.py\n",
        "    def chat_completions(\n",
        "            self,\n",
        "            prompt: str,\n",
        "            temperature: float = 0.7,\n",
        "            max_tokens: int = 1000,\n",
        "            n: int = 1,\n",
        "            stop: Optional[List[str]] = None,\n",
        "            **kwargs\n",
        "    ) -> List[str]:\n",
        "        outputs = []\n",
        "        messages = [{'role': \"user\", 'content': prompt}]\n",
        "        if isinstance(self.client, OpenAI):\n",
        "            response = self.client.chat.completions.create(\n",
        "                messages=messages,\n",
        "                model=self.model,\n",
        "                temperature=temperature,\n",
        "                max_tokens=max_tokens,\n",
        "                n=n, # The `n` responses are i.i.d.\n",
        "                stop=stop,\n",
        "                **kwargs\n",
        "            )\n",
        "            outputs.extend([choice.message.content for choice in response.choices])\n",
        "        else: # `self.client` is an instance of `InferenceClient`.\n",
        "            # The Hugging Face API doesn't support the `n` argument. Hence, we need to use a loop to generate `n` i.i.d. responses.\n",
        "            for _ in range(n):\n",
        "                response = self.client.chat.completions.create(\n",
        "                    messages=messages,\n",
        "                    model=self.model,\n",
        "                    temperature=temperature,\n",
        "                    max_tokens=max_tokens,\n",
        "                    stop=stop,\n",
        "                    **kwargs\n",
        "                )\n",
        "                outputs.append(response.choices[0].message.content)\n",
        "        return outputs\n",
        "\n",
        "    def thought_generator(self, state: str, stop_string: Optional[List[str]] = None) -> List[str]:\n",
        "        prompt = self.get_thought_gen_prompt(self.input_seq, state)\n",
        "        if self.thought_gen_strategy == 'sample':\n",
        "            thoughts = self.chat_completions(prompt, n=self.n_candidates, stop=stop_string)\n",
        "            return thoughts\n",
        "        else: # `self.thought_gen_strategy` is equal to 'propose'.\n",
        "            responses = self.chat_completions(prompt, n=1)\n",
        "            thoughts = responses[0].split('\\n')\n",
        "            return thoughts\n",
        "\n",
        "    def state_evaluator(self, states: Optional[List[str]] = None, state: Optional[str] = None) -> Union[List[float], float]:\n",
        "        if self.state_eval_strategy == 'vote':\n",
        "            assert states is not None, \"For the 'vote' state evaluation strategy, `states` can't be `None`.\"\n",
        "            prompt = self.get_state_eval_prompt(self.input_seq, states)\n",
        "            state_evals = self.chat_completions(prompt, n=self.n_evals)\n",
        "            vote_results = self.heuristic_calculator(states, state_evals)\n",
        "            return vote_results\n",
        "        else: # `self.state_eval_strategy` is equal to 'value'.\n",
        "            assert state is not None, \"For the 'value' state evaluation strategy, `state` can't be `None`.\"\n",
        "            prompt = self.get_state_eval_prompt(self.input_seq, state)\n",
        "            state_evals = self.chat_completions(prompt, n=self.n_evals)\n",
        "            value = self.heuristic_calculator(state, state_evals)\n",
        "            return value\n",
        "\n",
        "    # Reference: https://github.com/princeton-nlp/tree-of-thought-llm/blob/master/src/tot/methods/bfs.py\n",
        "    def bfs(self, verbose: bool = True) -> str:\n",
        "        assert self.breadth_limit is not None, \"For the BFS search algorithm, `breadth_limit` can't be `None`.\"\n",
        "\n",
        "        queue = deque()\n",
        "        queue.append(self.root)\n",
        "\n",
        "        for step in range(1, self.n_steps + 1):\n",
        "            if verbose:\n",
        "                print(f\"Step {step} (corresponding to level {step} of the tree):-\\n---\")\n",
        "            for i in range(len(queue)):\n",
        "                node = queue.popleft()\n",
        "                if verbose:\n",
        "                    print(f\"Node {i + 1} in level {step}:-\")\n",
        "                    if node.state != \"\":\n",
        "                        print(f\"State of current node:-\\n{node.state}\\n---\")\n",
        "                    else:\n",
        "                        print(\"State of current node:-\\n<EMPTY STRING> (root node; no thoughts generated yet)\\n---\")\n",
        "\n",
        "                if self.thought_gen_strategy == 'sample' and step == 1:\n",
        "                    thoughts = self.thought_generator(state=node.state, stop_string=[self.stop_string])\n",
        "                else:\n",
        "                    thoughts = self.thought_generator(state=node.state)\n",
        "                if node.state == '':\n",
        "                    updated_states = thoughts\n",
        "                else:\n",
        "                    updated_states = [node.state + '\\n' + thought for thought in thoughts]\n",
        "                for j in range(len(thoughts)):\n",
        "                    if verbose:\n",
        "                        print(f\"Thought candidate {j + 1}:-\\n{thoughts[j]}\\n---\")\n",
        "                    child = TreeNode(state=updated_states[j], thought=thoughts[j])\n",
        "                    node.children.append(child)\n",
        "                    queue.append(child)\n",
        "\n",
        "            if verbose:\n",
        "                print(\"Using the state evaluator to obtain values...\\n---\")\n",
        "            if self.state_eval_strategy == 'vote':\n",
        "                states = [node.state for node in queue]\n",
        "                values = self.state_evaluator(states=states)\n",
        "            for i in range(len(queue)):\n",
        "                if self.state_eval_strategy == 'vote':\n",
        "                    queue[i].value = values[i]\n",
        "                else: # `self.state_eval_strategy` is equal to 'value'.\n",
        "                    queue[i].value = self.state_evaluator(state=queue[i].state)\n",
        "                if verbose:\n",
        "                    print(f\"Element {i + 1} in queue:-\\n\")\n",
        "                    print(f\"Value: {queue[i].value}\\n---\")\n",
        "\n",
        "            if verbose:\n",
        "                print(\"Initiating pruning (using the values obtained from the state evaluator).\")\n",
        "                print(f\"Number of elements in queue: {len(queue)}\")\n",
        "            sorted_nodes = sorted(queue, key=lambda node: node.value, reverse=True)\n",
        "            if step == self.n_steps:\n",
        "                if verbose:\n",
        "                    print(\"Since this is the last step, setting the breadth limit to 1.\")\n",
        "                    print(\"In other words, retaining only the highest value element (in this last step).\\n---\")\n",
        "                top_b_nodes = sorted_nodes[:1]\n",
        "            else:\n",
        "                if verbose:\n",
        "                    print(f\"Since this isn't the last step, leaving the breadth limit {self.breadth_limit} unchanged.\\n---\")\n",
        "                top_b_nodes = sorted_nodes[:self.breadth_limit]\n",
        "            top_b_states = [node.state for node in top_b_nodes]\n",
        "            for i in range(len(queue)):\n",
        "                node = queue.popleft()\n",
        "                if verbose:\n",
        "                    print(f\"Element {i + 1} in queue:-\\n\")\n",
        "                if node.state in top_b_states:\n",
        "                    if verbose:\n",
        "                        print(f\"Retaining this element as it's in the top {len(top_b_states)} elements.\\n---\")\n",
        "                    queue.append(node)\n",
        "                else:\n",
        "                    if verbose:\n",
        "                        print(f\"Dropping this element as it's not in the top {len(top_b_states)} elements.\\n---\")\n",
        "\n",
        "            if verbose:\n",
        "                print(\"~~~\")\n",
        "\n",
        "        # Return the thought of the highest value node (from the last step):\n",
        "        node = queue.popleft()\n",
        "        return node.thought\n",
        "\n",
        "    # Reference: https://github.com/princeton-nlp/tree-of-thought-llm/blob/master/scripts/crosswords/search_crosswords-dfs.ipynb\n",
        "    def dfs(self, verbose: bool = True) -> str:\n",
        "        assert self.heuristic_threshold is not None and self.max_per_state is not None, \"For the DFS search algorithm, `heuristic_threshold` and `max_per_state` can't be `None`.\"\n",
        "\n",
        "        dfs_output = None\n",
        "\n",
        "        def dfs_func(node: TreeNode, step: int) -> bool:\n",
        "            nonlocal dfs_output\n",
        "\n",
        "            if step > self.n_steps: # Base case: successful search.\n",
        "                dfs_output = node.state # Record the last (output generation) step's output in the nonlocal variable `dfs_output`.\n",
        "                return True\n",
        "\n",
        "            if verbose:\n",
        "                print(f\"Step: {step}\\n---\")\n",
        "                if node.state != \"\":\n",
        "                    print(f\"State of current node:-\\n{node.state}\\n---\")\n",
        "                else:\n",
        "                    print(\"State of current node:-\\n<EMPTY STRING> (root node; no thoughts generated yet)\\n---\")\n",
        "\n",
        "            thoughts = self.thought_generator(state=node.state)\n",
        "            if len(thoughts) == 0:\n",
        "                if verbose:\n",
        "                    print(\"No thoughts were generated. It's a dead end. Backtracking to the parent node.\\n~~~\")\n",
        "                return False\n",
        "            if node.state == '':\n",
        "                updated_states = thoughts\n",
        "            else:\n",
        "                updated_states = [node.state + '\\n' + thought for thought in thoughts]\n",
        "            for j in range(len(thoughts)):\n",
        "                if verbose:\n",
        "                    print(f\"Thought candidate {j + 1}:-\\n{thoughts[j]}\\n---\")\n",
        "                child = TreeNode(state=updated_states[j], thought=thoughts[j])\n",
        "                node.children.append(child)\n",
        "            if verbose:\n",
        "                print(\"Each of the above thought candidates has been added as a child of the current node.\\n---\")\n",
        "\n",
        "            cnt_per_state = 0\n",
        "            for child in node.children:\n",
        "                if verbose:\n",
        "                    print(\"Reminder:-\")\n",
        "                    if node.state != \"\":\n",
        "                        print(f\"State of current node:-\\n{node.state}\\n---\")\n",
        "                    else:\n",
        "                        print(\"State of current node:-\\n<EMPTY STRING> (root node; no thoughts generated yet)\\n---\")\n",
        "                    print(f\"Currently traversing child number: {cnt_per_state + 1}\\n\")\n",
        "                    print(f\"State of current child:-\\n{child.state}\\n\")\n",
        "                    print(\"Using the state evaluator to obtain value...\\n\")\n",
        "                child.value = self.state_evaluator(state=child.state)\n",
        "                if verbose:\n",
        "                    print(f\"Value of current child: {child.value}\\n---\")\n",
        "                if child.value >= self.heuristic_threshold:\n",
        "                # Note: If this `if` condition isn't met, the child node is pruned, i.e., a subtree of the child isn't grown.\n",
        "                    if verbose:\n",
        "                        print(\"Value exceeds heuristic threshold. Searching subtree.\\n---\\n~~~\")\n",
        "                    end_search = dfs_func(child, step + 1)\n",
        "                    if end_search:\n",
        "                        if verbose:\n",
        "                            print(f\"Searching the subtree was successful! Backtracking all the way up.\\n~~~\")\n",
        "                        return True\n",
        "                    else:\n",
        "                        if verbose:\n",
        "                            print(f\"Back at step {step}. Searching the subtree was unsuccessful! Trying the next child.\\n---\")\n",
        "                cnt_per_state += 1\n",
        "                if cnt_per_state >= self.max_per_state:\n",
        "                    if verbose:\n",
        "                        print(f\"{self.max_per_state} children already searched for this node. Breaking the loop.\\n---\")\n",
        "                    break\n",
        "            if verbose:\n",
        "                print(f\"None of the child nodes led to success. Seems like a dead end. Backtracking to the parent node.\\n~~~\")\n",
        "            return False\n",
        "\n",
        "        dfs_func(node=self.root, step=1)\n",
        "        return dfs_output\n",
        "\n",
        "    def generate_html_tree(self, node: TreeNode) -> str:\n",
        "        if node is None:\n",
        "            return \"\"\n",
        "        else:\n",
        "            html = f\"\"\"<div class='node'>\n",
        "<p>State:<br>{node.state}</p>\n",
        "<hr>\n",
        "<p>Thought:<br>{node.thought}</p>\n",
        "<hr>\n",
        "<p>Value:<br>{node.value}</p>\"\"\"\n",
        "            for child in node.children:\n",
        "                html += f\"\"\"<div class='child'>{self.generate_html_tree(child)}</div>\"\"\"\n",
        "            html += \"\"\"</div>\"\"\"\n",
        "            return html\n",
        "\n",
        "    def render_html_tree(self):\n",
        "        html_tree = self.generate_html_tree(self.root)\n",
        "        wrapped_html = f\"\"\"<!DOCTYPE html>\n",
        "<html>\n",
        "<head>\n",
        "    <style>\n",
        "        .node {{\n",
        "            display: inline-block;\n",
        "            border: 1px solid blue;\n",
        "            padding: 10px;\n",
        "            margin: 5px;\n",
        "            text-align: center;\n",
        "        }}\n",
        "        .child {{\n",
        "            display: flex;\n",
        "        }}\n",
        "    </style>\n",
        "</head>\n",
        "<body>\n",
        "    {html_tree}\n",
        "</body>\n",
        "</html>\"\"\"\n",
        "        display(HTML(wrapped_html))"
      ],
      "metadata": {
        "id": "wK8Nnj3oxOGI"
      },
      "execution_count": 76,
      "outputs": []
    },
    {
      "cell_type": "markdown",
      "source": [
        "To use the above class on a new task, we need to write three custom callables that work well for that task:\n",
        "\n",
        "- `get_thought_gen_prompt`\n",
        "- `get_state_eval_prompt`\n",
        "- `heuristic_calculator`\n",
        "\n",
        "Custom callables provide the flexibility needed to adapt the ToT framework for a new task.\n",
        "\n",
        "Additionally, we need to set hyperparameters that are suitable for that task. (In particular, the hyperparameters need to strike a balance between (i) how exhaustive the searches are, and (ii) the time taken, on average.) We should be able to set suitable hyperparameters using a combination of (1) our human knowledge/intuition about the task and (2) a bit of experimentation.\n",
        "\n",
        "Armed with the above, we should be able to apply the ToT paradigm on a new task."
      ],
      "metadata": {
        "id": "j5hMDDu5KD_-"
      }
    },
    {
      "cell_type": "markdown",
      "source": [
        "## Conclusion"
      ],
      "metadata": {
        "id": "XR8oyXE7KHKY"
      }
    },
    {
      "cell_type": "markdown",
      "source": [
        "The ToT paper draws inspiration from the seminal work on artificial intelligence by Newell, Shaw & Simon from the 1950s. <a href=\"http://bitsavers.informatik.uni-stuttgart.de/pdf/rand/ipl/P-1584_Report_On_A_General_Problem-Solving_Program_Feb59.pdf\" target=\"_blank\">Newell et al.</a> characterized problem solving as search through a combinatorial problem space, represented as a tree. But what's a combinatorial problem space? From the ToT paper:\n",
        "\n",
        "> \"*Research on human problem-solving suggests that people search through a combinatorial problem space – **a tree where the nodes represent partial solutions, and the branches correspond to operators that modify them**. Which branch to take is determined by heuristics that help to navigate the\n",
        "problem-space and guide the problem-solver towards a solution.*\"\n",
        "\n",
        "In other words, humans perform heuristic-guided tree search to solve many of their day-to-day problems (without realizing it).\n",
        "\n",
        "From Newell et al.:\n",
        "\n",
        "> \"*A genuine problem-solving process involves the repeated use of available information to initiate exploration, which discloses, in turn, more information until a way to attain the solution is finally discovered.*\"\n",
        "\n",
        "The ToT paper takes inspiration from the above, and demonstrates the power of combining the chain of thought (CoT) reasoning capabilities of LLMs with a heuristic-guided tree search framework.\n",
        "\n",
        "How do the results of ToT compare with CoT?\n",
        "\n",
        "On the *Creative Writing* task, two types of evaluation are performed: (i) using a GPT-4 zero-shot prompt to provide a 1-10 scalar score (*LLM-as-a-judge*), and (ii) using human judgments to compare pairs of outputs from different methods.\n",
        "\n",
        "- On (i): ToT (7.56) was deemed to generate more coherent passages than CoT (6.93) on average.\n",
        "- On (ii): It was found that humans prefer ToT over CoT in 41 out of 100 passage pairs, whereas humans prefer CoT over ToT in 21 of 100 passage pairs.The other 38 pairs were found to be 'similarly coherent'.\n",
        "\n",
        "On the *Game of 24* task, while GPT-4 with CoT prompting only solved 4% of tasks, ToT achieved a success rate of 74%. That's a huge difference!\n",
        "\n",
        "Hopefully this blog post made it a bit easier for you to understand and use the ToT paradigm. If you have any thoughts, please feel free to drop a comment!\n",
        "\n",
        "**GitHub repo:** https://github.com/sambitmukherjee/reasoning-paradigms\n",
        "\n",
        "**Acknowledgement:** I would like to thank my colleagues <a href=\"https://huggingface.co/RishuD7\" target=\"_blank\">Rishav Dash</a>, <a href=\"https://huggingface.co/IlluminatiPudding\" target=\"_blank\">Sandeep Dey</a> and <a href=\"https://huggingface.co/rahim-khan-iitg\" target=\"_blank\">Rahim Khan</a> for their valuable feedback on the Python code, and on an earlier draft of this blog post.\n",
        "\n",
        "**Contact info:** I'm reachable at sambit.mukherjee@gmail.com."
      ],
      "metadata": {
        "id": "s9qFk_zkQu7D"
      }
    },
    {
      "cell_type": "markdown",
      "source": [
        "## References"
      ],
      "metadata": {
        "id": "e2El9rsM0aSc"
      }
    },
    {
      "cell_type": "markdown",
      "source": [
        "- J. Wei, X. Wang, D. Schuurmans, M. Bosma, B. Ichter, F. Xia, E. Chi, Q. Le, and D. Zhou. Chain-of-Thought Prompting Elicits Reasoning in Large Language Models. arXiv preprint <a href=\"https://arxiv.org/abs/2201.11903\" target=\"_blank\">arXiv:2201.11903</a>, 2022.\n",
        "- T. Kojima, S. S. Gu, M. Reid, Y. Matsuo, Y. Iwasawa. Large Language Models are Zero-Shot Reasoners. arXiv preprint <a href=\"https://arxiv.org/abs/2205.11916\" target=\"_blank\">arXiv:2205.11916</a>, 2022.\n",
        "- S. Yao, D. Yu, J. Zhao, I. Shafran, T. L. Griffiths, Y. Cao, K. Narasimhan. Tree of Thoughts: Deliberate Problem Solving with Large Language Models. arXiv preprint <a href=\"https://arxiv.org/abs/2305.10601\" target=\"_blank\">arXiv:2305.10601</a>, 2023.\n",
        "- The *Tree of Thoughts* GitHub repo: https://github.com/princeton-nlp/tree-of-thought-llm\n",
        "- A. Newell, J. C. Shaw, and H. A. Simon. <a href=\"http://bitsavers.informatik.uni-stuttgart.de/pdf/rand/ipl/P-1584_Report_On_A_General_Problem-Solving_Program_Feb59.pdf\" target=\"_blank\">Report on a General Problem Solving Program</a>. In IFIP congress, volume 256, page 64. Pittsburgh, PA, 1959."
      ],
      "metadata": {
        "id": "4H-H0rUn0b43"
      }
    },
    {
      "cell_type": "code",
      "source": [],
      "metadata": {
        "id": "gacaAqKYswgz"
      },
      "execution_count": null,
      "outputs": []
    }
  ]
}